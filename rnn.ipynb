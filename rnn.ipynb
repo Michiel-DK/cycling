{
 "cells": [
  {
   "cell_type": "code",
   "execution_count": 91,
   "metadata": {},
   "outputs": [],
   "source": [
    "import pandas as pd\n",
    "import numpy as np\n",
    "import torch"
   ]
  },
  {
   "cell_type": "code",
   "execution_count": 92,
   "metadata": {},
   "outputs": [],
   "source": [
    "X = torch.load('torch_data/X_padded.pt')\n",
    "y = torch.load('torch_data/y_padded.pt')"
   ]
  },
  {
   "cell_type": "code",
   "execution_count": 93,
   "metadata": {},
   "outputs": [
    {
     "data": {
      "text/plain": [
       "((36268, 4, 60), (36268, 1, 60))"
      ]
     },
     "execution_count": 93,
     "metadata": {},
     "output_type": "execute_result"
    }
   ],
   "source": [
    "X.shape, y.shape"
   ]
  },
  {
   "cell_type": "code",
   "execution_count": 65,
   "metadata": {},
   "outputs": [],
   "source": [
    "y[y == 0.] = 99999\n",
    "y[y < 9999.] = 1\n",
    "y[y > 9999.] = 0"
   ]
  },
  {
   "cell_type": "code",
   "execution_count": 103,
   "metadata": {},
   "outputs": [
    {
     "data": {
      "text/plain": [
       "array([[ 148. ,  168. ,  184. ,  173. ,  162. ,  189.5,  182.5,  163.5,\n",
       "         195. ,  139.5,  140.5,  144.5,  156. ,  185. ,  198. ,  160.5,\n",
       "         183. ,  191. ,  168. ,  141. ,  153. ,  168.5,  166.5,  218. ,\n",
       "         191.5,  194. ,  174.5,  164. ,  170. ,  175. ,  166.5,   36.2,\n",
       "         122. , 9999. , 9999. , 9999. , 9999. , 9999. , 9999. , 9999. ,\n",
       "        9999. , 9999. , 9999. , 9999. , 9999. , 9999. , 9999. , 9999. ,\n",
       "        9999. , 9999. , 9999. , 9999. , 9999. , 9999. , 9999. , 9999. ,\n",
       "        9999. , 9999. , 9999. , 9999. ],\n",
       "       [  33. ,  125. ,  157. ,   18. ,  152. ,   49. ,   32. ,  299. ,\n",
       "          67. ,   63. ,  234. ,  383. ,   46. ,  188. ,   81. ,  200. ,\n",
       "          31. ,  227. ,   47. ,  295. ,  239. ,   18. ,   13. ,  142. ,\n",
       "         302. ,   73. ,  390. ,  250. ,  444. ,  314. ,   77. ,  135. ,\n",
       "          11. , 9999. , 9999. , 9999. , 9999. , 9999. , 9999. , 9999. ,\n",
       "        9999. , 9999. , 9999. , 9999. , 9999. , 9999. , 9999. , 9999. ,\n",
       "        9999. , 9999. , 9999. , 9999. , 9999. , 9999. , 9999. , 9999. ,\n",
       "        9999. , 9999. , 9999. , 9999. ],\n",
       "       [1556. , 2770. , 1555. ,  541. , 1408. , 2346. , 2104. , 3977. ,\n",
       "        1973. , 1679. , 3386. , 3634. , 1597. , 4066. , 3003. , 3200. ,\n",
       "        1388. , 3087. , 2011. , 3821. , 3500. ,  531. , 1008. , 3389. ,\n",
       "        4459. , 2646. , 3724. , 3903. , 4430. , 5166. , 2208. ,  962. ,\n",
       "         816. , 9999. , 9999. , 9999. , 9999. , 9999. , 9999. , 9999. ,\n",
       "        9999. , 9999. , 9999. , 9999. , 9999. , 9999. , 9999. , 9999. ,\n",
       "        9999. , 9999. , 9999. , 9999. , 9999. , 9999. , 9999. , 9999. ,\n",
       "        9999. , 9999. , 9999. , 9999. ],\n",
       "       [ 746. ,  746. ,  746. ,  746. ,  746. ,  496. ,  496. ,  496. ,\n",
       "         496. ,  478. ,  478. ,  478. , 1685. , 1685. , 1685. , 1685. ,\n",
       "        1685. , 1685. , 1685. , 1685. , 1685. , 1685. , 1685. , 1685. ,\n",
       "        1685. , 1685. , 1685. , 1685. , 1685. , 1685. , 1685. , 1685. ,\n",
       "        1685. , 9999. , 9999. , 9999. , 9999. , 9999. , 9999. , 9999. ,\n",
       "        9999. , 9999. , 9999. , 9999. , 9999. , 9999. , 9999. , 9999. ,\n",
       "        9999. , 9999. , 9999. , 9999. , 9999. , 9999. , 9999. , 9999. ,\n",
       "        9999. , 9999. , 9999. , 9999. ]])"
      ]
     },
     "execution_count": 103,
     "metadata": {},
     "output_type": "execute_result"
    }
   ],
   "source": [
    "X[0]"
   ]
  },
  {
   "cell_type": "code",
   "execution_count": 68,
   "metadata": {},
   "outputs": [],
   "source": [
    "from tensorflow.keras import models\n",
    "from tensorflow.keras import layers\n",
    "from tensorflow.keras import optimizers, metrics\n",
    "from tensorflow.keras.layers.experimental.preprocessing import Normalization"
   ]
  },
  {
   "cell_type": "code",
   "execution_count": 99,
   "metadata": {},
   "outputs": [],
   "source": [
    "def init_model():\n",
    "    metric = metrics.MAPE\n",
    "    opt = optimizers.RMSprop(learning_rate=0.01)\n",
    "    \n",
    "    #normalizer = Normalization()\n",
    "    #normalizer.adapt(X)\n",
    "    \n",
    "    model = models.Sequential()\n",
    "    model.add(layers.Masking(mask_value=9999., input_shape=(4,60)))\n",
    "    #model.add(normalizer)\n",
    "    model.add(layers.LSTM(20, return_sequences=True, activation='tanh'))\n",
    "    model.add(layers.LSTM(10, return_sequences=True, activation='tanh'))\n",
    "    model.add(layers.Dense(50, activation='relu'))\n",
    "    model.add(layers.Dense(1, activation='linear'))\n",
    "    \n",
    "    model.compile(loss='mse',\n",
    "                  optimizer=opt,\n",
    "                  metrics = [metric])\n",
    "    \n",
    "    return model"
   ]
  },
  {
   "cell_type": "code",
   "execution_count": 100,
   "metadata": {},
   "outputs": [
    {
     "name": "stdout",
     "output_type": "stream",
     "text": [
      "Model: \"sequential_14\"\n",
      "_________________________________________________________________\n",
      " Layer (type)                Output Shape              Param #   \n",
      "=================================================================\n",
      " masking_14 (Masking)        (None, 4, 60)             0         \n",
      "                                                                 \n",
      " normalization_14 (Normaliza  (None, 4, 60)            121       \n",
      " tion)                                                           \n",
      "                                                                 \n",
      " lstm_23 (LSTM)              (None, 4, 20)             6480      \n",
      "                                                                 \n",
      " lstm_24 (LSTM)              (None, 4, 10)             1240      \n",
      "                                                                 \n",
      " dense_28 (Dense)            (None, 4, 50)             550       \n",
      "                                                                 \n",
      " dense_29 (Dense)            (None, 4, 1)              51        \n",
      "                                                                 \n",
      "=================================================================\n",
      "Total params: 8,442\n",
      "Trainable params: 8,321\n",
      "Non-trainable params: 121\n",
      "_________________________________________________________________\n"
     ]
    }
   ],
   "source": [
    "model.summary()"
   ]
  },
  {
   "cell_type": "code",
   "execution_count": 101,
   "metadata": {},
   "outputs": [
    {
     "name": "stdout",
     "output_type": "stream",
     "text": [
      "Epoch 1/100\n",
      "454/454 - 8s - loss: 28153326.0000 - mean_absolute_percentage_error: 1019195424768.0000 - val_loss: 26917756.0000 - val_mean_absolute_percentage_error: 1405440360448.0000 - 8s/epoch - 18ms/step\n",
      "Epoch 2/100\n",
      "454/454 - 2s - loss: 22480124.0000 - mean_absolute_percentage_error: 1853998366720.0000 - val_loss: 26321518.0000 - val_mean_absolute_percentage_error: 1359383363584.0000 - 2s/epoch - 4ms/step\n",
      "Epoch 3/100\n",
      "454/454 - 2s - loss: 22309942.0000 - mean_absolute_percentage_error: 1856004816896.0000 - val_loss: 27691404.0000 - val_mean_absolute_percentage_error: 1231883993088.0000 - 2s/epoch - 4ms/step\n",
      "Epoch 4/100\n",
      "454/454 - 2s - loss: 22268834.0000 - mean_absolute_percentage_error: 1849241501696.0000 - val_loss: 26185442.0000 - val_mean_absolute_percentage_error: 1354163290112.0000 - 2s/epoch - 4ms/step\n",
      "Epoch 5/100\n",
      "454/454 - 2s - loss: 22234144.0000 - mean_absolute_percentage_error: 1849094701056.0000 - val_loss: 25897962.0000 - val_mean_absolute_percentage_error: 1379234611200.0000 - 2s/epoch - 4ms/step\n",
      "Epoch 6/100\n",
      "454/454 - 2s - loss: 22217576.0000 - mean_absolute_percentage_error: 1854116986880.0000 - val_loss: 26266296.0000 - val_mean_absolute_percentage_error: 1344456884224.0000 - 2s/epoch - 4ms/step\n",
      "Epoch 7/100\n"
     ]
    },
    {
     "ename": "KeyboardInterrupt",
     "evalue": "",
     "output_type": "error",
     "traceback": [
      "\u001b[0;31m---------------------------------------------------------------------------\u001b[0m",
      "\u001b[0;31mKeyboardInterrupt\u001b[0m                         Traceback (most recent call last)",
      "\u001b[1;32m/Users/michieldekoninck/code/Michiel-DK/cycling/rnn.ipynb Cell 9\u001b[0m in \u001b[0;36m<cell line: 6>\u001b[0;34m()\u001b[0m\n\u001b[1;32m      <a href='vscode-notebook-cell:/Users/michieldekoninck/code/Michiel-DK/cycling/rnn.ipynb#ch0000017?line=1'>2</a>\u001b[0m es \u001b[39m=\u001b[39m EarlyStopping(monitor\u001b[39m=\u001b[39m\u001b[39m'\u001b[39m\u001b[39mval_loss\u001b[39m\u001b[39m'\u001b[39m, verbose\u001b[39m=\u001b[39m\u001b[39m1\u001b[39m, patience\u001b[39m=\u001b[39m\u001b[39m10\u001b[39m, restore_best_weights\u001b[39m=\u001b[39m\u001b[39mTrue\u001b[39;00m)\n\u001b[1;32m      <a href='vscode-notebook-cell:/Users/michieldekoninck/code/Michiel-DK/cycling/rnn.ipynb#ch0000017?line=3'>4</a>\u001b[0m model \u001b[39m=\u001b[39m init_model()\n\u001b[0;32m----> <a href='vscode-notebook-cell:/Users/michieldekoninck/code/Michiel-DK/cycling/rnn.ipynb#ch0000017?line=5'>6</a>\u001b[0m history \u001b[39m=\u001b[39m model\u001b[39m.\u001b[39;49mfit(X, y, epochs\u001b[39m=\u001b[39;49m\u001b[39m100\u001b[39;49m, validation_split\u001b[39m=\u001b[39;49m\u001b[39m0.2\u001b[39;49m, \n\u001b[1;32m      <a href='vscode-notebook-cell:/Users/michieldekoninck/code/Michiel-DK/cycling/rnn.ipynb#ch0000017?line=6'>7</a>\u001b[0m             batch_size\u001b[39m=\u001b[39;49m\u001b[39m64\u001b[39;49m,\n\u001b[1;32m      <a href='vscode-notebook-cell:/Users/michieldekoninck/code/Michiel-DK/cycling/rnn.ipynb#ch0000017?line=7'>8</a>\u001b[0m             callbacks\u001b[39m=\u001b[39;49m[es], verbose\u001b[39m=\u001b[39;49m\u001b[39m2\u001b[39;49m)\n",
      "File \u001b[0;32m~/.pyenv/versions/3.8.12/envs/boonen/lib/python3.8/site-packages/keras/utils/traceback_utils.py:64\u001b[0m, in \u001b[0;36mfilter_traceback.<locals>.error_handler\u001b[0;34m(*args, **kwargs)\u001b[0m\n\u001b[1;32m     62\u001b[0m filtered_tb \u001b[39m=\u001b[39m \u001b[39mNone\u001b[39;00m\n\u001b[1;32m     63\u001b[0m \u001b[39mtry\u001b[39;00m:\n\u001b[0;32m---> 64\u001b[0m   \u001b[39mreturn\u001b[39;00m fn(\u001b[39m*\u001b[39;49margs, \u001b[39m*\u001b[39;49m\u001b[39m*\u001b[39;49mkwargs)\n\u001b[1;32m     65\u001b[0m \u001b[39mexcept\u001b[39;00m \u001b[39mException\u001b[39;00m \u001b[39mas\u001b[39;00m e:  \u001b[39m# pylint: disable=broad-except\u001b[39;00m\n\u001b[1;32m     66\u001b[0m   filtered_tb \u001b[39m=\u001b[39m _process_traceback_frames(e\u001b[39m.\u001b[39m__traceback__)\n",
      "File \u001b[0;32m~/.pyenv/versions/3.8.12/envs/boonen/lib/python3.8/site-packages/keras/engine/training.py:1384\u001b[0m, in \u001b[0;36mModel.fit\u001b[0;34m(self, x, y, batch_size, epochs, verbose, callbacks, validation_split, validation_data, shuffle, class_weight, sample_weight, initial_epoch, steps_per_epoch, validation_steps, validation_batch_size, validation_freq, max_queue_size, workers, use_multiprocessing)\u001b[0m\n\u001b[1;32m   1377\u001b[0m \u001b[39mwith\u001b[39;00m tf\u001b[39m.\u001b[39mprofiler\u001b[39m.\u001b[39mexperimental\u001b[39m.\u001b[39mTrace(\n\u001b[1;32m   1378\u001b[0m     \u001b[39m'\u001b[39m\u001b[39mtrain\u001b[39m\u001b[39m'\u001b[39m,\n\u001b[1;32m   1379\u001b[0m     epoch_num\u001b[39m=\u001b[39mepoch,\n\u001b[1;32m   1380\u001b[0m     step_num\u001b[39m=\u001b[39mstep,\n\u001b[1;32m   1381\u001b[0m     batch_size\u001b[39m=\u001b[39mbatch_size,\n\u001b[1;32m   1382\u001b[0m     _r\u001b[39m=\u001b[39m\u001b[39m1\u001b[39m):\n\u001b[1;32m   1383\u001b[0m   callbacks\u001b[39m.\u001b[39mon_train_batch_begin(step)\n\u001b[0;32m-> 1384\u001b[0m   tmp_logs \u001b[39m=\u001b[39m \u001b[39mself\u001b[39;49m\u001b[39m.\u001b[39;49mtrain_function(iterator)\n\u001b[1;32m   1385\u001b[0m   \u001b[39mif\u001b[39;00m data_handler\u001b[39m.\u001b[39mshould_sync:\n\u001b[1;32m   1386\u001b[0m     context\u001b[39m.\u001b[39masync_wait()\n",
      "File \u001b[0;32m~/.pyenv/versions/3.8.12/envs/boonen/lib/python3.8/site-packages/tensorflow/python/util/traceback_utils.py:150\u001b[0m, in \u001b[0;36mfilter_traceback.<locals>.error_handler\u001b[0;34m(*args, **kwargs)\u001b[0m\n\u001b[1;32m    148\u001b[0m filtered_tb \u001b[39m=\u001b[39m \u001b[39mNone\u001b[39;00m\n\u001b[1;32m    149\u001b[0m \u001b[39mtry\u001b[39;00m:\n\u001b[0;32m--> 150\u001b[0m   \u001b[39mreturn\u001b[39;00m fn(\u001b[39m*\u001b[39;49margs, \u001b[39m*\u001b[39;49m\u001b[39m*\u001b[39;49mkwargs)\n\u001b[1;32m    151\u001b[0m \u001b[39mexcept\u001b[39;00m \u001b[39mException\u001b[39;00m \u001b[39mas\u001b[39;00m e:\n\u001b[1;32m    152\u001b[0m   filtered_tb \u001b[39m=\u001b[39m _process_traceback_frames(e\u001b[39m.\u001b[39m__traceback__)\n",
      "File \u001b[0;32m~/.pyenv/versions/3.8.12/envs/boonen/lib/python3.8/site-packages/tensorflow/python/eager/def_function.py:915\u001b[0m, in \u001b[0;36mFunction.__call__\u001b[0;34m(self, *args, **kwds)\u001b[0m\n\u001b[1;32m    912\u001b[0m compiler \u001b[39m=\u001b[39m \u001b[39m\"\u001b[39m\u001b[39mxla\u001b[39m\u001b[39m\"\u001b[39m \u001b[39mif\u001b[39;00m \u001b[39mself\u001b[39m\u001b[39m.\u001b[39m_jit_compile \u001b[39melse\u001b[39;00m \u001b[39m\"\u001b[39m\u001b[39mnonXla\u001b[39m\u001b[39m\"\u001b[39m\n\u001b[1;32m    914\u001b[0m \u001b[39mwith\u001b[39;00m OptionalXlaContext(\u001b[39mself\u001b[39m\u001b[39m.\u001b[39m_jit_compile):\n\u001b[0;32m--> 915\u001b[0m   result \u001b[39m=\u001b[39m \u001b[39mself\u001b[39;49m\u001b[39m.\u001b[39;49m_call(\u001b[39m*\u001b[39;49margs, \u001b[39m*\u001b[39;49m\u001b[39m*\u001b[39;49mkwds)\n\u001b[1;32m    917\u001b[0m new_tracing_count \u001b[39m=\u001b[39m \u001b[39mself\u001b[39m\u001b[39m.\u001b[39mexperimental_get_tracing_count()\n\u001b[1;32m    918\u001b[0m without_tracing \u001b[39m=\u001b[39m (tracing_count \u001b[39m==\u001b[39m new_tracing_count)\n",
      "File \u001b[0;32m~/.pyenv/versions/3.8.12/envs/boonen/lib/python3.8/site-packages/tensorflow/python/eager/def_function.py:947\u001b[0m, in \u001b[0;36mFunction._call\u001b[0;34m(self, *args, **kwds)\u001b[0m\n\u001b[1;32m    944\u001b[0m   \u001b[39mself\u001b[39m\u001b[39m.\u001b[39m_lock\u001b[39m.\u001b[39mrelease()\n\u001b[1;32m    945\u001b[0m   \u001b[39m# In this case we have created variables on the first call, so we run the\u001b[39;00m\n\u001b[1;32m    946\u001b[0m   \u001b[39m# defunned version which is guaranteed to never create variables.\u001b[39;00m\n\u001b[0;32m--> 947\u001b[0m   \u001b[39mreturn\u001b[39;00m \u001b[39mself\u001b[39;49m\u001b[39m.\u001b[39;49m_stateless_fn(\u001b[39m*\u001b[39;49margs, \u001b[39m*\u001b[39;49m\u001b[39m*\u001b[39;49mkwds)  \u001b[39m# pylint: disable=not-callable\u001b[39;00m\n\u001b[1;32m    948\u001b[0m \u001b[39melif\u001b[39;00m \u001b[39mself\u001b[39m\u001b[39m.\u001b[39m_stateful_fn \u001b[39mis\u001b[39;00m \u001b[39mnot\u001b[39;00m \u001b[39mNone\u001b[39;00m:\n\u001b[1;32m    949\u001b[0m   \u001b[39m# Release the lock early so that multiple threads can perform the call\u001b[39;00m\n\u001b[1;32m    950\u001b[0m   \u001b[39m# in parallel.\u001b[39;00m\n\u001b[1;32m    951\u001b[0m   \u001b[39mself\u001b[39m\u001b[39m.\u001b[39m_lock\u001b[39m.\u001b[39mrelease()\n",
      "File \u001b[0;32m~/.pyenv/versions/3.8.12/envs/boonen/lib/python3.8/site-packages/tensorflow/python/eager/function.py:2956\u001b[0m, in \u001b[0;36mFunction.__call__\u001b[0;34m(self, *args, **kwargs)\u001b[0m\n\u001b[1;32m   2953\u001b[0m \u001b[39mwith\u001b[39;00m \u001b[39mself\u001b[39m\u001b[39m.\u001b[39m_lock:\n\u001b[1;32m   2954\u001b[0m   (graph_function,\n\u001b[1;32m   2955\u001b[0m    filtered_flat_args) \u001b[39m=\u001b[39m \u001b[39mself\u001b[39m\u001b[39m.\u001b[39m_maybe_define_function(args, kwargs)\n\u001b[0;32m-> 2956\u001b[0m \u001b[39mreturn\u001b[39;00m graph_function\u001b[39m.\u001b[39;49m_call_flat(\n\u001b[1;32m   2957\u001b[0m     filtered_flat_args, captured_inputs\u001b[39m=\u001b[39;49mgraph_function\u001b[39m.\u001b[39;49mcaptured_inputs)\n",
      "File \u001b[0;32m~/.pyenv/versions/3.8.12/envs/boonen/lib/python3.8/site-packages/tensorflow/python/eager/function.py:1853\u001b[0m, in \u001b[0;36mConcreteFunction._call_flat\u001b[0;34m(self, args, captured_inputs, cancellation_manager)\u001b[0m\n\u001b[1;32m   1849\u001b[0m possible_gradient_type \u001b[39m=\u001b[39m gradients_util\u001b[39m.\u001b[39mPossibleTapeGradientTypes(args)\n\u001b[1;32m   1850\u001b[0m \u001b[39mif\u001b[39;00m (possible_gradient_type \u001b[39m==\u001b[39m gradients_util\u001b[39m.\u001b[39mPOSSIBLE_GRADIENT_TYPES_NONE\n\u001b[1;32m   1851\u001b[0m     \u001b[39mand\u001b[39;00m executing_eagerly):\n\u001b[1;32m   1852\u001b[0m   \u001b[39m# No tape is watching; skip to running the function.\u001b[39;00m\n\u001b[0;32m-> 1853\u001b[0m   \u001b[39mreturn\u001b[39;00m \u001b[39mself\u001b[39m\u001b[39m.\u001b[39m_build_call_outputs(\u001b[39mself\u001b[39;49m\u001b[39m.\u001b[39;49m_inference_function\u001b[39m.\u001b[39;49mcall(\n\u001b[1;32m   1854\u001b[0m       ctx, args, cancellation_manager\u001b[39m=\u001b[39;49mcancellation_manager))\n\u001b[1;32m   1855\u001b[0m forward_backward \u001b[39m=\u001b[39m \u001b[39mself\u001b[39m\u001b[39m.\u001b[39m_select_forward_and_backward_functions(\n\u001b[1;32m   1856\u001b[0m     args,\n\u001b[1;32m   1857\u001b[0m     possible_gradient_type,\n\u001b[1;32m   1858\u001b[0m     executing_eagerly)\n\u001b[1;32m   1859\u001b[0m forward_function, args_with_tangents \u001b[39m=\u001b[39m forward_backward\u001b[39m.\u001b[39mforward()\n",
      "File \u001b[0;32m~/.pyenv/versions/3.8.12/envs/boonen/lib/python3.8/site-packages/tensorflow/python/eager/function.py:499\u001b[0m, in \u001b[0;36m_EagerDefinedFunction.call\u001b[0;34m(self, ctx, args, cancellation_manager)\u001b[0m\n\u001b[1;32m    497\u001b[0m \u001b[39mwith\u001b[39;00m _InterpolateFunctionError(\u001b[39mself\u001b[39m):\n\u001b[1;32m    498\u001b[0m   \u001b[39mif\u001b[39;00m cancellation_manager \u001b[39mis\u001b[39;00m \u001b[39mNone\u001b[39;00m:\n\u001b[0;32m--> 499\u001b[0m     outputs \u001b[39m=\u001b[39m execute\u001b[39m.\u001b[39;49mexecute(\n\u001b[1;32m    500\u001b[0m         \u001b[39mstr\u001b[39;49m(\u001b[39mself\u001b[39;49m\u001b[39m.\u001b[39;49msignature\u001b[39m.\u001b[39;49mname),\n\u001b[1;32m    501\u001b[0m         num_outputs\u001b[39m=\u001b[39;49m\u001b[39mself\u001b[39;49m\u001b[39m.\u001b[39;49m_num_outputs,\n\u001b[1;32m    502\u001b[0m         inputs\u001b[39m=\u001b[39;49margs,\n\u001b[1;32m    503\u001b[0m         attrs\u001b[39m=\u001b[39;49mattrs,\n\u001b[1;32m    504\u001b[0m         ctx\u001b[39m=\u001b[39;49mctx)\n\u001b[1;32m    505\u001b[0m   \u001b[39melse\u001b[39;00m:\n\u001b[1;32m    506\u001b[0m     outputs \u001b[39m=\u001b[39m execute\u001b[39m.\u001b[39mexecute_with_cancellation(\n\u001b[1;32m    507\u001b[0m         \u001b[39mstr\u001b[39m(\u001b[39mself\u001b[39m\u001b[39m.\u001b[39msignature\u001b[39m.\u001b[39mname),\n\u001b[1;32m    508\u001b[0m         num_outputs\u001b[39m=\u001b[39m\u001b[39mself\u001b[39m\u001b[39m.\u001b[39m_num_outputs,\n\u001b[0;32m   (...)\u001b[0m\n\u001b[1;32m    511\u001b[0m         ctx\u001b[39m=\u001b[39mctx,\n\u001b[1;32m    512\u001b[0m         cancellation_manager\u001b[39m=\u001b[39mcancellation_manager)\n",
      "File \u001b[0;32m~/.pyenv/versions/3.8.12/envs/boonen/lib/python3.8/site-packages/tensorflow/python/eager/execute.py:54\u001b[0m, in \u001b[0;36mquick_execute\u001b[0;34m(op_name, num_outputs, inputs, attrs, ctx, name)\u001b[0m\n\u001b[1;32m     52\u001b[0m \u001b[39mtry\u001b[39;00m:\n\u001b[1;32m     53\u001b[0m   ctx\u001b[39m.\u001b[39mensure_initialized()\n\u001b[0;32m---> 54\u001b[0m   tensors \u001b[39m=\u001b[39m pywrap_tfe\u001b[39m.\u001b[39;49mTFE_Py_Execute(ctx\u001b[39m.\u001b[39;49m_handle, device_name, op_name,\n\u001b[1;32m     55\u001b[0m                                       inputs, attrs, num_outputs)\n\u001b[1;32m     56\u001b[0m \u001b[39mexcept\u001b[39;00m core\u001b[39m.\u001b[39m_NotOkStatusException \u001b[39mas\u001b[39;00m e:\n\u001b[1;32m     57\u001b[0m   \u001b[39mif\u001b[39;00m name \u001b[39mis\u001b[39;00m \u001b[39mnot\u001b[39;00m \u001b[39mNone\u001b[39;00m:\n",
      "\u001b[0;31mKeyboardInterrupt\u001b[0m: "
     ]
    }
   ],
   "source": [
    "from tensorflow.keras.callbacks import EarlyStopping\n",
    "es = EarlyStopping(monitor='val_loss', verbose=1, patience=10, restore_best_weights=True)\n",
    "\n",
    "model = init_model()\n",
    "\n",
    "history = model.fit(X, y, epochs=100, validation_split=0.2, \n",
    "            batch_size=64,\n",
    "            callbacks=[es], verbose=2)"
   ]
  },
  {
   "cell_type": "code",
   "execution_count": 49,
   "metadata": {},
   "outputs": [
    {
     "data": {
      "text/plain": [
       "{'loss': [34356968.0,\n",
       "  24494996.0,\n",
       "  16713496.0,\n",
       "  15075442.0,\n",
       "  15033100.0,\n",
       "  15030301.0,\n",
       "  15029687.0,\n",
       "  15029394.0,\n",
       "  15029253.0,\n",
       "  15029116.0,\n",
       "  15029027.0,\n",
       "  15028953.0,\n",
       "  15028918.0,\n",
       "  15028885.0,\n",
       "  15028829.0,\n",
       "  15028805.0,\n",
       "  15028790.0],\n",
       " 'mean_squared_error': [34356968.0,\n",
       "  24494996.0,\n",
       "  16713496.0,\n",
       "  15075442.0,\n",
       "  15033100.0,\n",
       "  15030301.0,\n",
       "  15029687.0,\n",
       "  15029394.0,\n",
       "  15029253.0,\n",
       "  15029116.0,\n",
       "  15029027.0,\n",
       "  15028953.0,\n",
       "  15028918.0,\n",
       "  15028885.0,\n",
       "  15028829.0,\n",
       "  15028805.0,\n",
       "  15028790.0],\n",
       " 'val_loss': [45338640.0,\n",
       "  26658382.0,\n",
       "  17907072.0,\n",
       "  17456198.0,\n",
       "  17448940.0,\n",
       "  17440516.0,\n",
       "  17439674.0,\n",
       "  17450650.0,\n",
       "  17441042.0,\n",
       "  17441914.0,\n",
       "  17440762.0,\n",
       "  17439960.0,\n",
       "  17440532.0,\n",
       "  17440828.0,\n",
       "  17439944.0,\n",
       "  17439718.0,\n",
       "  17440314.0],\n",
       " 'val_mean_squared_error': [45338640.0,\n",
       "  26658382.0,\n",
       "  17907072.0,\n",
       "  17456198.0,\n",
       "  17448940.0,\n",
       "  17440516.0,\n",
       "  17439674.0,\n",
       "  17450650.0,\n",
       "  17441042.0,\n",
       "  17441914.0,\n",
       "  17440762.0,\n",
       "  17439960.0,\n",
       "  17440532.0,\n",
       "  17440828.0,\n",
       "  17439944.0,\n",
       "  17439718.0,\n",
       "  17440314.0]}"
      ]
     },
     "execution_count": 49,
     "metadata": {},
     "output_type": "execute_result"
    }
   ],
   "source": [
    "history.history"
   ]
  },
  {
   "cell_type": "code",
   "execution_count": 59,
   "metadata": {},
   "outputs": [
    {
     "data": {
      "text/plain": [
       "[<matplotlib.lines.Line2D at 0x1984ce370>]"
      ]
     },
     "execution_count": 59,
     "metadata": {},
     "output_type": "execute_result"
    },
    {
     "data": {
      "image/png": "[encoded data removed]",
      "text/plain": [
       "<Figure size 432x288 with 1 Axes>"
      ]
     },
     "metadata": {
      "needs_background": "light"
     },
     "output_type": "display_data"
    }
   ],
   "source": [
    "import matplotlib.pyplot as plt\n",
    "plt.plot(history.history['mean_squared_error'])\n",
    "plt.plot(history.history['val_mean_squared_error'])"
   ]
  },
  {
   "cell_type": "code",
   "execution_count": 51,
   "metadata": {},
   "outputs": [
    {
     "data": {
      "text/html": [
       "<div>\n",
       "<style scoped>\n",
       "    .dataframe tbody tr th:only-of-type {\n",
       "        vertical-align: middle;\n",
       "    }\n",
       "\n",
       "    .dataframe tbody tr th {\n",
       "        vertical-align: top;\n",
       "    }\n",
       "\n",
       "    .dataframe thead th {\n",
       "        text-align: right;\n",
       "    }\n",
       "</style>\n",
       "<table border=\"1\" class=\"dataframe\">\n",
       "  <thead>\n",
       "    <tr style=\"text-align: right;\">\n",
       "      <th></th>\n",
       "      <th>name</th>\n",
       "      <th>year</th>\n",
       "      <th>type</th>\n",
       "      <th>date</th>\n",
       "      <th>result</th>\n",
       "      <th>gc</th>\n",
       "      <th>icon</th>\n",
       "      <th>race_ref</th>\n",
       "      <th>race_name</th>\n",
       "      <th>race_detail</th>\n",
       "      <th>...</th>\n",
       "      <th>distance</th>\n",
       "      <th>points</th>\n",
       "      <th>Avg. speed winner:</th>\n",
       "      <th>Distance:</th>\n",
       "      <th>Parcours type:</th>\n",
       "      <th>ProfileScore:</th>\n",
       "      <th>Vert. meters:</th>\n",
       "      <th>Startlist quality score:</th>\n",
       "      <th>Won how:</th>\n",
       "      <th>adjusted_points</th>\n",
       "    </tr>\n",
       "  </thead>\n",
       "  <tbody>\n",
       "    <tr>\n",
       "      <th>0</th>\n",
       "      <td>egan-bernal</td>\n",
       "      <td>2020</td>\n",
       "      <td>etappe</td>\n",
       "      <td>2020-09-16</td>\n",
       "      <td>0</td>\n",
       "      <td>NaN</td>\n",
       "      <td>stage</td>\n",
       "      <td>race/tour-de-france/2020/stage-17</td>\n",
       "      <td>tour-de-france</td>\n",
       "      <td>Stage 17 - Grenoble › Méribel - Col de la Loze</td>\n",
       "      <td>...</td>\n",
       "      <td>170.0</td>\n",
       "      <td>0.0</td>\n",
       "      <td>35.28</td>\n",
       "      <td>170.0</td>\n",
       "      <td>mo_mo</td>\n",
       "      <td>444.0</td>\n",
       "      <td>4430.0</td>\n",
       "      <td>1685</td>\n",
       "      <td>3.5 km solo</td>\n",
       "      <td>0.0</td>\n",
       "    </tr>\n",
       "    <tr>\n",
       "      <th>1</th>\n",
       "      <td>andrey-amador</td>\n",
       "      <td>2020</td>\n",
       "      <td>etappe</td>\n",
       "      <td>2020-09-16</td>\n",
       "      <td>117</td>\n",
       "      <td>79.0</td>\n",
       "      <td>stage</td>\n",
       "      <td>race/tour-de-france/2020/stage-17</td>\n",
       "      <td>tour-de-france</td>\n",
       "      <td>Stage 17 - Grenoble › Méribel - Col de la Loze</td>\n",
       "      <td>...</td>\n",
       "      <td>170.0</td>\n",
       "      <td>0.0</td>\n",
       "      <td>35.28</td>\n",
       "      <td>170.0</td>\n",
       "      <td>mo_mo</td>\n",
       "      <td>444.0</td>\n",
       "      <td>4430.0</td>\n",
       "      <td>1685</td>\n",
       "      <td>3.5 km solo</td>\n",
       "      <td>0.0</td>\n",
       "    </tr>\n",
       "    <tr>\n",
       "      <th>2</th>\n",
       "      <td>richard-carapaz</td>\n",
       "      <td>2020</td>\n",
       "      <td>etappe</td>\n",
       "      <td>2020-09-16</td>\n",
       "      <td>11</td>\n",
       "      <td>13.0</td>\n",
       "      <td>stage</td>\n",
       "      <td>race/tour-de-france/2020/stage-17</td>\n",
       "      <td>tour-de-france</td>\n",
       "      <td>Stage 17 - Grenoble › Méribel - Col de la Loze</td>\n",
       "      <td>...</td>\n",
       "      <td>170.0</td>\n",
       "      <td>20.0</td>\n",
       "      <td>35.28</td>\n",
       "      <td>170.0</td>\n",
       "      <td>mo_mo</td>\n",
       "      <td>444.0</td>\n",
       "      <td>4430.0</td>\n",
       "      <td>1685</td>\n",
       "      <td>3.5 km solo</td>\n",
       "      <td>14962800.0</td>\n",
       "    </tr>\n",
       "    <tr>\n",
       "      <th>3</th>\n",
       "      <td>jonathan-castroviejo</td>\n",
       "      <td>2020</td>\n",
       "      <td>etappe</td>\n",
       "      <td>2020-09-16</td>\n",
       "      <td>116</td>\n",
       "      <td>40.0</td>\n",
       "      <td>stage</td>\n",
       "      <td>race/tour-de-france/2020/stage-17</td>\n",
       "      <td>tour-de-france</td>\n",
       "      <td>Stage 17 - Grenoble › Méribel - Col de la Loze</td>\n",
       "      <td>...</td>\n",
       "      <td>170.0</td>\n",
       "      <td>0.0</td>\n",
       "      <td>35.28</td>\n",
       "      <td>170.0</td>\n",
       "      <td>mo_mo</td>\n",
       "      <td>444.0</td>\n",
       "      <td>4430.0</td>\n",
       "      <td>1685</td>\n",
       "      <td>3.5 km solo</td>\n",
       "      <td>0.0</td>\n",
       "    </tr>\n",
       "    <tr>\n",
       "      <th>4</th>\n",
       "      <td>michal-kwiatkowski</td>\n",
       "      <td>2020</td>\n",
       "      <td>etappe</td>\n",
       "      <td>2020-09-16</td>\n",
       "      <td>130</td>\n",
       "      <td>37.0</td>\n",
       "      <td>stage</td>\n",
       "      <td>race/tour-de-france/2020/stage-17</td>\n",
       "      <td>tour-de-france</td>\n",
       "      <td>Stage 17 - Grenoble › Méribel - Col de la Loze</td>\n",
       "      <td>...</td>\n",
       "      <td>170.0</td>\n",
       "      <td>0.0</td>\n",
       "      <td>35.28</td>\n",
       "      <td>170.0</td>\n",
       "      <td>mo_mo</td>\n",
       "      <td>444.0</td>\n",
       "      <td>4430.0</td>\n",
       "      <td>1685</td>\n",
       "      <td>3.5 km solo</td>\n",
       "      <td>0.0</td>\n",
       "    </tr>\n",
       "  </tbody>\n",
       "</table>\n",
       "<p>5 rows × 21 columns</p>\n",
       "</div>"
      ],
      "text/plain": [
       "                   name  year    type        date  result    gc   icon  \\\n",
       "0           egan-bernal  2020  etappe  2020-09-16       0   NaN  stage   \n",
       "1         andrey-amador  2020  etappe  2020-09-16     117  79.0  stage   \n",
       "2       richard-carapaz  2020  etappe  2020-09-16      11  13.0  stage   \n",
       "3  jonathan-castroviejo  2020  etappe  2020-09-16     116  40.0  stage   \n",
       "4    michal-kwiatkowski  2020  etappe  2020-09-16     130  37.0  stage   \n",
       "\n",
       "                            race_ref       race_name  \\\n",
       "0  race/tour-de-france/2020/stage-17  tour-de-france   \n",
       "1  race/tour-de-france/2020/stage-17  tour-de-france   \n",
       "2  race/tour-de-france/2020/stage-17  tour-de-france   \n",
       "3  race/tour-de-france/2020/stage-17  tour-de-france   \n",
       "4  race/tour-de-france/2020/stage-17  tour-de-france   \n",
       "\n",
       "                                      race_detail  ... distance  points  \\\n",
       "0  Stage 17 - Grenoble › Méribel - Col de la Loze  ...    170.0     0.0   \n",
       "1  Stage 17 - Grenoble › Méribel - Col de la Loze  ...    170.0     0.0   \n",
       "2  Stage 17 - Grenoble › Méribel - Col de la Loze  ...    170.0    20.0   \n",
       "3  Stage 17 - Grenoble › Méribel - Col de la Loze  ...    170.0     0.0   \n",
       "4  Stage 17 - Grenoble › Méribel - Col de la Loze  ...    170.0     0.0   \n",
       "\n",
       "   Avg. speed winner:  Distance:  Parcours type: ProfileScore:  Vert. meters:  \\\n",
       "0               35.28      170.0           mo_mo         444.0         4430.0   \n",
       "1               35.28      170.0           mo_mo         444.0         4430.0   \n",
       "2               35.28      170.0           mo_mo         444.0         4430.0   \n",
       "3               35.28      170.0           mo_mo         444.0         4430.0   \n",
       "4               35.28      170.0           mo_mo         444.0         4430.0   \n",
       "\n",
       "   Startlist quality score:    Won how:  adjusted_points  \n",
       "0                      1685  3.5 km solo             0.0  \n",
       "1                      1685  3.5 km solo             0.0  \n",
       "2                      1685  3.5 km solo      14962800.0  \n",
       "3                      1685  3.5 km solo             0.0  \n",
       "4                      1685  3.5 km solo             0.0  \n",
       "\n",
       "[5 rows x 21 columns]"
      ]
     },
     "execution_count": 51,
     "metadata": {},
     "output_type": "execute_result"
    }
   ],
   "source": [
    "df = pd.read_csv('merged_treated.csv', index_col=[0])\n",
    "df.head()"
   ]
  },
  {
   "cell_type": "code",
   "execution_count": 56,
   "metadata": {},
   "outputs": [
    {
     "name": "stdout",
     "output_type": "stream",
     "text": [
      "egan-bernal\n",
      "andrey-amador\n"
     ]
    }
   ],
   "source": [
    "for i in df.name.unique()[:2]:\n",
    "    print(i)"
   ]
  },
  {
   "cell_type": "code",
   "execution_count": 57,
   "metadata": {},
   "outputs": [],
   "source": [
    "ls = []\n",
    "\n",
    "for rider in df.name.unique()[:2]:\n",
    "    ls.append(df_small[df_small['name']==rider])"
   ]
  },
  {
   "cell_type": "code",
   "execution_count": null,
   "metadata": {},
   "outputs": [
    {
     "name": "stderr",
     "output_type": "stream",
     "text": [
      "/var/folders/3l/70h6qcrd72q0j5x4sscw7qn40000gn/T/ipykernel_9756/69888416.py:4: FutureWarning: Automatic reindexing on DataFrame vs Series comparisons is deprecated and will raise ValueError in a future version. Do `left, right = left.align(right, axis=1, copy=False)` before e.g. `left == right`\n",
      "  df_small[df_small['name']==rider]\n"
     ]
    },
    {
     "ename": "",
     "evalue": "",
     "output_type": "error",
     "traceback": [
      "\u001b[1;31mCanceled future for execute_request message before replies were done"
     ]
    },
    {
     "ename": "",
     "evalue": "",
     "output_type": "error",
     "traceback": [
      "\u001b[1;31mThe Kernel crashed while executing code in the the current cell or a previous cell. Please review the code in the cell(s) to identify a possible cause of the failure. Click <a href='https://aka.ms/vscodeJupyterKernelCrash'>here</a> for more info. View Jupyter <a href='command:jupyter.viewOutput'>log</a> for further details."
     ]
    }
   ],
   "source": [
    "import numpy as np\n",
    "\n",
    "def subsample_sequence(df, length):\n",
    "        df_small[df_small['name']==rider]\n",
    "        # $CHALLENGIFY_BEGIN\n",
    "        last_possible = df.shape[0] - length - 5\n",
    "        \n",
    "        random_start = np.random.randint(0, last_possible)\n",
    "        X = df[random_start: random_start+length].values\n",
    "        y = df.iloc[random_start+length+1:random_start+length+21]['points']\n",
    "        # $CHALLENGIFY_END\n",
    "        return X, y\n",
    "\n",
    "for rider in ls:\n",
    "    X, y = subsample_sequence(rider, 365)"
   ]
  },
  {
   "cell_type": "code",
   "execution_count": null,
   "metadata": {},
   "outputs": [
    {
     "data": {
      "text/plain": [
       "array([[13.8, 0.0, 13.0, 28.0, 1812, 'daniele-bennati'],\n",
       "       [13.8, 0.0, 13.0, 28.0, 1812, 'roman-kreuziger'],\n",
       "       [13.8, 0.0, 13.0, 28.0, 1812, 'rafal-majka'],\n",
       "       ...,\n",
       "       [155.0, 0.0, 323.0, 4282.0, 1073, 'marcel-wyss'],\n",
       "       [155.0, 0.0, 323.0, 4282.0, 1073, 'dominik-nerz'],\n",
       "       [155.0, 0.0, 323.0, 4282.0, 1073, 'jan-barta']], dtype=object)"
      ]
     },
     "execution_count": 61,
     "metadata": {},
     "output_type": "execute_result"
    }
   ],
   "source": [
    "X"
   ]
  },
  {
   "cell_type": "code",
   "execution_count": null,
   "metadata": {},
   "outputs": [],
   "source": []
  }
 ],
 "metadata": {
  "language_info": {
   "name": "python"
  },
  "orig_nbformat": 4
 },
 "nbformat": 4,
 "nbformat_minor": 2
}
