{
 "cells": [
  {
   "cell_type": "code",
   "execution_count": 395,
   "metadata": {},
   "outputs": [],
   "source": [
    "import pandas as pd\n",
    "import numpy as np\n",
    "import torch\n",
    "from keras.preprocessing.sequence import pad_sequences\n",
    "import matplotlib.pyplot as plt"
   ]
  },
  {
   "cell_type": "code",
   "execution_count": 373,
   "metadata": {},
   "outputs": [],
   "source": [
    "X = torch.load('torch_data/X_full_scaled.pt')\n",
    "y = torch.load('torch_data/y_full_scaled.pt')"
   ]
  },
  {
   "cell_type": "code",
   "execution_count": 374,
   "metadata": {},
   "outputs": [],
   "source": [
    "X_tour = torch.load('torch_data/X_tour.pt')\n",
    "y_tour = torch.load('torch_data/y_tour.pt')"
   ]
  },
  {
   "cell_type": "code",
   "execution_count": 383,
   "metadata": {},
   "outputs": [],
   "source": [
    "X_tour_pad = []\n",
    "y_tour_pad = []\n",
    "\n",
    "for xx in X_tour:\n",
    "    X_tour_pad.append(pad_sequences(xx, maxlen=80, dtype='float', padding='pre', value=-1000.).T)\n",
    "    \n",
    "for yy in y_tour:\n",
    "    y_tour_pad.append(pad_sequences(yy, maxlen=80, dtype='float', padding='pre', value=-1000.).T)\n",
    "    \n",
    "X_tour_pad = np.array(X_tour_pad)\n",
    "y_tour_pad = np.array(y_tour_pad)"
   ]
  },
  {
   "cell_type": "code",
   "execution_count": 384,
   "metadata": {},
   "outputs": [
    {
     "data": {
      "text/plain": [
       "((38304, 80, 4), (38304, 80, 1))"
      ]
     },
     "execution_count": 384,
     "metadata": {},
     "output_type": "execute_result"
    }
   ],
   "source": [
    "X_tour_pad.shape, y_tour_pad.shape"
   ]
  },
  {
   "cell_type": "code",
   "execution_count": 385,
   "metadata": {},
   "outputs": [
    {
     "data": {
      "text/plain": [
       "((38304, 80, 4), (38304, 21, 1))"
      ]
     },
     "execution_count": 385,
     "metadata": {},
     "output_type": "execute_result"
    }
   ],
   "source": [
    "X.shape, y.shape"
   ]
  },
  {
   "cell_type": "code",
   "execution_count": 378,
   "metadata": {},
   "outputs": [
    {
     "data": {
      "text/plain": [
       "(38304, 80, 5)"
      ]
     },
     "execution_count": 378,
     "metadata": {},
     "output_type": "execute_result"
    }
   ],
   "source": [
    "train_data_merged = []\n",
    "\n",
    "for xx, yy in zip(X, y):\n",
    "    train_data_merged.append(np.concatenate((xx, yy), axis=1))\n",
    "    \n",
    "train_data_merged = np.array(train_data_merged)\n",
    "\n",
    "train_data_merged.shape"
   ]
  },
  {
   "cell_type": "code",
   "execution_count": 358,
   "metadata": {},
   "outputs": [],
   "source": [
    "from sklearn.preprocessing import StandardScaler\n",
    "from tensorflow.keras.layers import Input, Dense, LSTM, TimeDistributed, Concatenate, Add, Masking\n",
    "from tensorflow.keras.models import Model\n",
    "from tensorflow.keras.optimizers import Adam"
   ]
  },
  {
   "cell_type": "code",
   "execution_count": 386,
   "metadata": {},
   "outputs": [],
   "source": [
    "X_encoder = train_data_merged  # past features and target values\n",
    "X_decoder = X_tour_pad  # future features values\n",
    "y = y_tour_pad          # future target values"
   ]
  },
  {
   "cell_type": "code",
   "execution_count": 387,
   "metadata": {},
   "outputs": [],
   "source": [
    "# define the encoder and decoder\n",
    "def encoder(encoder_features):\n",
    "    y = Masking(mask_value = -1000.)(encoder_features)\n",
    "    y = LSTM(units=100, return_sequences=True)(y)\n",
    "    y = TimeDistributed(Dense(units=1))(y)\n",
    "    return y\n",
    "\n",
    "def decoder(decoder_features, encoder_outputs):\n",
    "    x = Concatenate(axis=-1)([decoder_features, encoder_outputs])\n",
    "    # x = Add()([decoder_features, encoder_outputs]) \n",
    "    x = Masking(mask_value = -1000.)(x)\n",
    "    y = TimeDistributed(Dense(units=100, activation='relu'))(x)\n",
    "    y = TimeDistributed(Dense(units=1))(y)\n",
    "    return y"
   ]
  },
  {
   "cell_type": "code",
   "execution_count": 389,
   "metadata": {},
   "outputs": [],
   "source": [
    "# build the model\n",
    "encoder_features = Input(shape=X_encoder.shape[1:])\n",
    "decoder_features = Input(shape=X_decoder.shape[1:])\n",
    "encoder_outputs = encoder(encoder_features)\n",
    "decoder_outputs = decoder(decoder_features, encoder_outputs)\n",
    "model = Model([encoder_features, decoder_features], decoder_outputs)"
   ]
  },
  {
   "cell_type": "code",
   "execution_count": 394,
   "metadata": {},
   "outputs": [
    {
     "name": "stdout",
     "output_type": "stream",
     "text": [
      "Epoch 1/100\n",
      "210/210 [==============================] - 19s 77ms/step - loss: 44.6760 - mean_absolute_error: 3.1075 - val_loss: 23.3128 - val_mean_absolute_error: 1.7873\n",
      "Epoch 2/100\n",
      "210/210 [==============================] - 15s 73ms/step - loss: 18.5712 - mean_absolute_error: 1.4276 - val_loss: 19.5045 - val_mean_absolute_error: 1.3631\n",
      "Epoch 3/100\n",
      "210/210 [==============================] - 15s 73ms/step - loss: 17.1064 - mean_absolute_error: 1.3262 - val_loss: 18.8654 - val_mean_absolute_error: 1.6384\n",
      "Epoch 4/100\n",
      "210/210 [==============================] - 15s 73ms/step - loss: 16.4553 - mean_absolute_error: 1.3535 - val_loss: 18.1419 - val_mean_absolute_error: 1.3189\n",
      "Epoch 5/100\n",
      "210/210 [==============================] - 15s 73ms/step - loss: 15.9128 - mean_absolute_error: 1.3751 - val_loss: 17.7999 - val_mean_absolute_error: 1.3541\n",
      "Epoch 6/100\n",
      "210/210 [==============================] - 15s 73ms/step - loss: 18.0648 - mean_absolute_error: 1.7998 - val_loss: 22.1699 - val_mean_absolute_error: 2.7910\n",
      "Epoch 7/100\n",
      "210/210 [==============================] - 15s 72ms/step - loss: 15.1510 - mean_absolute_error: 1.2864 - val_loss: 17.3905 - val_mean_absolute_error: 1.2062\n",
      "Epoch 8/100\n",
      "210/210 [==============================] - 15s 72ms/step - loss: 14.7630 - mean_absolute_error: 1.2275 - val_loss: 17.8388 - val_mean_absolute_error: 1.6510\n",
      "Epoch 9/100\n",
      "210/210 [==============================] - ETA: 0s - loss: 14.4908 - mean_absolute_error: 1.2851Restoring model weights from the end of the best epoch: 7.\n",
      "210/210 [==============================] - 15s 73ms/step - loss: 14.4908 - mean_absolute_error: 1.2851 - val_loss: 19.4582 - val_mean_absolute_error: 1.8781\n",
      "Epoch 9: early stopping\n"
     ]
    },
    {
     "data": {
      "text/plain": [
       "<keras.callbacks.History at 0x197582d90>"
      ]
     },
     "execution_count": 394,
     "metadata": {},
     "output_type": "execute_result"
    }
   ],
   "source": [
    "# train the model\n",
    "from tensorflow.keras.callbacks import EarlyStopping\n",
    "metric = metrics.MAE\n",
    "\n",
    "model.compile(optimizer=Adam(learning_rate=0.001), loss='mse', metrics=[metric])\n",
    "\n",
    "es = EarlyStopping(monitor='val_loss', verbose=1, patience=2, restore_best_weights=True)\n",
    "\n",
    "model.fit([X_encoder, X_decoder], y, epochs=100, batch_size=128, callbacks=[es], validation_split=0.3, verbose=1)"
   ]
  },
  {
   "cell_type": "code",
   "execution_count": 405,
   "metadata": {},
   "outputs": [
    {
     "data": {
      "image/png": "[encoded data removed]",
      "text/plain": [
       "<Figure size 432x288 with 1 Axes>"
      ]
     },
     "metadata": {
      "needs_background": "light"
     },
     "output_type": "display_data"
    },
    {
     "data": {
      "image/png": "[encoded data removed]",
      "text/plain": [
       "<Figure size 432x288 with 1 Axes>"
      ]
     },
     "metadata": {
      "needs_background": "light"
     },
     "output_type": "display_data"
    },
    {
     "data": {
      "image/png": "[encoded data removed]",
      "text/plain": [
       "<Figure size 432x288 with 1 Axes>"
      ]
     },
     "metadata": {
      "needs_background": "light"
     },
     "output_type": "display_data"
    },
    {
     "data": {
      "image/png": "[encoded data removed]",
      "text/plain": [
       "<Figure size 432x288 with 1 Axes>"
      ]
     },
     "metadata": {
      "needs_background": "light"
     },
     "output_type": "display_data"
    }
   ],
   "source": [
    "# extract the last predicted sequence\n",
    "for seq in [-1, -2, -3, -4]:\n",
    "\n",
    "    y_true = y[seq, :][-21:]\n",
    "    y_pred = model.predict([X_encoder, X_decoder])[seq, :][-21:]\n",
    "\n",
    "    # plot the last predicted sequence\n",
    "    plt.plot(y_true.flatten(), label='actual')\n",
    "    plt.plot(y_pred.flatten(), label='predicted')\n",
    "    plt.show()"
   ]
  },
  {
   "cell_type": "code",
   "execution_count": 403,
   "metadata": {},
   "outputs": [
    {
     "data": {
      "text/plain": [
       "array([[-1000.],\n",
       "       [   18.],\n",
       "       [    0.],\n",
       "       [    0.],\n",
       "       [    0.],\n",
       "       [    0.],\n",
       "       [    0.],\n",
       "       [    0.],\n",
       "       [    0.],\n",
       "       [    0.],\n",
       "       [    0.],\n",
       "       [    0.],\n",
       "       [    0.],\n",
       "       [    0.],\n",
       "       [    0.],\n",
       "       [    0.],\n",
       "       [    0.],\n",
       "       [    0.],\n",
       "       [    0.],\n",
       "       [    0.],\n",
       "       [    0.],\n",
       "       [    0.]])"
      ]
     },
     "execution_count": 403,
     "metadata": {},
     "output_type": "execute_result"
    }
   ],
   "source": [
    "y[-1, :][-22:]"
   ]
  },
  {
   "cell_type": "code",
   "execution_count": 205,
   "metadata": {},
   "outputs": [
    {
     "name": "stdout",
     "output_type": "stream",
     "text": [
      "(36268, 60, 4)\n",
      "(36268, 60, 1)\n"
     ]
    }
   ],
   "source": [
    "X2 = []\n",
    "y2 = []\n",
    "\n",
    "for xx, yy in zip(X,y):\n",
    "    X2.append(xx.T)\n",
    "    y2.append(yy.T)\n",
    "    \n",
    "X2 = np.array(X2)\n",
    "y2 = np.array(y2)\n",
    "\n",
    "print(X2.shape)\n",
    "print(y2.shape)"
   ]
  },
  {
   "cell_type": "code",
   "execution_count": 206,
   "metadata": {},
   "outputs": [],
   "source": [
    "X_train, X_test = X2[:29014], X2[29014:]\n",
    "y_train, y_test = y2[:29014], y2[29014:]"
   ]
  },
  {
   "cell_type": "code",
   "execution_count": 207,
   "metadata": {},
   "outputs": [],
   "source": [
    "from tensorflow.keras import models\n",
    "from tensorflow.keras import layers\n",
    "from tensorflow.keras import optimizers, metrics\n",
    "from tensorflow.keras.layers.experimental.preprocessing import Normalization"
   ]
  },
  {
   "cell_type": "code",
   "execution_count": 216,
   "metadata": {},
   "outputs": [],
   "source": [
    "def init_model():\n",
    "    metric = metrics.MAE\n",
    "    opt = optimizers.RMSprop(learning_rate=0.01)\n",
    "    \n",
    "    #normalizer = Normalization()\n",
    "    #normalizer.adapt(X_train)\n",
    "    \n",
    "    model = models.Sequential()\n",
    "    model.add(layers.Masking(mask_value=-1000., input_shape=(60,4)))\n",
    "    #model.add(normalizer)\n",
    "    model.add(layers.LSTM(20, return_sequences=True, activation='tanh'))\n",
    "    model.add(layers.LSTM(10, return_sequences=True, activation='tanh'))\n",
    "    model.add(layers.Dense(50, activation='relu'))\n",
    "    model.add(layers.Dense(10, activation='relu'))\n",
    "    model.add(layers.Dense(1, activation='linear'))\n",
    "    \n",
    "    model.compile(loss='mse',\n",
    "                  optimizer=opt,\n",
    "                  metrics = [metric])\n",
    "    \n",
    "    return model"
   ]
  },
  {
   "cell_type": "code",
   "execution_count": 217,
   "metadata": {},
   "outputs": [
    {
     "name": "stdout",
     "output_type": "stream",
     "text": [
      "Model: \"sequential_26\"\n",
      "_________________________________________________________________\n",
      " Layer (type)                Output Shape              Param #   \n",
      "=================================================================\n",
      " masking_26 (Masking)        (None, 60, 4)             0         \n",
      "                                                                 \n",
      " normalization_22 (Normaliza  (None, 60, 4)            9         \n",
      " tion)                                                           \n",
      "                                                                 \n",
      " lstm_45 (LSTM)              (None, 60, 20)            2000      \n",
      "                                                                 \n",
      " lstm_46 (LSTM)              (None, 60, 10)            1240      \n",
      "                                                                 \n",
      " dense_55 (Dense)            (None, 60, 50)            550       \n",
      "                                                                 \n",
      " dense_56 (Dense)            (None, 60, 10)            510       \n",
      "                                                                 \n",
      " dense_57 (Dense)            (None, 60, 1)             11        \n",
      "                                                                 \n",
      "=================================================================\n",
      "Total params: 4,320\n",
      "Trainable params: 4,311\n",
      "Non-trainable params: 9\n",
      "_________________________________________________________________\n"
     ]
    }
   ],
   "source": [
    "model.summary()"
   ]
  },
  {
   "cell_type": "code",
   "execution_count": 218,
   "metadata": {},
   "outputs": [
    {
     "name": "stdout",
     "output_type": "stream",
     "text": [
      "Epoch 1/3\n",
      "363/363 - 12s - loss: 24119.9844 - mean_absolute_error: 45.2602 - val_loss: 162.1123 - val_mean_absolute_error: 9.7059 - 12s/epoch - 34ms/step\n",
      "Epoch 2/3\n",
      "363/363 - 9s - loss: 1105.1848 - mean_absolute_error: 11.4878 - val_loss: 181.4655 - val_mean_absolute_error: 11.2093 - 9s/epoch - 24ms/step\n",
      "Epoch 3/3\n",
      "Restoring model weights from the end of the best epoch: 1.\n",
      "363/363 - 9s - loss: 1166.8269 - mean_absolute_error: 10.8595 - val_loss: 434.6733 - val_mean_absolute_error: 16.4256 - 9s/epoch - 24ms/step\n",
      "Epoch 3: early stopping\n"
     ]
    }
   ],
   "source": [
    "from tensorflow.keras.callbacks import EarlyStopping\n",
    "es = EarlyStopping(monitor='val_loss', verbose=1, patience=2, restore_best_weights=True)\n",
    "\n",
    "model = init_model()\n",
    "\n",
    "history = model.fit(X_train, y_train, epochs=3, validation_split=0.2, \n",
    "            batch_size=64,\n",
    "            callbacks=[es], verbose=2)"
   ]
  },
  {
   "cell_type": "code",
   "execution_count": 219,
   "metadata": {},
   "outputs": [
    {
     "name": "stdout",
     "output_type": "stream",
     "text": [
      "227/227 [==============================] - 1s 6ms/step - loss: 172.1444 - mean_absolute_error: 10.3812\n"
     ]
    },
    {
     "data": {
      "text/plain": [
       "[172.14443969726562, 10.381194114685059]"
      ]
     },
     "execution_count": 219,
     "metadata": {},
     "output_type": "execute_result"
    }
   ],
   "source": [
    "model.evaluate(X_test, y_test)"
   ]
  },
  {
   "cell_type": "code",
   "execution_count": 220,
   "metadata": {},
   "outputs": [],
   "source": [
    "prediction = model.predict(X_test)"
   ]
  },
  {
   "cell_type": "code",
   "execution_count": 224,
   "metadata": {},
   "outputs": [
    {
     "data": {
      "text/plain": [
       "array([[    2.],\n",
       "       [   24.],\n",
       "       [   16.],\n",
       "       [    0.],\n",
       "       [    0.],\n",
       "       [    0.],\n",
       "       [    0.],\n",
       "       [    0.],\n",
       "       [    0.],\n",
       "       [    0.],\n",
       "       [    0.],\n",
       "       [   24.],\n",
       "       [    0.],\n",
       "       [    0.],\n",
       "       [    0.],\n",
       "       [    0.],\n",
       "       [    0.],\n",
       "       [    0.],\n",
       "       [    0.],\n",
       "       [    0.],\n",
       "       [    0.],\n",
       "       [    0.],\n",
       "       [   20.],\n",
       "       [    0.],\n",
       "       [    0.],\n",
       "       [    0.],\n",
       "       [    0.],\n",
       "       [    0.],\n",
       "       [-1000.],\n",
       "       [-1000.],\n",
       "       [-1000.],\n",
       "       [-1000.],\n",
       "       [-1000.],\n",
       "       [-1000.],\n",
       "       [-1000.],\n",
       "       [-1000.],\n",
       "       [-1000.],\n",
       "       [-1000.],\n",
       "       [-1000.],\n",
       "       [-1000.],\n",
       "       [-1000.],\n",
       "       [-1000.],\n",
       "       [-1000.],\n",
       "       [-1000.],\n",
       "       [-1000.],\n",
       "       [-1000.],\n",
       "       [-1000.],\n",
       "       [-1000.],\n",
       "       [-1000.],\n",
       "       [-1000.],\n",
       "       [-1000.],\n",
       "       [-1000.],\n",
       "       [-1000.],\n",
       "       [-1000.],\n",
       "       [-1000.],\n",
       "       [-1000.],\n",
       "       [-1000.],\n",
       "       [-1000.],\n",
       "       [-1000.],\n",
       "       [-1000.]])"
      ]
     },
     "execution_count": 224,
     "metadata": {},
     "output_type": "execute_result"
    }
   ],
   "source": [
    "y_test[0]"
   ]
  },
  {
   "cell_type": "code",
   "execution_count": 223,
   "metadata": {},
   "outputs": [
    {
     "data": {
      "text/plain": [
       "array([[   1.637166 ],\n",
       "       [   2.5607803],\n",
       "       [   2.8002381],\n",
       "       [   2.861462 ],\n",
       "       [   2.9029677],\n",
       "       [   2.926814 ],\n",
       "       [   2.9526014],\n",
       "       [   3.0281916],\n",
       "       [   3.0470035],\n",
       "       [   3.1738315],\n",
       "       [   3.2406805],\n",
       "       [   3.163703 ],\n",
       "       [   3.122875 ],\n",
       "       [   3.1297417],\n",
       "       [   3.0497375],\n",
       "       [   3.0244846],\n",
       "       [   3.014164 ],\n",
       "       [   3.0789998],\n",
       "       [   3.0488122],\n",
       "       [   3.0417457],\n",
       "       [   3.0359643],\n",
       "       [   3.3961957],\n",
       "       [   3.5793905],\n",
       "       [   3.276527 ],\n",
       "       [   3.377349 ],\n",
       "       [   3.4301891],\n",
       "       [   3.6137505],\n",
       "       [   3.259481 ],\n",
       "       [-959.6419   ],\n",
       "       [-986.57965  ],\n",
       "       [-986.2376   ],\n",
       "       [-983.0091   ],\n",
       "       [-982.3925   ],\n",
       "       [-984.5135   ],\n",
       "       [-985.385    ],\n",
       "       [-985.9052   ],\n",
       "       [-986.1657   ],\n",
       "       [-986.3189   ],\n",
       "       [-986.419    ],\n",
       "       [-986.4943   ],\n",
       "       [-986.5567   ],\n",
       "       [-986.6114   ],\n",
       "       [-986.6608   ],\n",
       "       [-986.70593  ],\n",
       "       [-986.74695  ],\n",
       "       [-986.78436  ],\n",
       "       [-986.81824  ],\n",
       "       [-986.8488   ],\n",
       "       [-986.8762   ],\n",
       "       [-986.90076  ],\n",
       "       [-986.9225   ],\n",
       "       [-986.9419   ],\n",
       "       [-986.95917  ],\n",
       "       [-986.97455  ],\n",
       "       [-986.988    ],\n",
       "       [-986.99994  ],\n",
       "       [-987.0105   ],\n",
       "       [-987.01984  ],\n",
       "       [-987.02826  ],\n",
       "       [-987.0355   ]], dtype=float32)"
      ]
     },
     "execution_count": 223,
     "metadata": {},
     "output_type": "execute_result"
    }
   ],
   "source": [
    "prediction[0]"
   ]
  },
  {
   "cell_type": "code",
   "execution_count": 49,
   "metadata": {},
   "outputs": [
    {
     "data": {
      "text/plain": [
       "{'loss': [34356968.0,\n",
       "  24494996.0,\n",
       "  16713496.0,\n",
       "  15075442.0,\n",
       "  15033100.0,\n",
       "  15030301.0,\n",
       "  15029687.0,\n",
       "  15029394.0,\n",
       "  15029253.0,\n",
       "  15029116.0,\n",
       "  15029027.0,\n",
       "  15028953.0,\n",
       "  15028918.0,\n",
       "  15028885.0,\n",
       "  15028829.0,\n",
       "  15028805.0,\n",
       "  15028790.0],\n",
       " 'mean_squared_error': [34356968.0,\n",
       "  24494996.0,\n",
       "  16713496.0,\n",
       "  15075442.0,\n",
       "  15033100.0,\n",
       "  15030301.0,\n",
       "  15029687.0,\n",
       "  15029394.0,\n",
       "  15029253.0,\n",
       "  15029116.0,\n",
       "  15029027.0,\n",
       "  15028953.0,\n",
       "  15028918.0,\n",
       "  15028885.0,\n",
       "  15028829.0,\n",
       "  15028805.0,\n",
       "  15028790.0],\n",
       " 'val_loss': [45338640.0,\n",
       "  26658382.0,\n",
       "  17907072.0,\n",
       "  17456198.0,\n",
       "  17448940.0,\n",
       "  17440516.0,\n",
       "  17439674.0,\n",
       "  17450650.0,\n",
       "  17441042.0,\n",
       "  17441914.0,\n",
       "  17440762.0,\n",
       "  17439960.0,\n",
       "  17440532.0,\n",
       "  17440828.0,\n",
       "  17439944.0,\n",
       "  17439718.0,\n",
       "  17440314.0],\n",
       " 'val_mean_squared_error': [45338640.0,\n",
       "  26658382.0,\n",
       "  17907072.0,\n",
       "  17456198.0,\n",
       "  17448940.0,\n",
       "  17440516.0,\n",
       "  17439674.0,\n",
       "  17450650.0,\n",
       "  17441042.0,\n",
       "  17441914.0,\n",
       "  17440762.0,\n",
       "  17439960.0,\n",
       "  17440532.0,\n",
       "  17440828.0,\n",
       "  17439944.0,\n",
       "  17439718.0,\n",
       "  17440314.0]}"
      ]
     },
     "execution_count": 49,
     "metadata": {},
     "output_type": "execute_result"
    }
   ],
   "source": [
    "history.history"
   ]
  },
  {
   "cell_type": "code",
   "execution_count": 169,
   "metadata": {},
   "outputs": [
    {
     "data": {
      "text/plain": [
       "[<matplotlib.lines.Line2D at 0x1952e43d0>]"
      ]
     },
     "execution_count": 169,
     "metadata": {},
     "output_type": "execute_result"
    },
    {
     "data": {
      "image/png": "[encoded data removed]",
      "text/plain": [
       "<Figure size 432x288 with 1 Axes>"
      ]
     },
     "metadata": {
      "needs_background": "light"
     },
     "output_type": "display_data"
    }
   ],
   "source": [
    "import matplotlib.pyplot as plt\n",
    "plt.plot(history.history['mean_absolute_error'])\n",
    "plt.plot(history.history['val_mean_absolute_error'])"
   ]
  },
  {
   "cell_type": "code",
   "execution_count": 51,
   "metadata": {},
   "outputs": [
    {
     "data": {
      "text/html": [
       "<div>\n",
       "<style scoped>\n",
       "    .dataframe tbody tr th:only-of-type {\n",
       "        vertical-align: middle;\n",
       "    }\n",
       "\n",
       "    .dataframe tbody tr th {\n",
       "        vertical-align: top;\n",
       "    }\n",
       "\n",
       "    .dataframe thead th {\n",
       "        text-align: right;\n",
       "    }\n",
       "</style>\n",
       "<table border=\"1\" class=\"dataframe\">\n",
       "  <thead>\n",
       "    <tr style=\"text-align: right;\">\n",
       "      <th></th>\n",
       "      <th>name</th>\n",
       "      <th>year</th>\n",
       "      <th>type</th>\n",
       "      <th>date</th>\n",
       "      <th>result</th>\n",
       "      <th>gc</th>\n",
       "      <th>icon</th>\n",
       "      <th>race_ref</th>\n",
       "      <th>race_name</th>\n",
       "      <th>race_detail</th>\n",
       "      <th>...</th>\n",
       "      <th>distance</th>\n",
       "      <th>points</th>\n",
       "      <th>Avg. speed winner:</th>\n",
       "      <th>Distance:</th>\n",
       "      <th>Parcours type:</th>\n",
       "      <th>ProfileScore:</th>\n",
       "      <th>Vert. meters:</th>\n",
       "      <th>Startlist quality score:</th>\n",
       "      <th>Won how:</th>\n",
       "      <th>adjusted_points</th>\n",
       "    </tr>\n",
       "  </thead>\n",
       "  <tbody>\n",
       "    <tr>\n",
       "      <th>0</th>\n",
       "      <td>egan-bernal</td>\n",
       "      <td>2020</td>\n",
       "      <td>etappe</td>\n",
       "      <td>2020-09-16</td>\n",
       "      <td>0</td>\n",
       "      <td>NaN</td>\n",
       "      <td>stage</td>\n",
       "      <td>race/tour-de-france/2020/stage-17</td>\n",
       "      <td>tour-de-france</td>\n",
       "      <td>Stage 17 - Grenoble › Méribel - Col de la Loze</td>\n",
       "      <td>...</td>\n",
       "      <td>170.0</td>\n",
       "      <td>0.0</td>\n",
       "      <td>35.28</td>\n",
       "      <td>170.0</td>\n",
       "      <td>mo_mo</td>\n",
       "      <td>444.0</td>\n",
       "      <td>4430.0</td>\n",
       "      <td>1685</td>\n",
       "      <td>3.5 km solo</td>\n",
       "      <td>0.0</td>\n",
       "    </tr>\n",
       "    <tr>\n",
       "      <th>1</th>\n",
       "      <td>andrey-amador</td>\n",
       "      <td>2020</td>\n",
       "      <td>etappe</td>\n",
       "      <td>2020-09-16</td>\n",
       "      <td>117</td>\n",
       "      <td>79.0</td>\n",
       "      <td>stage</td>\n",
       "      <td>race/tour-de-france/2020/stage-17</td>\n",
       "      <td>tour-de-france</td>\n",
       "      <td>Stage 17 - Grenoble › Méribel - Col de la Loze</td>\n",
       "      <td>...</td>\n",
       "      <td>170.0</td>\n",
       "      <td>0.0</td>\n",
       "      <td>35.28</td>\n",
       "      <td>170.0</td>\n",
       "      <td>mo_mo</td>\n",
       "      <td>444.0</td>\n",
       "      <td>4430.0</td>\n",
       "      <td>1685</td>\n",
       "      <td>3.5 km solo</td>\n",
       "      <td>0.0</td>\n",
       "    </tr>\n",
       "    <tr>\n",
       "      <th>2</th>\n",
       "      <td>richard-carapaz</td>\n",
       "      <td>2020</td>\n",
       "      <td>etappe</td>\n",
       "      <td>2020-09-16</td>\n",
       "      <td>11</td>\n",
       "      <td>13.0</td>\n",
       "      <td>stage</td>\n",
       "      <td>race/tour-de-france/2020/stage-17</td>\n",
       "      <td>tour-de-france</td>\n",
       "      <td>Stage 17 - Grenoble › Méribel - Col de la Loze</td>\n",
       "      <td>...</td>\n",
       "      <td>170.0</td>\n",
       "      <td>20.0</td>\n",
       "      <td>35.28</td>\n",
       "      <td>170.0</td>\n",
       "      <td>mo_mo</td>\n",
       "      <td>444.0</td>\n",
       "      <td>4430.0</td>\n",
       "      <td>1685</td>\n",
       "      <td>3.5 km solo</td>\n",
       "      <td>14962800.0</td>\n",
       "    </tr>\n",
       "    <tr>\n",
       "      <th>3</th>\n",
       "      <td>jonathan-castroviejo</td>\n",
       "      <td>2020</td>\n",
       "      <td>etappe</td>\n",
       "      <td>2020-09-16</td>\n",
       "      <td>116</td>\n",
       "      <td>40.0</td>\n",
       "      <td>stage</td>\n",
       "      <td>race/tour-de-france/2020/stage-17</td>\n",
       "      <td>tour-de-france</td>\n",
       "      <td>Stage 17 - Grenoble › Méribel - Col de la Loze</td>\n",
       "      <td>...</td>\n",
       "      <td>170.0</td>\n",
       "      <td>0.0</td>\n",
       "      <td>35.28</td>\n",
       "      <td>170.0</td>\n",
       "      <td>mo_mo</td>\n",
       "      <td>444.0</td>\n",
       "      <td>4430.0</td>\n",
       "      <td>1685</td>\n",
       "      <td>3.5 km solo</td>\n",
       "      <td>0.0</td>\n",
       "    </tr>\n",
       "    <tr>\n",
       "      <th>4</th>\n",
       "      <td>michal-kwiatkowski</td>\n",
       "      <td>2020</td>\n",
       "      <td>etappe</td>\n",
       "      <td>2020-09-16</td>\n",
       "      <td>130</td>\n",
       "      <td>37.0</td>\n",
       "      <td>stage</td>\n",
       "      <td>race/tour-de-france/2020/stage-17</td>\n",
       "      <td>tour-de-france</td>\n",
       "      <td>Stage 17 - Grenoble › Méribel - Col de la Loze</td>\n",
       "      <td>...</td>\n",
       "      <td>170.0</td>\n",
       "      <td>0.0</td>\n",
       "      <td>35.28</td>\n",
       "      <td>170.0</td>\n",
       "      <td>mo_mo</td>\n",
       "      <td>444.0</td>\n",
       "      <td>4430.0</td>\n",
       "      <td>1685</td>\n",
       "      <td>3.5 km solo</td>\n",
       "      <td>0.0</td>\n",
       "    </tr>\n",
       "  </tbody>\n",
       "</table>\n",
       "<p>5 rows × 21 columns</p>\n",
       "</div>"
      ],
      "text/plain": [
       "                   name  year    type        date  result    gc   icon  \\\n",
       "0           egan-bernal  2020  etappe  2020-09-16       0   NaN  stage   \n",
       "1         andrey-amador  2020  etappe  2020-09-16     117  79.0  stage   \n",
       "2       richard-carapaz  2020  etappe  2020-09-16      11  13.0  stage   \n",
       "3  jonathan-castroviejo  2020  etappe  2020-09-16     116  40.0  stage   \n",
       "4    michal-kwiatkowski  2020  etappe  2020-09-16     130  37.0  stage   \n",
       "\n",
       "                            race_ref       race_name  \\\n",
       "0  race/tour-de-france/2020/stage-17  tour-de-france   \n",
       "1  race/tour-de-france/2020/stage-17  tour-de-france   \n",
       "2  race/tour-de-france/2020/stage-17  tour-de-france   \n",
       "3  race/tour-de-france/2020/stage-17  tour-de-france   \n",
       "4  race/tour-de-france/2020/stage-17  tour-de-france   \n",
       "\n",
       "                                      race_detail  ... distance  points  \\\n",
       "0  Stage 17 - Grenoble › Méribel - Col de la Loze  ...    170.0     0.0   \n",
       "1  Stage 17 - Grenoble › Méribel - Col de la Loze  ...    170.0     0.0   \n",
       "2  Stage 17 - Grenoble › Méribel - Col de la Loze  ...    170.0    20.0   \n",
       "3  Stage 17 - Grenoble › Méribel - Col de la Loze  ...    170.0     0.0   \n",
       "4  Stage 17 - Grenoble › Méribel - Col de la Loze  ...    170.0     0.0   \n",
       "\n",
       "   Avg. speed winner:  Distance:  Parcours type: ProfileScore:  Vert. meters:  \\\n",
       "0               35.28      170.0           mo_mo         444.0         4430.0   \n",
       "1               35.28      170.0           mo_mo         444.0         4430.0   \n",
       "2               35.28      170.0           mo_mo         444.0         4430.0   \n",
       "3               35.28      170.0           mo_mo         444.0         4430.0   \n",
       "4               35.28      170.0           mo_mo         444.0         4430.0   \n",
       "\n",
       "   Startlist quality score:    Won how:  adjusted_points  \n",
       "0                      1685  3.5 km solo             0.0  \n",
       "1                      1685  3.5 km solo             0.0  \n",
       "2                      1685  3.5 km solo      14962800.0  \n",
       "3                      1685  3.5 km solo             0.0  \n",
       "4                      1685  3.5 km solo             0.0  \n",
       "\n",
       "[5 rows x 21 columns]"
      ]
     },
     "execution_count": 51,
     "metadata": {},
     "output_type": "execute_result"
    }
   ],
   "source": [
    "df = pd.read_csv('merged_treated.csv', index_col=[0])\n",
    "df.head()"
   ]
  },
  {
   "cell_type": "code",
   "execution_count": 56,
   "metadata": {},
   "outputs": [
    {
     "name": "stdout",
     "output_type": "stream",
     "text": [
      "egan-bernal\n",
      "andrey-amador\n"
     ]
    }
   ],
   "source": [
    "for i in df.name.unique()[:2]:\n",
    "    print(i)"
   ]
  },
  {
   "cell_type": "code",
   "execution_count": 57,
   "metadata": {},
   "outputs": [],
   "source": [
    "ls = []\n",
    "\n",
    "for rider in df.name.unique()[:2]:\n",
    "    ls.append(df_small[df_small['name']==rider])"
   ]
  },
  {
   "cell_type": "code",
   "execution_count": null,
   "metadata": {},
   "outputs": [
    {
     "name": "stderr",
     "output_type": "stream",
     "text": [
      "/var/folders/3l/70h6qcrd72q0j5x4sscw7qn40000gn/T/ipykernel_9756/69888416.py:4: FutureWarning: Automatic reindexing on DataFrame vs Series comparisons is deprecated and will raise ValueError in a future version. Do `left, right = left.align(right, axis=1, copy=False)` before e.g. `left == right`\n",
      "  df_small[df_small['name']==rider]\n"
     ]
    },
    {
     "ename": "",
     "evalue": "",
     "output_type": "error",
     "traceback": [
      "\u001b[1;31mCanceled future for execute_request message before replies were done"
     ]
    },
    {
     "ename": "",
     "evalue": "",
     "output_type": "error",
     "traceback": [
      "\u001b[1;31mThe Kernel crashed while executing code in the the current cell or a previous cell. Please review the code in the cell(s) to identify a possible cause of the failure. Click <a href='https://aka.ms/vscodeJupyterKernelCrash'>here</a> for more info. View Jupyter <a href='command:jupyter.viewOutput'>log</a> for further details."
     ]
    }
   ],
   "source": [
    "import numpy as np\n",
    "\n",
    "def subsample_sequence(df, length):\n",
    "        df_small[df_small['name']==rider]\n",
    "        # $CHALLENGIFY_BEGIN\n",
    "        last_possible = df.shape[0] - length - 5\n",
    "        \n",
    "        random_start = np.random.randint(0, last_possible)\n",
    "        X = df[random_start: random_start+length].values\n",
    "        y = df.iloc[random_start+length+1:random_start+length+21]['points']\n",
    "        # $CHALLENGIFY_END\n",
    "        return X, y\n",
    "\n",
    "for rider in ls:\n",
    "    X, y = subsample_sequence(rider, 365)"
   ]
  },
  {
   "cell_type": "code",
   "execution_count": null,
   "metadata": {},
   "outputs": [
    {
     "data": {
      "text/plain": [
       "array([[13.8, 0.0, 13.0, 28.0, 1812, 'daniele-bennati'],\n",
       "       [13.8, 0.0, 13.0, 28.0, 1812, 'roman-kreuziger'],\n",
       "       [13.8, 0.0, 13.0, 28.0, 1812, 'rafal-majka'],\n",
       "       ...,\n",
       "       [155.0, 0.0, 323.0, 4282.0, 1073, 'marcel-wyss'],\n",
       "       [155.0, 0.0, 323.0, 4282.0, 1073, 'dominik-nerz'],\n",
       "       [155.0, 0.0, 323.0, 4282.0, 1073, 'jan-barta']], dtype=object)"
      ]
     },
     "execution_count": 61,
     "metadata": {},
     "output_type": "execute_result"
    }
   ],
   "source": [
    "X"
   ]
  },
  {
   "cell_type": "code",
   "execution_count": null,
   "metadata": {},
   "outputs": [],
   "source": []
  }
 ],
 "metadata": {
  "language_info": {
   "name": "python"
  },
  "orig_nbformat": 4
 },
 "nbformat": 4,
 "nbformat_minor": 2
}
