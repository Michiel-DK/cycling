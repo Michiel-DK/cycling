{
 "cells": [
  {
   "cell_type": "code",
   "execution_count": 3,
   "metadata": {},
   "outputs": [],
   "source": [
    "from bs4 import BeautifulSoup\n",
    "import requests\n",
    "import pandas as pd\n",
    "import numpy as np"
   ]
  },
  {
   "cell_type": "code",
   "execution_count": 4,
   "metadata": {},
   "outputs": [],
   "source": [
    "def chunks(lst, n, start):\n",
    "    \"\"\"Yield successive n-sized chunks from lst.\"\"\"\n",
    "    for i in range(start, len(lst), n):\n",
    "        return lst[i:i + n]"
   ]
  },
  {
   "cell_type": "code",
   "execution_count": null,
   "metadata": {},
   "outputs": [],
   "source": [
    "def clean_scrape_profile(row, category, year):\n",
    "    di = {}\n",
    "    name = row[1].text.lstrip()\n",
    "    team = row[2].text\n",
    "    points = row[3].text\n",
    "    ranking = row[4].text\n",
    "    di['name'] = name\n",
    "    di['team'] = team\n",
    "    di['points'] = points\n",
    "    di['ranking'] = ranking\n",
    "    di['type'] = category\n",
    "    di['year'] = year\n",
    "    return di"
   ]
  },
  {
   "cell_type": "code",
   "execution_count": null,
   "metadata": {},
   "outputs": [],
   "source": [
    "def clean_scrape_performance(row, year):\n",
    "    di = {}\n",
    "    name_s = row[1].text.strip()\n",
    "    name_ls = name_s.split()\n",
    "    name = ' '.join([i.capitalize() for i in name_ls])\n",
    "    gc_result = row[2].text\n",
    "    giro_w = row[3].text\n",
    "    stage_result = row[4].text\n",
    "    stage_wins = row[5].text\n",
    "    top10 = row[5].text\n",
    "    total = row[7].text\n",
    "    di['name'] = name\n",
    "    di['gc_result'] = gc_result\n",
    "    di['giro_w'] = giro_w\n",
    "    di['stage_result'] = stage_result\n",
    "    di['stage_wins'] = stage_wins\n",
    "    di['top10'] = top10\n",
    "    di['giro_total'] = total\n",
    "    di['year'] = year\n",
    "    return di"
   ]
  },
  {
   "cell_type": "code",
   "execution_count": null,
   "metadata": {},
   "outputs": [],
   "source": [
    "def clean_scrape_teams(row, year):\n",
    "    di = {}\n",
    "    team = row[1].text.lstrip()\n",
    "    division = row[2].text\n",
    "    points = row[3].text\n",
    "    di['team'] = team\n",
    "    di['team_class'] = division\n",
    "    di['team_points'] = points\n",
    "    di['year'] = year\n",
    "    return di"
   ]
  },
  {
   "cell_type": "code",
   "execution_count": null,
   "metadata": {},
   "outputs": [],
   "source": [
    "def clean_age(row, year):\n",
    "    di = {}\n",
    "    name = row[1].text.lstrip()\n",
    "    team = row[2].text\n",
    "    age = row[3].text\n",
    "    di['name'] = name\n",
    "    di['team'] = team\n",
    "    di['age'] = age[0:2]\n",
    "    di['year'] = year\n",
    "    return di"
   ]
  },
  {
   "cell_type": "code",
   "execution_count": null,
   "metadata": {},
   "outputs": [],
   "source": [
    "def get_age():\n",
    "    years = [2017,2018,2019,2020,2021]\n",
    "    master_df_ls = []\n",
    "    for year in years:\n",
    "            url = f'https://www.procyclingstats.com/race/giro-d-italia/{year}/gc/startlist/youngest-competitors'\n",
    "            response = requests.get(url)\n",
    "            soup = BeautifulSoup(response.content, 'html.parser')\n",
    "            td = soup.find_all('td')\n",
    "            full_list_chunks = np.arange(0,len(td), 4)\n",
    "            ls = []\n",
    "            for chunk in full_list_chunks:\n",
    "                try:\n",
    "                    di = clean_age(chunks(td, 4, chunk), year)\n",
    "                    ls.append(di)\n",
    "                except IndexError:\n",
    "                    continue\n",
    "                sub_df = pd.DataFrame.from_dict(ls)\n",
    "                master_df_ls.append(sub_df)\n",
    "    X1 = pd.concat(master_df_ls, ignore_index=True)\n",
    "    X1.to_csv('data_age.csv', index=False)\n",
    "get_age()"
   ]
  },
  {
   "cell_type": "code",
   "execution_count": null,
   "metadata": {},
   "outputs": [],
   "source": [
    "def get_teams():\n",
    "    years = [2017,2018,2019,2020,2021]\n",
    "    master_df_ls = []\n",
    "    for year in years:\n",
    "            url = f'https://www.procyclingstats.com/race/giro-d-italia/{year}/gc/startlist/teams-ranked'\n",
    "            response = requests.get(url)\n",
    "            soup = BeautifulSoup(response.content, 'html.parser')\n",
    "            td = soup.find_all('td')\n",
    "            full_list_chunks = np.arange(0,len(td), 4)\n",
    "            ls = []\n",
    "            for chunk in full_list_chunks:\n",
    "                try:\n",
    "                    di = clean_scrape_teams(chunks(td, 4, chunk), year)\n",
    "                    ls.append(di)\n",
    "                except IndexError:\n",
    "                    continue\n",
    "                sub_df = pd.DataFrame.from_dict(ls)\n",
    "                master_df_ls.append(sub_df)\n",
    "    X1 = pd.concat(master_df_ls, ignore_index=True)\n",
    "    X1.to_csv('data_teams.csv', index=False)\n",
    "get_teams()"
   ]
  },
  {
   "cell_type": "code",
   "execution_count": null,
   "metadata": {},
   "outputs": [],
   "source": [
    "def get_performance():\n",
    "    years = [2017,2018,2019,2020,2021]\n",
    "    master_df_ls = []\n",
    "    for year in years:\n",
    "            url = f'https://www.procyclingstats.com/race/giro-d-italia/{year}/gc/startlist/previous-performance'\n",
    "            response = requests.get(url)\n",
    "            soup = BeautifulSoup(response.content, 'html.parser')\n",
    "            td = soup.find_all('td')\n",
    "            full_list_chunks = np.arange(0,len(td), 9)\n",
    "            ls = []\n",
    "            for chunk in full_list_chunks:\n",
    "                di = clean_scrape_performance(chunks(td, 9, chunk), year)\n",
    "                ls.append(di)\n",
    "            sub_df = pd.DataFrame.from_dict(ls)\n",
    "            master_df_ls.append(sub_df)\n",
    "    X1 = pd.concat(master_df_ls, ignore_index=True)\n",
    "    X1.to_csv('data_performance.csv', index=False)\n",
    "get_performance()"
   ]
  },
  {
   "cell_type": "code",
   "execution_count": null,
   "metadata": {},
   "outputs": [],
   "source": [
    "def get_profile():\n",
    "    categories = ['top-gc-riders', 'top-sprinters', 'top-time-trial-riders', 'best-classic-riders']\n",
    "    years = [2017,2018,2019,2020,2021]\n",
    "    master_df_ls = []\n",
    "    for year in years:\n",
    "        for category in categories:\n",
    "            url = f'https://www.procyclingstats.com/race.php?missing=0&filter=Filter&id1=giro-d-italia&id2={year}&id3=gc&id4=startlist&id5={category}'\n",
    "            response = requests.get(url)\n",
    "            soup = BeautifulSoup(response.content, 'html.parser')\n",
    "            td = soup.find_all('td')\n",
    "            full_list_chunks = np.arange(0,len(td), 5)\n",
    "            ls = []\n",
    "            for chunk in full_list_chunks:\n",
    "                di = clean_scrape_profile(chunks(td, 5, chunk), category, year)\n",
    "                ls.append(di)\n",
    "            sub_df = pd.DataFrame.from_dict(ls)\n",
    "            master_df_ls.append(sub_df)\n",
    "    X1 = pd.concat(master_df_ls, ignore_index=True)\n",
    "    X1.to_csv('data_profile.csv', index=False)\n",
    "get_profile()\n",
    "        \n",
    "        "
   ]
  },
  {
   "cell_type": "code",
   "execution_count": null,
   "metadata": {},
   "outputs": [],
   "source": [
    "# Scraper\n",
    "\n",
    "for year in [2016, 2017, 2018, 2019, 2020, 2021]:\n",
    "\n",
    "    teams = {}\n",
    "    url = f'https://www.procyclingstats.com/race/giro-d-italia/{year}/stage-1'\n",
    "    print(url)\n",
    "    response = requests.get(url)\n",
    "    soup = BeautifulSoup(response.content, 'html.parser').find('tbody')\n",
    "    tr = soup.find_all('tr')\n",
    "    dictionary = {}\n",
    "    for i in range(len(tr)):\n",
    "            td = tr[i].find_all('td', class_=None)[:2]\n",
    "            name = td[1].find('a').text.split()\n",
    "            name = ' '.join([x.capitalize() for x in name])\n",
    "            team = td[1].find_all('span')[-1].text\n",
    "            teams[name] = team\n",
    "\n",
    "    teams_dictionary = {}\n",
    "    class_dictionary = {}\n",
    "    for day in range(1,22):\n",
    "        url = f'https://www.procyclingstats.com/race/giro-d-italia/{year}/stage-{day}'\n",
    "        print(url)\n",
    "        response = requests.get(url)\n",
    "        soup = BeautifulSoup(response.content, 'html.parser').find_all('table', class_='results basic moblist10')\n",
    "        if len(soup) == 6:\n",
    "            for k, m in enumerate([ '-stage', '-gc', '-points', '-youth', '-kom']):\n",
    "                print(k,m)\n",
    "                tr = soup[k].find_all('tr')\n",
    "                dictionary = {}\n",
    "                for i in range(1,len(tr)):\n",
    "                    td = tr[i].find_all('td', class_=None)[:2]\n",
    "                    name = td[1].find('a').text.split()\n",
    "                    name = ' '.join([x.capitalize() for x in name])\n",
    "                            #name = ''.join(name.apply(lambda x: x.capitalize for x in name))\n",
    "                    dictionary[name] = td[0].text\n",
    "                    class_dictionary[str(day)+m] = dictionary\n",
    "            #get teams\n",
    "            tr = soup[-1].find_all('tr')\n",
    "            dictionary = {}\n",
    "            for i in range(1,len(tr)):\n",
    "                td = tr[i].find_all('td', class_=None)[:2]\n",
    "                name = td[1].find('a').text\n",
    "                            #name = ''.join(name.apply(lambda x: x.capitalize for x in name))\n",
    "                dictionary[name] = td[0].text\n",
    "                teams_dictionary[str(day)+'-teams'] = dictionary\n",
    "            \n",
    "        else:\n",
    "            for k, m in enumerate([ '-stage', '-gc', '-points', '-youth']):\n",
    "                tr = soup[k].find_all('tr')\n",
    "                dictionary = {}\n",
    "                for i in range(1,len(tr)):\n",
    "                    td = tr[i].find_all('td', class_=None)[:2]\n",
    "                    name = td[1].find('a').text.split()\n",
    "                    name = ' '.join([x.capitalize() for x in name])\n",
    "                            #name = ''.join(name.apply(lambda x: x.capitalize for x in name))\n",
    "                    dictionary[name] = td[0].text\n",
    "                    class_dictionary[str(day)+m] = dictionary\n",
    "            \n",
    "            tr = soup[k].find_all('tr')\n",
    "            dictionary = {}\n",
    "            for i in range(1,len(tr)):\n",
    "                td = tr[i].find_all('td', class_=None)[:2]\n",
    "                name = td[1].find('a').text\n",
    "                            #name = ''.join(name.apply(lambda x: x.capitalize for x in name))\n",
    "                dictionary[name] = td[0].text\n",
    "                teams_dictionary[str(day)+'-teams'] = dictionary\n",
    "                \n",
    "    #merge frames + csv\n",
    "    teams_rider = pd.DataFrame.from_dict(teams, orient='index', columns=['team'])\n",
    "    all_df = pd.DataFrame.from_dict(class_dictionary, orient='index').T\n",
    "    teams_df = pd.DataFrame.from_dict(teams_dictionary, orient='index').T.reset_index().rename(columns={'index':'team'})\n",
    "    combo = all_df.join(teams_rider)\n",
    "    combo = combo.reset_index().merge(teams_df, on='team', how='left')\n",
    "    combo['year'] = str(year)\n",
    "    combo.to_csv(f'data_raw_{year}.csv')"
   ]
  },
  {
   "cell_type": "code",
   "execution_count": 160,
   "metadata": {},
   "outputs": [
    {
     "data": {
      "text/plain": [
       "{'name': '11:15', 'value': 'Avg. speed winner:', 'year': 2017}"
      ]
     },
     "execution_count": 160,
     "metadata": {},
     "output_type": "execute_result"
    }
   ],
   "source": [
    "div = soup.find_all('div')\n",
    "\n",
    "clean_stages(chunks(div, 2, 3), 2017)"
   ]
  },
  {
   "cell_type": "code",
   "execution_count": 126,
   "metadata": {},
   "outputs": [],
   "source": [
    "def clean_stages(row, year):\n",
    "    di = {}\n",
    "    name = row[0].text.strip()\n",
    "    value = row[1].text\n",
    "    di['name'] = name\n",
    "    if len(value) < 1:\n",
    "        di['value'] = row[1].select('div span')[0]['class'][-1]\n",
    "        print(di['value'])\n",
    "    else:\n",
    "       di['value'] = value\n",
    "    \n",
    "    di['year'] = year\n",
    "    return di"
   ]
  },
  {
   "cell_type": "code",
   "execution_count": 131,
   "metadata": {},
   "outputs": [
    {
     "data": {
      "text/plain": [
       "<div>Date:</div>"
      ]
     },
     "execution_count": 131,
     "metadata": {},
     "output_type": "execute_result"
    }
   ],
   "source": [
    "soup.find('div')"
   ]
  },
  {
   "cell_type": "code",
   "execution_count": 161,
   "metadata": {},
   "outputs": [
    {
     "name": "stdout",
     "output_type": "stream",
     "text": [
      "p2\n"
     ]
    }
   ],
   "source": [
    "\n",
    "#div = soup.find_all('div')\n",
    "full_list_chunks = np.arange(0,len(div), 2)\n",
    "ml_ls = []\n",
    "ls = []\n",
    "for chunk in full_list_chunks:\n",
    "    try:\n",
    "        di = clean_stages(chunks(div, 2, chunk), 2017)\n",
    "        ls.append(di)\n",
    "    except IndexError:\n",
    "        continue\n",
    "ml_ls.append(ls)"
   ]
  },
  {
   "cell_type": "code",
   "execution_count": 162,
   "metadata": {},
   "outputs": [
    {
     "data": {
      "text/plain": [
       "[{'name': 'Date:', 'value': '15 October 2020', 'year': 2017},\n",
       " {'name': 'Start time:', 'value': '11:15 ', 'year': 2017},\n",
       " {'name': 'Avg. speed winner:', 'value': '36.93 km/h', 'year': 2017},\n",
       " {'name': 'Race category:', 'value': 'ME - Men Elite', 'year': 2017},\n",
       " {'name': 'Distance:', 'value': '204 km', 'year': 2017},\n",
       " {'name': 'Points scale:', 'value': 'GT.B.Stage', 'year': 2017},\n",
       " {'name': 'Parcours type:', 'value': 'p2', 'year': 2017},\n",
       " {'name': 'ProfileScore:', 'value': '164', 'year': 2017},\n",
       " {'name': 'Vert. meters:', 'value': '3815', 'year': 2017},\n",
       " {'name': 'Departure:', 'value': 'Cesenatico', 'year': 2017},\n",
       " {'name': 'Arrival:', 'value': 'Cesenatico', 'year': 2017},\n",
       " {'name': 'Race ranking:', 'value': '11', 'year': 2017},\n",
       " {'name': 'Startlist quality score:', 'value': '732', 'year': 2017},\n",
       " {'name': 'Won how:', 'value': '25 km solo', 'year': 2017}]"
      ]
     },
     "execution_count": 162,
     "metadata": {},
     "output_type": "execute_result"
    }
   ],
   "source": [
    "ls"
   ]
  },
  {
   "cell_type": "code",
   "execution_count": 164,
   "metadata": {},
   "outputs": [
    {
     "name": "stdout",
     "output_type": "stream",
     "text": [
      "https://www.procyclingstats.com/race/giro-d-italia/2017/stage-1\n",
      "p2\n"
     ]
    },
    {
     "ename": "IndexError",
     "evalue": "list index out of range",
     "output_type": "error",
     "traceback": [
      "\u001b[0;31m---------------------------------------------------------------------------\u001b[0m",
      "\u001b[0;31mIndexError\u001b[0m                                Traceback (most recent call last)",
      "\u001b[1;32m/Users/michieldekoninck/code/Michiel-DK/cycling/try2.ipynb Cell 17'\u001b[0m in \u001b[0;36m<cell line: 21>\u001b[0;34m()\u001b[0m\n\u001b[1;32m     <a href='vscode-notebook-cell:/Users/michieldekoninck/code/Michiel-DK/cycling/try2.ipynb#ch0000022?line=18'>19</a>\u001b[0m     X1 \u001b[39m=\u001b[39m pd\u001b[39m.\u001b[39mconcat(master_df_ls, ignore_index\u001b[39m=\u001b[39m\u001b[39mTrue\u001b[39;00m)\n\u001b[1;32m     <a href='vscode-notebook-cell:/Users/michieldekoninck/code/Michiel-DK/cycling/try2.ipynb#ch0000022?line=19'>20</a>\u001b[0m     X1\u001b[39m.\u001b[39mto_csv(\u001b[39m'\u001b[39m\u001b[39mparcours.csv\u001b[39m\u001b[39m'\u001b[39m, index\u001b[39m=\u001b[39m\u001b[39mFalse\u001b[39;00m)\n\u001b[0;32m---> <a href='vscode-notebook-cell:/Users/michieldekoninck/code/Michiel-DK/cycling/try2.ipynb#ch0000022?line=20'>21</a>\u001b[0m get_stage_profiles()\n",
      "\u001b[1;32m/Users/michieldekoninck/code/Michiel-DK/cycling/try2.ipynb Cell 17'\u001b[0m in \u001b[0;36mget_stage_profiles\u001b[0;34m()\u001b[0m\n\u001b[1;32m     <a href='vscode-notebook-cell:/Users/michieldekoninck/code/Michiel-DK/cycling/try2.ipynb#ch0000022?line=11'>12</a>\u001b[0m ls \u001b[39m=\u001b[39m []\n\u001b[1;32m     <a href='vscode-notebook-cell:/Users/michieldekoninck/code/Michiel-DK/cycling/try2.ipynb#ch0000022?line=12'>13</a>\u001b[0m \u001b[39mfor\u001b[39;00m chunk \u001b[39min\u001b[39;00m full_list_chunks:\n\u001b[1;32m     <a href='vscode-notebook-cell:/Users/michieldekoninck/code/Michiel-DK/cycling/try2.ipynb#ch0000022?line=13'>14</a>\u001b[0m     \u001b[39m#try:\u001b[39;00m\n\u001b[0;32m---> <a href='vscode-notebook-cell:/Users/michieldekoninck/code/Michiel-DK/cycling/try2.ipynb#ch0000022?line=14'>15</a>\u001b[0m     di \u001b[39m=\u001b[39m clean_stages(chunks(div, \u001b[39m2\u001b[39;49m, chunk), \u001b[39m2017\u001b[39;49m)\n\u001b[1;32m     <a href='vscode-notebook-cell:/Users/michieldekoninck/code/Michiel-DK/cycling/try2.ipynb#ch0000022?line=15'>16</a>\u001b[0m     ls\u001b[39m.\u001b[39mappend(di)\n\u001b[1;32m     <a href='vscode-notebook-cell:/Users/michieldekoninck/code/Michiel-DK/cycling/try2.ipynb#ch0000022?line=16'>17</a>\u001b[0m     sub_df \u001b[39m=\u001b[39m pd\u001b[39m.\u001b[39mDataFrame(ls)\n",
      "\u001b[1;32m/Users/michieldekoninck/code/Michiel-DK/cycling/try2.ipynb Cell 13'\u001b[0m in \u001b[0;36mclean_stages\u001b[0;34m(row, year)\u001b[0m\n\u001b[1;32m      <a href='vscode-notebook-cell:/Users/michieldekoninck/code/Michiel-DK/cycling/try2.ipynb#ch0000017?line=4'>5</a>\u001b[0m di[\u001b[39m'\u001b[39m\u001b[39mname\u001b[39m\u001b[39m'\u001b[39m] \u001b[39m=\u001b[39m name\n\u001b[1;32m      <a href='vscode-notebook-cell:/Users/michieldekoninck/code/Michiel-DK/cycling/try2.ipynb#ch0000017?line=5'>6</a>\u001b[0m \u001b[39mif\u001b[39;00m \u001b[39mlen\u001b[39m(value) \u001b[39m<\u001b[39m \u001b[39m1\u001b[39m:\n\u001b[0;32m----> <a href='vscode-notebook-cell:/Users/michieldekoninck/code/Michiel-DK/cycling/try2.ipynb#ch0000017?line=6'>7</a>\u001b[0m     di[\u001b[39m'\u001b[39m\u001b[39mvalue\u001b[39m\u001b[39m'\u001b[39m] \u001b[39m=\u001b[39m row[\u001b[39m1\u001b[39;49m]\u001b[39m.\u001b[39;49mselect(\u001b[39m'\u001b[39;49m\u001b[39mdiv span\u001b[39;49m\u001b[39m'\u001b[39;49m)[\u001b[39m0\u001b[39;49m][\u001b[39m'\u001b[39m\u001b[39mclass\u001b[39m\u001b[39m'\u001b[39m][\u001b[39m-\u001b[39m\u001b[39m1\u001b[39m]\n\u001b[1;32m      <a href='vscode-notebook-cell:/Users/michieldekoninck/code/Michiel-DK/cycling/try2.ipynb#ch0000017?line=7'>8</a>\u001b[0m     \u001b[39mprint\u001b[39m(di[\u001b[39m'\u001b[39m\u001b[39mvalue\u001b[39m\u001b[39m'\u001b[39m])\n\u001b[1;32m      <a href='vscode-notebook-cell:/Users/michieldekoninck/code/Michiel-DK/cycling/try2.ipynb#ch0000017?line=8'>9</a>\u001b[0m \u001b[39melse\u001b[39;00m:\n",
      "\u001b[0;31mIndexError\u001b[0m: list index out of range"
     ]
    }
   ],
   "source": [
    "def get_stage_profiles():\n",
    "    years = [2017]#,2018,2019,2020,2021,2022]\n",
    "    master_df_ls = []\n",
    "    for year in years:\n",
    "        for day in range(1,22):\n",
    "            url = f'https://www.procyclingstats.com/race/giro-d-italia/{year}/stage-{day}'\n",
    "            print(url)\n",
    "            response = requests.get(url)\n",
    "            soup = BeautifulSoup(response.content, 'html.parser').find('ul', class_='infolist')\n",
    "            div = soup.find_all('div')\n",
    "            full_list_chunks = np.arange(0,len(div), 2)\n",
    "            ls = []\n",
    "            for chunk in full_list_chunks:\n",
    "                #try:\n",
    "                di = clean_stages(chunks(div, 2, chunk), 2017)\n",
    "                ls.append(di)\n",
    "                sub_df = pd.DataFrame(ls)\n",
    "                master_df_ls.append(sub_df)\n",
    "    X1 = pd.concat(master_df_ls, ignore_index=True)\n",
    "    X1.to_csv('parcours.csv', index=False)\n",
    "get_stage_profiles()"
   ]
  },
  {
   "cell_type": "code",
   "execution_count": 152,
   "metadata": {},
   "outputs": [
    {
     "data": {
      "text/html": [
       "<div>\n",
       "<style scoped>\n",
       "    .dataframe tbody tr th:only-of-type {\n",
       "        vertical-align: middle;\n",
       "    }\n",
       "\n",
       "    .dataframe tbody tr th {\n",
       "        vertical-align: top;\n",
       "    }\n",
       "\n",
       "    .dataframe thead th {\n",
       "        text-align: right;\n",
       "    }\n",
       "</style>\n",
       "<table border=\"1\" class=\"dataframe\">\n",
       "  <thead>\n",
       "    <tr style=\"text-align: right;\">\n",
       "      <th></th>\n",
       "      <th>name</th>\n",
       "      <th>value</th>\n",
       "      <th>year</th>\n",
       "    </tr>\n",
       "  </thead>\n",
       "  <tbody>\n",
       "    <tr>\n",
       "      <th>0</th>\n",
       "      <td>Date:</td>\n",
       "      <td>05 May 2017</td>\n",
       "      <td>2017</td>\n",
       "    </tr>\n",
       "    <tr>\n",
       "      <th>1</th>\n",
       "      <td>Date:</td>\n",
       "      <td>05 May 2017</td>\n",
       "      <td>2017</td>\n",
       "    </tr>\n",
       "    <tr>\n",
       "      <th>2</th>\n",
       "      <td>Start time:</td>\n",
       "      <td>13:25</td>\n",
       "      <td>2017</td>\n",
       "    </tr>\n",
       "    <tr>\n",
       "      <th>3</th>\n",
       "      <td>Date:</td>\n",
       "      <td>05 May 2017</td>\n",
       "      <td>2017</td>\n",
       "    </tr>\n",
       "    <tr>\n",
       "      <th>4</th>\n",
       "      <td>Start time:</td>\n",
       "      <td>13:25</td>\n",
       "      <td>2017</td>\n",
       "    </tr>\n",
       "    <tr>\n",
       "      <th>...</th>\n",
       "      <td>...</td>\n",
       "      <td>...</td>\n",
       "      <td>...</td>\n",
       "    </tr>\n",
       "    <tr>\n",
       "      <th>2200</th>\n",
       "      <td>Departure:</td>\n",
       "      <td>Monza</td>\n",
       "      <td>2017</td>\n",
       "    </tr>\n",
       "    <tr>\n",
       "      <th>2201</th>\n",
       "      <td>Arrival:</td>\n",
       "      <td>Milano</td>\n",
       "      <td>2017</td>\n",
       "    </tr>\n",
       "    <tr>\n",
       "      <th>2202</th>\n",
       "      <td>Race ranking:</td>\n",
       "      <td>23</td>\n",
       "      <td>2017</td>\n",
       "    </tr>\n",
       "    <tr>\n",
       "      <th>2203</th>\n",
       "      <td>Startlist quality score:</td>\n",
       "      <td>795</td>\n",
       "      <td>2017</td>\n",
       "    </tr>\n",
       "    <tr>\n",
       "      <th>2204</th>\n",
       "      <td>Won how:</td>\n",
       "      <td>Time Trial</td>\n",
       "      <td>2017</td>\n",
       "    </tr>\n",
       "  </tbody>\n",
       "</table>\n",
       "<p>2205 rows × 3 columns</p>\n",
       "</div>"
      ],
      "text/plain": [
       "                          name        value  year\n",
       "0                        Date:  05 May 2017  2017\n",
       "1                        Date:  05 May 2017  2017\n",
       "2                  Start time:       13:25   2017\n",
       "3                        Date:  05 May 2017  2017\n",
       "4                  Start time:       13:25   2017\n",
       "...                        ...          ...   ...\n",
       "2200                Departure:        Monza  2017\n",
       "2201                  Arrival:       Milano  2017\n",
       "2202             Race ranking:           23  2017\n",
       "2203  Startlist quality score:          795  2017\n",
       "2204                  Won how:   Time Trial  2017\n",
       "\n",
       "[2205 rows x 3 columns]"
      ]
     },
     "execution_count": 152,
     "metadata": {},
     "output_type": "execute_result"
    }
   ],
   "source": [
    "zestien = pd.read_csv('parcours.csv')\n",
    "zestien\n"
   ]
  },
  {
   "cell_type": "code",
   "execution_count": null,
   "metadata": {},
   "outputs": [],
   "source": [
    "def chunks(lst, n, start):\n",
    "    \"\"\"Yield successive n-sized chunks from lst.\"\"\"\n",
    "    for i in range(start, len(lst), n):\n",
    "        return lst[i:i + n]"
   ]
  }
 ],
 "metadata": {
  "interpreter": {
   "hash": "1971ae5dab8dc290f9accc674fa124c050b055041fca049f8419bf66410c4162"
  },
  "kernelspec": {
   "display_name": "Python 3.8.12 64-bit ('boonen')",
   "language": "python",
   "name": "python3"
  },
  "language_info": {
   "codemirror_mode": {
    "name": "ipython",
    "version": 3
   },
   "file_extension": ".py",
   "mimetype": "text/x-python",
   "name": "python",
   "nbconvert_exporter": "python",
   "pygments_lexer": "ipython3",
   "version": "3.8.12"
  },
  "orig_nbformat": 4
 },
 "nbformat": 4,
 "nbformat_minor": 2
}
