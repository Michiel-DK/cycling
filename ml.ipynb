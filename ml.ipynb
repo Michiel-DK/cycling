{
 "cells": [
  {
   "cell_type": "code",
   "execution_count": 2,
   "metadata": {},
   "outputs": [],
   "source": [
    "import pandas as pd"
   ]
  },
  {
   "cell_type": "markdown",
   "metadata": {},
   "source": [
    "#### Import CSV"
   ]
  },
  {
   "cell_type": "code",
   "execution_count": 68,
   "metadata": {},
   "outputs": [],
   "source": [
    "df = pd.read_csv('training.csv', index_col=0)"
   ]
  },
  {
   "cell_type": "markdown",
   "metadata": {},
   "source": [
    "#### Get X & Y"
   ]
  },
  {
   "cell_type": "code",
   "execution_count": 62,
   "metadata": {},
   "outputs": [],
   "source": [
    "X = df.drop(columns=['rider', 'team', 'key', 'target', 'year'])\n",
    "X.fillna(0, inplace=True)\n",
    "y = df.target"
   ]
  },
  {
   "cell_type": "code",
   "execution_count": 69,
   "metadata": {},
   "outputs": [],
   "source": [
    "X_year = df.drop(columns=['rider', 'team', 'key', 'target']).fillna(0)\n",
    "X_train = X_year[X_year['year']!=2021].drop(columns='year')\n",
    "X_test = X_year[X_year['year']==2021].drop(columns='year')\n",
    "y_year = df[['year', 'target']]\n",
    "y_train = y_year[y_year['year']!=2021].drop(columns='year')\n",
    "y_test = y_year[y_year['year']==2021].drop(columns='year')"
   ]
  },
  {
   "cell_type": "markdown",
   "metadata": {},
   "source": [
    "#### Check na"
   ]
  },
  {
   "cell_type": "code",
   "execution_count": 82,
   "metadata": {},
   "outputs": [
    {
     "data": {
      "text/html": [
       "<div>\n",
       "<style scoped>\n",
       "    .dataframe tbody tr th:only-of-type {\n",
       "        vertical-align: middle;\n",
       "    }\n",
       "\n",
       "    .dataframe tbody tr th {\n",
       "        vertical-align: top;\n",
       "    }\n",
       "\n",
       "    .dataframe thead th {\n",
       "        text-align: right;\n",
       "    }\n",
       "</style>\n",
       "<table border=\"1\" class=\"dataframe\">\n",
       "  <thead>\n",
       "    <tr style=\"text-align: right;\">\n",
       "      <th></th>\n",
       "      <th>age</th>\n",
       "      <th>team_points</th>\n",
       "      <th>best-classic-riders</th>\n",
       "      <th>top-gc-riders</th>\n",
       "      <th>top-sprinters</th>\n",
       "      <th>top-time-trial-riders</th>\n",
       "      <th>profile_type</th>\n",
       "      <th>profile_score</th>\n",
       "      <th>profile_vert</th>\n",
       "      <th>scorito</th>\n",
       "    </tr>\n",
       "  </thead>\n",
       "  <tbody>\n",
       "    <tr>\n",
       "      <th>age</th>\n",
       "      <td>1.000000</td>\n",
       "      <td>0.040574</td>\n",
       "      <td>0.072090</td>\n",
       "      <td>-0.034940</td>\n",
       "      <td>-0.079501</td>\n",
       "      <td>-0.002566</td>\n",
       "      <td>-0.040316</td>\n",
       "      <td>0.085066</td>\n",
       "      <td>0.011335</td>\n",
       "      <td>0.001007</td>\n",
       "    </tr>\n",
       "    <tr>\n",
       "      <th>team_points</th>\n",
       "      <td>0.040574</td>\n",
       "      <td>1.000000</td>\n",
       "      <td>0.151833</td>\n",
       "      <td>0.221839</td>\n",
       "      <td>0.057008</td>\n",
       "      <td>0.068614</td>\n",
       "      <td>0.340108</td>\n",
       "      <td>-0.462032</td>\n",
       "      <td>-0.147412</td>\n",
       "      <td>0.124635</td>\n",
       "    </tr>\n",
       "    <tr>\n",
       "      <th>best-classic-riders</th>\n",
       "      <td>0.072090</td>\n",
       "      <td>0.151833</td>\n",
       "      <td>1.000000</td>\n",
       "      <td>0.198326</td>\n",
       "      <td>0.609911</td>\n",
       "      <td>-0.028056</td>\n",
       "      <td>0.036229</td>\n",
       "      <td>-0.059669</td>\n",
       "      <td>0.016565</td>\n",
       "      <td>0.182265</td>\n",
       "    </tr>\n",
       "    <tr>\n",
       "      <th>top-gc-riders</th>\n",
       "      <td>-0.034940</td>\n",
       "      <td>0.221839</td>\n",
       "      <td>0.198326</td>\n",
       "      <td>1.000000</td>\n",
       "      <td>-0.046630</td>\n",
       "      <td>0.290569</td>\n",
       "      <td>0.029261</td>\n",
       "      <td>-0.027056</td>\n",
       "      <td>0.035174</td>\n",
       "      <td>0.315724</td>\n",
       "    </tr>\n",
       "    <tr>\n",
       "      <th>top-sprinters</th>\n",
       "      <td>-0.079501</td>\n",
       "      <td>0.057008</td>\n",
       "      <td>0.609911</td>\n",
       "      <td>-0.046630</td>\n",
       "      <td>1.000000</td>\n",
       "      <td>-0.074447</td>\n",
       "      <td>0.007433</td>\n",
       "      <td>-0.058360</td>\n",
       "      <td>-0.008576</td>\n",
       "      <td>0.156655</td>\n",
       "    </tr>\n",
       "    <tr>\n",
       "      <th>top-time-trial-riders</th>\n",
       "      <td>-0.002566</td>\n",
       "      <td>0.068614</td>\n",
       "      <td>-0.028056</td>\n",
       "      <td>0.290569</td>\n",
       "      <td>-0.074447</td>\n",
       "      <td>1.000000</td>\n",
       "      <td>-0.013543</td>\n",
       "      <td>0.003559</td>\n",
       "      <td>0.081886</td>\n",
       "      <td>0.210517</td>\n",
       "    </tr>\n",
       "    <tr>\n",
       "      <th>profile_type</th>\n",
       "      <td>-0.040316</td>\n",
       "      <td>0.340108</td>\n",
       "      <td>0.036229</td>\n",
       "      <td>0.029261</td>\n",
       "      <td>0.007433</td>\n",
       "      <td>-0.013543</td>\n",
       "      <td>1.000000</td>\n",
       "      <td>-0.744882</td>\n",
       "      <td>0.121583</td>\n",
       "      <td>-0.007050</td>\n",
       "    </tr>\n",
       "    <tr>\n",
       "      <th>profile_score</th>\n",
       "      <td>0.085066</td>\n",
       "      <td>-0.462032</td>\n",
       "      <td>-0.059669</td>\n",
       "      <td>-0.027056</td>\n",
       "      <td>-0.058360</td>\n",
       "      <td>0.003559</td>\n",
       "      <td>-0.744882</td>\n",
       "      <td>1.000000</td>\n",
       "      <td>-0.135332</td>\n",
       "      <td>-0.022542</td>\n",
       "    </tr>\n",
       "    <tr>\n",
       "      <th>profile_vert</th>\n",
       "      <td>0.011335</td>\n",
       "      <td>-0.147412</td>\n",
       "      <td>0.016565</td>\n",
       "      <td>0.035174</td>\n",
       "      <td>-0.008576</td>\n",
       "      <td>0.081886</td>\n",
       "      <td>0.121583</td>\n",
       "      <td>-0.135332</td>\n",
       "      <td>1.000000</td>\n",
       "      <td>-0.013778</td>\n",
       "    </tr>\n",
       "    <tr>\n",
       "      <th>scorito</th>\n",
       "      <td>0.001007</td>\n",
       "      <td>0.124635</td>\n",
       "      <td>0.182265</td>\n",
       "      <td>0.315724</td>\n",
       "      <td>0.156655</td>\n",
       "      <td>0.210517</td>\n",
       "      <td>-0.007050</td>\n",
       "      <td>-0.022542</td>\n",
       "      <td>-0.013778</td>\n",
       "      <td>1.000000</td>\n",
       "    </tr>\n",
       "  </tbody>\n",
       "</table>\n",
       "</div>"
      ],
      "text/plain": [
       "                            age  team_points  best-classic-riders  \\\n",
       "age                    1.000000     0.040574             0.072090   \n",
       "team_points            0.040574     1.000000             0.151833   \n",
       "best-classic-riders    0.072090     0.151833             1.000000   \n",
       "top-gc-riders         -0.034940     0.221839             0.198326   \n",
       "top-sprinters         -0.079501     0.057008             0.609911   \n",
       "top-time-trial-riders -0.002566     0.068614            -0.028056   \n",
       "profile_type          -0.040316     0.340108             0.036229   \n",
       "profile_score          0.085066    -0.462032            -0.059669   \n",
       "profile_vert           0.011335    -0.147412             0.016565   \n",
       "scorito                0.001007     0.124635             0.182265   \n",
       "\n",
       "                       top-gc-riders  top-sprinters  top-time-trial-riders  \\\n",
       "age                        -0.034940      -0.079501              -0.002566   \n",
       "team_points                 0.221839       0.057008               0.068614   \n",
       "best-classic-riders         0.198326       0.609911              -0.028056   \n",
       "top-gc-riders               1.000000      -0.046630               0.290569   \n",
       "top-sprinters              -0.046630       1.000000              -0.074447   \n",
       "top-time-trial-riders       0.290569      -0.074447               1.000000   \n",
       "profile_type                0.029261       0.007433              -0.013543   \n",
       "profile_score              -0.027056      -0.058360               0.003559   \n",
       "profile_vert                0.035174      -0.008576               0.081886   \n",
       "scorito                     0.315724       0.156655               0.210517   \n",
       "\n",
       "                       profile_type  profile_score  profile_vert   scorito  \n",
       "age                       -0.040316       0.085066      0.011335  0.001007  \n",
       "team_points                0.340108      -0.462032     -0.147412  0.124635  \n",
       "best-classic-riders        0.036229      -0.059669      0.016565  0.182265  \n",
       "top-gc-riders              0.029261      -0.027056      0.035174  0.315724  \n",
       "top-sprinters              0.007433      -0.058360     -0.008576  0.156655  \n",
       "top-time-trial-riders     -0.013543       0.003559      0.081886  0.210517  \n",
       "profile_type               1.000000      -0.744882      0.121583 -0.007050  \n",
       "profile_score             -0.744882       1.000000     -0.135332 -0.022542  \n",
       "profile_vert               0.121583      -0.135332      1.000000 -0.013778  \n",
       "scorito                   -0.007050      -0.022542     -0.013778  1.000000  "
      ]
     },
     "execution_count": 82,
     "metadata": {},
     "output_type": "execute_result"
    }
   ],
   "source": [
    "corr = X.corr()\n",
    "corr"
   ]
  },
  {
   "cell_type": "code",
   "execution_count": 83,
   "metadata": {},
   "outputs": [
    {
     "data": {
      "image/png": "[encoded data removed]",
      "text/plain": [
       "<Figure size 432x288 with 2 Axes>"
      ]
     },
     "metadata": {
      "needs_background": "light"
     },
     "output_type": "display_data"
    }
   ],
   "source": [
    "import seaborn as sns\n",
    "sns.heatmap(corr, \n",
    "        xticklabels=corr.columns,\n",
    "        yticklabels=corr.columns,\n",
    "        cmap= \"YlGnBu\");"
   ]
  },
  {
   "cell_type": "code",
   "execution_count": 87,
   "metadata": {},
   "outputs": [],
   "source": [
    "from sklearn.inspection import permutation_importance\n",
    "\n",
    "lin_model = Lasso().fit(X_scaled,y)\n",
    "\n",
    "perm = permutation_importance(lin_model, X_scaled, y, n_repeats=10)"
   ]
  },
  {
   "cell_type": "code",
   "execution_count": 88,
   "metadata": {},
   "outputs": [
    {
     "data": {
      "text/html": [
       "<div>\n",
       "<style scoped>\n",
       "    .dataframe tbody tr th:only-of-type {\n",
       "        vertical-align: middle;\n",
       "    }\n",
       "\n",
       "    .dataframe tbody tr th {\n",
       "        vertical-align: top;\n",
       "    }\n",
       "\n",
       "    .dataframe thead th {\n",
       "        text-align: right;\n",
       "    }\n",
       "</style>\n",
       "<table border=\"1\" class=\"dataframe\">\n",
       "  <thead>\n",
       "    <tr style=\"text-align: right;\">\n",
       "      <th></th>\n",
       "      <th>feature</th>\n",
       "      <th>importance</th>\n",
       "    </tr>\n",
       "  </thead>\n",
       "  <tbody>\n",
       "    <tr>\n",
       "      <th>3</th>\n",
       "      <td>top-gc-riders</td>\n",
       "      <td>0.194467</td>\n",
       "    </tr>\n",
       "    <tr>\n",
       "      <th>4</th>\n",
       "      <td>top-sprinters</td>\n",
       "      <td>0.113195</td>\n",
       "    </tr>\n",
       "    <tr>\n",
       "      <th>5</th>\n",
       "      <td>top-time-trial-riders</td>\n",
       "      <td>0.039622</td>\n",
       "    </tr>\n",
       "    <tr>\n",
       "      <th>1</th>\n",
       "      <td>team_points</td>\n",
       "      <td>0.020709</td>\n",
       "    </tr>\n",
       "    <tr>\n",
       "      <th>7</th>\n",
       "      <td>profile_score</td>\n",
       "      <td>0.020242</td>\n",
       "    </tr>\n",
       "    <tr>\n",
       "      <th>9</th>\n",
       "      <td>scorito</td>\n",
       "      <td>0.01239</td>\n",
       "    </tr>\n",
       "    <tr>\n",
       "      <th>0</th>\n",
       "      <td>age</td>\n",
       "      <td>0.007097</td>\n",
       "    </tr>\n",
       "    <tr>\n",
       "      <th>2</th>\n",
       "      <td>best-classic-riders</td>\n",
       "      <td>0.003885</td>\n",
       "    </tr>\n",
       "    <tr>\n",
       "      <th>6</th>\n",
       "      <td>profile_type</td>\n",
       "      <td>0.000035</td>\n",
       "    </tr>\n",
       "    <tr>\n",
       "      <th>8</th>\n",
       "      <td>profile_vert</td>\n",
       "      <td>0.0</td>\n",
       "    </tr>\n",
       "  </tbody>\n",
       "</table>\n",
       "</div>"
      ],
      "text/plain": [
       "                 feature importance\n",
       "3          top-gc-riders   0.194467\n",
       "4          top-sprinters   0.113195\n",
       "5  top-time-trial-riders   0.039622\n",
       "1            team_points   0.020709\n",
       "7          profile_score   0.020242\n",
       "9                scorito    0.01239\n",
       "0                    age   0.007097\n",
       "2    best-classic-riders   0.003885\n",
       "6           profile_type   0.000035\n",
       "8           profile_vert        0.0"
      ]
     },
     "execution_count": 88,
     "metadata": {},
     "output_type": "execute_result"
    }
   ],
   "source": [
    "perm_df = pd.DataFrame(np.vstack((X.columns, perm.importances_mean)).T, columns=['feature', 'importance']).sort_values('importance', ascending=False)\n",
    "perm_df"
   ]
  },
  {
   "cell_type": "code",
   "execution_count": 90,
   "metadata": {},
   "outputs": [
    {
     "data": {
      "text/plain": [
       "0.2015798944542399"
      ]
     },
     "execution_count": 90,
     "metadata": {},
     "output_type": "execute_result"
    }
   ],
   "source": [
    "from sklearn.model_selection import cross_val_score\n",
    "\n",
    "col_keep = list(perm_df[perm_df['importance']>0.010]['feature'])\n",
    "X_simplified = X[col_keep]\n",
    "X_simplified = scaler.fit_transform(X_simplified)\n",
    "\n",
    "simplified_model_score = cross_val_score(lin_model, X_simplified, y).mean()\n",
    "simplified_model_score"
   ]
  },
  {
   "cell_type": "code",
   "execution_count": 70,
   "metadata": {},
   "outputs": [
    {
     "data": {
      "text/html": [
       "<div>\n",
       "<style scoped>\n",
       "    .dataframe tbody tr th:only-of-type {\n",
       "        vertical-align: middle;\n",
       "    }\n",
       "\n",
       "    .dataframe tbody tr th {\n",
       "        vertical-align: top;\n",
       "    }\n",
       "\n",
       "    .dataframe thead th {\n",
       "        text-align: right;\n",
       "    }\n",
       "</style>\n",
       "<table border=\"1\" class=\"dataframe\">\n",
       "  <thead>\n",
       "    <tr style=\"text-align: right;\">\n",
       "      <th></th>\n",
       "      <th>age</th>\n",
       "      <th>team_points</th>\n",
       "      <th>best-classic-riders</th>\n",
       "      <th>top-gc-riders</th>\n",
       "      <th>top-sprinters</th>\n",
       "      <th>top-time-trial-riders</th>\n",
       "      <th>profile_type</th>\n",
       "      <th>profile_score</th>\n",
       "      <th>profile_vert</th>\n",
       "      <th>scorito</th>\n",
       "    </tr>\n",
       "  </thead>\n",
       "  <tbody>\n",
       "    <tr>\n",
       "      <th>1</th>\n",
       "      <td>29</td>\n",
       "      <td>5145</td>\n",
       "      <td>36.0</td>\n",
       "      <td>255.0</td>\n",
       "      <td>0.0</td>\n",
       "      <td>98.0</td>\n",
       "      <td>2.857143</td>\n",
       "      <td>137.095238</td>\n",
       "      <td>2244.285714</td>\n",
       "      <td>326.0</td>\n",
       "    </tr>\n",
       "    <tr>\n",
       "      <th>2</th>\n",
       "      <td>31</td>\n",
       "      <td>5145</td>\n",
       "      <td>13.0</td>\n",
       "      <td>108.0</td>\n",
       "      <td>0.0</td>\n",
       "      <td>74.0</td>\n",
       "      <td>2.857143</td>\n",
       "      <td>137.095238</td>\n",
       "      <td>2244.285714</td>\n",
       "      <td>18.0</td>\n",
       "    </tr>\n",
       "    <tr>\n",
       "      <th>4</th>\n",
       "      <td>30</td>\n",
       "      <td>5145</td>\n",
       "      <td>206.0</td>\n",
       "      <td>53.0</td>\n",
       "      <td>389.8</td>\n",
       "      <td>0.0</td>\n",
       "      <td>2.857143</td>\n",
       "      <td>137.095238</td>\n",
       "      <td>2244.285714</td>\n",
       "      <td>36.0</td>\n",
       "    </tr>\n",
       "    <tr>\n",
       "      <th>5</th>\n",
       "      <td>30</td>\n",
       "      <td>5145</td>\n",
       "      <td>100.0</td>\n",
       "      <td>42.0</td>\n",
       "      <td>0.0</td>\n",
       "      <td>0.0</td>\n",
       "      <td>2.857143</td>\n",
       "      <td>137.095238</td>\n",
       "      <td>2244.285714</td>\n",
       "      <td>18.0</td>\n",
       "    </tr>\n",
       "    <tr>\n",
       "      <th>6</th>\n",
       "      <td>33</td>\n",
       "      <td>5145</td>\n",
       "      <td>175.0</td>\n",
       "      <td>0.0</td>\n",
       "      <td>0.0</td>\n",
       "      <td>0.0</td>\n",
       "      <td>2.857143</td>\n",
       "      <td>137.095238</td>\n",
       "      <td>2244.285714</td>\n",
       "      <td>186.0</td>\n",
       "    </tr>\n",
       "    <tr>\n",
       "      <th>...</th>\n",
       "      <td>...</td>\n",
       "      <td>...</td>\n",
       "      <td>...</td>\n",
       "      <td>...</td>\n",
       "      <td>...</td>\n",
       "      <td>...</td>\n",
       "      <td>...</td>\n",
       "      <td>...</td>\n",
       "      <td>...</td>\n",
       "      <td>...</td>\n",
       "    </tr>\n",
       "    <tr>\n",
       "      <th>1102</th>\n",
       "      <td>27</td>\n",
       "      <td>1405</td>\n",
       "      <td>0.0</td>\n",
       "      <td>30.0</td>\n",
       "      <td>0.0</td>\n",
       "      <td>25.0</td>\n",
       "      <td>2.809524</td>\n",
       "      <td>153.809524</td>\n",
       "      <td>2261.761905</td>\n",
       "      <td>0.0</td>\n",
       "    </tr>\n",
       "    <tr>\n",
       "      <th>1103</th>\n",
       "      <td>34</td>\n",
       "      <td>1405</td>\n",
       "      <td>110.0</td>\n",
       "      <td>25.0</td>\n",
       "      <td>0.0</td>\n",
       "      <td>47.0</td>\n",
       "      <td>2.809524</td>\n",
       "      <td>153.809524</td>\n",
       "      <td>2261.761905</td>\n",
       "      <td>0.0</td>\n",
       "    </tr>\n",
       "    <tr>\n",
       "      <th>1104</th>\n",
       "      <td>31</td>\n",
       "      <td>1405</td>\n",
       "      <td>19.0</td>\n",
       "      <td>20.0</td>\n",
       "      <td>146.0</td>\n",
       "      <td>0.0</td>\n",
       "      <td>2.809524</td>\n",
       "      <td>153.809524</td>\n",
       "      <td>2261.761905</td>\n",
       "      <td>73.0</td>\n",
       "    </tr>\n",
       "    <tr>\n",
       "      <th>1105</th>\n",
       "      <td>30</td>\n",
       "      <td>1405</td>\n",
       "      <td>0.0</td>\n",
       "      <td>9.0</td>\n",
       "      <td>8.0</td>\n",
       "      <td>85.0</td>\n",
       "      <td>2.809524</td>\n",
       "      <td>153.809524</td>\n",
       "      <td>2261.761905</td>\n",
       "      <td>0.0</td>\n",
       "    </tr>\n",
       "    <tr>\n",
       "      <th>1106</th>\n",
       "      <td>34</td>\n",
       "      <td>1405</td>\n",
       "      <td>126.0</td>\n",
       "      <td>0.0</td>\n",
       "      <td>66.8</td>\n",
       "      <td>38.0</td>\n",
       "      <td>2.809524</td>\n",
       "      <td>153.809524</td>\n",
       "      <td>2261.761905</td>\n",
       "      <td>0.0</td>\n",
       "    </tr>\n",
       "  </tbody>\n",
       "</table>\n",
       "<p>2272 rows × 10 columns</p>\n",
       "</div>"
      ],
      "text/plain": [
       "      age  team_points  best-classic-riders  top-gc-riders  top-sprinters  \\\n",
       "1      29         5145                 36.0          255.0            0.0   \n",
       "2      31         5145                 13.0          108.0            0.0   \n",
       "4      30         5145                206.0           53.0          389.8   \n",
       "5      30         5145                100.0           42.0            0.0   \n",
       "6      33         5145                175.0            0.0            0.0   \n",
       "...   ...          ...                  ...            ...            ...   \n",
       "1102   27         1405                  0.0           30.0            0.0   \n",
       "1103   34         1405                110.0           25.0            0.0   \n",
       "1104   31         1405                 19.0           20.0          146.0   \n",
       "1105   30         1405                  0.0            9.0            8.0   \n",
       "1106   34         1405                126.0            0.0           66.8   \n",
       "\n",
       "      top-time-trial-riders  profile_type  profile_score  profile_vert  \\\n",
       "1                      98.0      2.857143     137.095238   2244.285714   \n",
       "2                      74.0      2.857143     137.095238   2244.285714   \n",
       "4                       0.0      2.857143     137.095238   2244.285714   \n",
       "5                       0.0      2.857143     137.095238   2244.285714   \n",
       "6                       0.0      2.857143     137.095238   2244.285714   \n",
       "...                     ...           ...            ...           ...   \n",
       "1102                   25.0      2.809524     153.809524   2261.761905   \n",
       "1103                   47.0      2.809524     153.809524   2261.761905   \n",
       "1104                    0.0      2.809524     153.809524   2261.761905   \n",
       "1105                   85.0      2.809524     153.809524   2261.761905   \n",
       "1106                   38.0      2.809524     153.809524   2261.761905   \n",
       "\n",
       "      scorito  \n",
       "1       326.0  \n",
       "2        18.0  \n",
       "4        36.0  \n",
       "5        18.0  \n",
       "6       186.0  \n",
       "...       ...  \n",
       "1102      0.0  \n",
       "1103      0.0  \n",
       "1104     73.0  \n",
       "1105      0.0  \n",
       "1106      0.0  \n",
       "\n",
       "[2272 rows x 10 columns]"
      ]
     },
     "execution_count": 70,
     "metadata": {},
     "output_type": "execute_result"
    }
   ],
   "source": [
    "X"
   ]
  },
  {
   "cell_type": "code",
   "execution_count": 71,
   "metadata": {},
   "outputs": [
    {
     "data": {
      "text/plain": [
       "<AxesSubplot:>"
      ]
     },
     "execution_count": 71,
     "metadata": {},
     "output_type": "execute_result"
    },
    {
     "data": {
      "image/png": "[encoded data removed]",
      "text/plain": [
       "<Figure size 2160x432 with 1 Axes>"
      ]
     },
     "metadata": {
      "needs_background": "light"
     },
     "output_type": "display_data"
    }
   ],
   "source": [
    "import seaborn as sns\n",
    "import matplotlib.pyplot as plt\n",
    "\n",
    "\n",
    "plt.figure(figsize=(30,6))\n",
    "sns.boxplot(data=X)"
   ]
  },
  {
   "cell_type": "code",
   "execution_count": 92,
   "metadata": {},
   "outputs": [],
   "source": [
    "from sklearn.preprocessing import RobustScaler, MinMaxScaler\n",
    "\n",
    "scaler = MinMaxScaler()\n",
    "\n",
    "X_scaled = scaler.fit_transform(X)\n",
    "\n",
    "X_train_scaled = scaler.fit_transform(X_train)"
   ]
  },
  {
   "cell_type": "code",
   "execution_count": 93,
   "metadata": {},
   "outputs": [],
   "source": [
    "from sklearn.model_selection import cross_validate\n",
    "from sklearn.linear_model import LinearRegression, Lasso\n",
    "from sklearn.neighbors import KNeighborsRegressor\n",
    "\n",
    "model = Lasso()\n",
    "\n",
    "cv_results = cross_validate(model, X_scaled, y, cv=5, scoring='r2')"
   ]
  },
  {
   "cell_type": "code",
   "execution_count": 94,
   "metadata": {},
   "outputs": [
    {
     "data": {
      "text/plain": [
       "0.20030104856429745"
      ]
     },
     "execution_count": 94,
     "metadata": {},
     "output_type": "execute_result"
    }
   ],
   "source": [
    "cv_results['test_score'].mean()"
   ]
  },
  {
   "cell_type": "code",
   "execution_count": 95,
   "metadata": {},
   "outputs": [
    {
     "data": {
      "text/plain": [
       "Lasso()"
      ]
     },
     "execution_count": 95,
     "metadata": {},
     "output_type": "execute_result"
    }
   ],
   "source": [
    "model.fit(X_train_scaled, y_train)"
   ]
  },
  {
   "cell_type": "code",
   "execution_count": 96,
   "metadata": {},
   "outputs": [
    {
     "data": {
      "text/plain": [
       "0.17283640235543796"
      ]
     },
     "execution_count": 96,
     "metadata": {},
     "output_type": "execute_result"
    }
   ],
   "source": [
    "X_test_scaled = scaler.fit_transform(X_test)\n",
    "model.score(X_test_scaled, y_test)"
   ]
  },
  {
   "cell_type": "code",
   "execution_count": 99,
   "metadata": {},
   "outputs": [],
   "source": [
    "# YOUR CODE HERE\n",
    "from sklearn.model_selection import learning_curve\n",
    "import matplotlib.pyplot as plt\n",
    "import numpy as np\n",
    "\n",
    "def plot_learning(X,y):\n",
    "\n",
    "    train_sizes = [25,50,75,100,250,500,750,1000,1150, 1500]\n",
    "\n",
    "    train_sizes, train_scores, test_scores = learning_curve(model, X, y, train_sizes=train_sizes, cv=3)\n",
    "\n",
    "    plt.figure(figsize=(20,6))\n",
    "    plt.plot(train_sizes, np.mean(test_scores, axis=1), label='test scores')\n",
    "    plt.plot(train_sizes, np.mean(train_scores, axis=1), label='train scores')\n",
    "    plt.legend()\n",
    "    plt.title('Learning Curves')\n",
    "    plt.show()"
   ]
  },
  {
   "cell_type": "code",
   "execution_count": 100,
   "metadata": {},
   "outputs": [
    {
     "data": {
      "image/png": "[encoded data removed]",
      "text/plain": [
       "<Figure size 1440x432 with 1 Axes>"
      ]
     },
     "metadata": {
      "needs_background": "light"
     },
     "output_type": "display_data"
    }
   ],
   "source": [
    "plot_learning(X_scaled,y)"
   ]
  },
  {
   "cell_type": "markdown",
   "metadata": {},
   "source": []
  }
 ],
 "metadata": {
  "interpreter": {
   "hash": "1971ae5dab8dc290f9accc674fa124c050b055041fca049f8419bf66410c4162"
  },
  "kernelspec": {
   "display_name": "Python 3.8.12 64-bit ('boonen')",
   "language": "python",
   "name": "python3"
  },
  "language_info": {
   "codemirror_mode": {
    "name": "ipython",
    "version": 3
   },
   "file_extension": ".py",
   "mimetype": "text/x-python",
   "name": "python",
   "nbconvert_exporter": "python",
   "pygments_lexer": "ipython3",
   "version": "3.8.12"
  },
  "orig_nbformat": 4
 },
 "nbformat": 4,
 "nbformat_minor": 2
}
