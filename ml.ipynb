{
 "cells": [
  {
   "cell_type": "code",
   "execution_count": 39,
   "metadata": {},
   "outputs": [],
   "source": [
    "import pandas as pd"
   ]
  },
  {
   "cell_type": "markdown",
   "metadata": {},
   "source": [
    "#### Import CSV"
   ]
  },
  {
   "cell_type": "code",
   "execution_count": 40,
   "metadata": {},
   "outputs": [],
   "source": [
    "df = pd.read_csv('data/training.csv', index_col=0)"
   ]
  },
  {
   "cell_type": "markdown",
   "metadata": {},
   "source": [
    "#### Get X & Y"
   ]
  },
  {
   "cell_type": "code",
   "execution_count": 41,
   "metadata": {},
   "outputs": [],
   "source": [
    "X = df.drop(columns=['rider', 'team', 'key', 'target', 'year'])\n",
    "X.fillna(0, inplace=True)\n",
    "y = df.target"
   ]
  },
  {
   "cell_type": "code",
   "execution_count": 46,
   "metadata": {},
   "outputs": [
    {
     "data": {
      "text/html": [
       "<div>\n",
       "<style scoped>\n",
       "    .dataframe tbody tr th:only-of-type {\n",
       "        vertical-align: middle;\n",
       "    }\n",
       "\n",
       "    .dataframe tbody tr th {\n",
       "        vertical-align: top;\n",
       "    }\n",
       "\n",
       "    .dataframe thead th {\n",
       "        text-align: right;\n",
       "    }\n",
       "</style>\n",
       "<table border=\"1\" class=\"dataframe\">\n",
       "  <thead>\n",
       "    <tr style=\"text-align: right;\">\n",
       "      <th></th>\n",
       "      <th>age</th>\n",
       "      <th>team_points</th>\n",
       "      <th>best-classic-riders</th>\n",
       "      <th>top-gc-riders</th>\n",
       "      <th>top-sprinters</th>\n",
       "      <th>top-time-trial-riders</th>\n",
       "      <th>profile_type</th>\n",
       "      <th>profile_score</th>\n",
       "      <th>profile_vert</th>\n",
       "      <th>scorito</th>\n",
       "      <th>strength</th>\n",
       "      <th>finished</th>\n",
       "    </tr>\n",
       "  </thead>\n",
       "  <tbody>\n",
       "    <tr>\n",
       "      <th>666</th>\n",
       "      <td>38</td>\n",
       "      <td>1486</td>\n",
       "      <td>14.0</td>\n",
       "      <td>0.0</td>\n",
       "      <td>0.0</td>\n",
       "      <td>0.0</td>\n",
       "      <td>2.952381</td>\n",
       "      <td>138.190476</td>\n",
       "      <td>2478.047619</td>\n",
       "      <td>66.0</td>\n",
       "      <td>36.0</td>\n",
       "      <td>0.916667</td>\n",
       "    </tr>\n",
       "    <tr>\n",
       "      <th>530</th>\n",
       "      <td>37</td>\n",
       "      <td>1459</td>\n",
       "      <td>0.0</td>\n",
       "      <td>0.0</td>\n",
       "      <td>0.0</td>\n",
       "      <td>0.0</td>\n",
       "      <td>3.142857</td>\n",
       "      <td>135.476190</td>\n",
       "      <td>2437.476190</td>\n",
       "      <td>66.0</td>\n",
       "      <td>28.0</td>\n",
       "      <td>0.909091</td>\n",
       "    </tr>\n",
       "    <tr>\n",
       "      <th>213</th>\n",
       "      <td>39</td>\n",
       "      <td>2364</td>\n",
       "      <td>83.0</td>\n",
       "      <td>0.0</td>\n",
       "      <td>0.0</td>\n",
       "      <td>54.0</td>\n",
       "      <td>2.952381</td>\n",
       "      <td>134.285714</td>\n",
       "      <td>2570.619048</td>\n",
       "      <td>0.0</td>\n",
       "      <td>53.0</td>\n",
       "      <td>0.818182</td>\n",
       "    </tr>\n",
       "    <tr>\n",
       "      <th>285</th>\n",
       "      <td>39</td>\n",
       "      <td>1765</td>\n",
       "      <td>10.0</td>\n",
       "      <td>0.0</td>\n",
       "      <td>0.0</td>\n",
       "      <td>0.0</td>\n",
       "      <td>2.952381</td>\n",
       "      <td>134.285714</td>\n",
       "      <td>2570.619048</td>\n",
       "      <td>0.0</td>\n",
       "      <td>33.0</td>\n",
       "      <td>0.818182</td>\n",
       "    </tr>\n",
       "    <tr>\n",
       "      <th>291</th>\n",
       "      <td>36</td>\n",
       "      <td>1603</td>\n",
       "      <td>0.0</td>\n",
       "      <td>0.0</td>\n",
       "      <td>38.0</td>\n",
       "      <td>0.0</td>\n",
       "      <td>2.952381</td>\n",
       "      <td>134.285714</td>\n",
       "      <td>2570.619048</td>\n",
       "      <td>66.0</td>\n",
       "      <td>32.0</td>\n",
       "      <td>0.818182</td>\n",
       "    </tr>\n",
       "  </tbody>\n",
       "</table>\n",
       "</div>"
      ],
      "text/plain": [
       "     age  team_points  best-classic-riders  top-gc-riders  top-sprinters  \\\n",
       "666   38         1486                 14.0            0.0            0.0   \n",
       "530   37         1459                  0.0            0.0            0.0   \n",
       "213   39         2364                 83.0            0.0            0.0   \n",
       "285   39         1765                 10.0            0.0            0.0   \n",
       "291   36         1603                  0.0            0.0           38.0   \n",
       "\n",
       "     top-time-trial-riders  profile_type  profile_score  profile_vert  \\\n",
       "666                    0.0      2.952381     138.190476   2478.047619   \n",
       "530                    0.0      3.142857     135.476190   2437.476190   \n",
       "213                   54.0      2.952381     134.285714   2570.619048   \n",
       "285                    0.0      2.952381     134.285714   2570.619048   \n",
       "291                    0.0      2.952381     134.285714   2570.619048   \n",
       "\n",
       "     scorito  strength  finished  \n",
       "666     66.0      36.0  0.916667  \n",
       "530     66.0      28.0  0.909091  \n",
       "213      0.0      53.0  0.818182  \n",
       "285      0.0      33.0  0.818182  \n",
       "291     66.0      32.0  0.818182  "
      ]
     },
     "execution_count": 46,
     "metadata": {},
     "output_type": "execute_result"
    }
   ],
   "source": [
    "X.head()"
   ]
  },
  {
   "cell_type": "code",
   "execution_count": 42,
   "metadata": {},
   "outputs": [],
   "source": [
    "X_year = df.drop(columns=['rider', 'team', 'key', 'target']).fillna(0)\n",
    "X_train = X_year[X_year['year']!=2021].drop(columns='year')\n",
    "X_test = X_year[X_year['year']==2021].drop(columns='year')\n",
    "y_year = df[['year', 'target']]\n",
    "y_train = y_year[y_year['year']!=2021].drop(columns='year')\n",
    "y_test = y_year[y_year['year']==2021].drop(columns='year')"
   ]
  },
  {
   "cell_type": "markdown",
   "metadata": {},
   "source": [
    "#### Check na"
   ]
  },
  {
   "cell_type": "code",
   "execution_count": 43,
   "metadata": {},
   "outputs": [
    {
     "data": {
      "text/html": [
       "<div>\n",
       "<style scoped>\n",
       "    .dataframe tbody tr th:only-of-type {\n",
       "        vertical-align: middle;\n",
       "    }\n",
       "\n",
       "    .dataframe tbody tr th {\n",
       "        vertical-align: top;\n",
       "    }\n",
       "\n",
       "    .dataframe thead th {\n",
       "        text-align: right;\n",
       "    }\n",
       "</style>\n",
       "<table border=\"1\" class=\"dataframe\">\n",
       "  <thead>\n",
       "    <tr style=\"text-align: right;\">\n",
       "      <th></th>\n",
       "      <th>age</th>\n",
       "      <th>team_points</th>\n",
       "      <th>best-classic-riders</th>\n",
       "      <th>top-gc-riders</th>\n",
       "      <th>top-sprinters</th>\n",
       "      <th>top-time-trial-riders</th>\n",
       "      <th>profile_type</th>\n",
       "      <th>profile_score</th>\n",
       "      <th>profile_vert</th>\n",
       "      <th>scorito</th>\n",
       "      <th>strength</th>\n",
       "      <th>finished</th>\n",
       "    </tr>\n",
       "  </thead>\n",
       "  <tbody>\n",
       "    <tr>\n",
       "      <th>age</th>\n",
       "      <td>1.000000</td>\n",
       "      <td>0.040574</td>\n",
       "      <td>0.072090</td>\n",
       "      <td>-0.034940</td>\n",
       "      <td>-0.079501</td>\n",
       "      <td>-0.002566</td>\n",
       "      <td>-0.040316</td>\n",
       "      <td>0.085066</td>\n",
       "      <td>0.011335</td>\n",
       "      <td>0.001007</td>\n",
       "      <td>0.006071</td>\n",
       "      <td>0.631276</td>\n",
       "    </tr>\n",
       "    <tr>\n",
       "      <th>team_points</th>\n",
       "      <td>0.040574</td>\n",
       "      <td>1.000000</td>\n",
       "      <td>0.151833</td>\n",
       "      <td>0.221839</td>\n",
       "      <td>0.057008</td>\n",
       "      <td>0.068614</td>\n",
       "      <td>0.340108</td>\n",
       "      <td>-0.462032</td>\n",
       "      <td>-0.147412</td>\n",
       "      <td>0.124635</td>\n",
       "      <td>-0.080637</td>\n",
       "      <td>0.055173</td>\n",
       "    </tr>\n",
       "    <tr>\n",
       "      <th>best-classic-riders</th>\n",
       "      <td>0.072090</td>\n",
       "      <td>0.151833</td>\n",
       "      <td>1.000000</td>\n",
       "      <td>0.198326</td>\n",
       "      <td>0.609911</td>\n",
       "      <td>-0.028056</td>\n",
       "      <td>0.036229</td>\n",
       "      <td>-0.059669</td>\n",
       "      <td>0.016565</td>\n",
       "      <td>0.182265</td>\n",
       "      <td>0.007661</td>\n",
       "      <td>0.078680</td>\n",
       "    </tr>\n",
       "    <tr>\n",
       "      <th>top-gc-riders</th>\n",
       "      <td>-0.034940</td>\n",
       "      <td>0.221839</td>\n",
       "      <td>0.198326</td>\n",
       "      <td>1.000000</td>\n",
       "      <td>-0.046630</td>\n",
       "      <td>0.290569</td>\n",
       "      <td>0.029261</td>\n",
       "      <td>-0.027056</td>\n",
       "      <td>0.035174</td>\n",
       "      <td>0.315724</td>\n",
       "      <td>-0.031648</td>\n",
       "      <td>0.042491</td>\n",
       "    </tr>\n",
       "    <tr>\n",
       "      <th>top-sprinters</th>\n",
       "      <td>-0.079501</td>\n",
       "      <td>0.057008</td>\n",
       "      <td>0.609911</td>\n",
       "      <td>-0.046630</td>\n",
       "      <td>1.000000</td>\n",
       "      <td>-0.074447</td>\n",
       "      <td>0.007433</td>\n",
       "      <td>-0.058360</td>\n",
       "      <td>-0.008576</td>\n",
       "      <td>0.156655</td>\n",
       "      <td>-0.006828</td>\n",
       "      <td>-0.079514</td>\n",
       "    </tr>\n",
       "    <tr>\n",
       "      <th>top-time-trial-riders</th>\n",
       "      <td>-0.002566</td>\n",
       "      <td>0.068614</td>\n",
       "      <td>-0.028056</td>\n",
       "      <td>0.290569</td>\n",
       "      <td>-0.074447</td>\n",
       "      <td>1.000000</td>\n",
       "      <td>-0.013543</td>\n",
       "      <td>0.003559</td>\n",
       "      <td>0.081886</td>\n",
       "      <td>0.210517</td>\n",
       "      <td>-0.005966</td>\n",
       "      <td>-0.061217</td>\n",
       "    </tr>\n",
       "    <tr>\n",
       "      <th>profile_type</th>\n",
       "      <td>-0.040316</td>\n",
       "      <td>0.340108</td>\n",
       "      <td>0.036229</td>\n",
       "      <td>0.029261</td>\n",
       "      <td>0.007433</td>\n",
       "      <td>-0.013543</td>\n",
       "      <td>1.000000</td>\n",
       "      <td>-0.744882</td>\n",
       "      <td>0.121583</td>\n",
       "      <td>-0.007050</td>\n",
       "      <td>0.228467</td>\n",
       "      <td>0.065113</td>\n",
       "    </tr>\n",
       "    <tr>\n",
       "      <th>profile_score</th>\n",
       "      <td>0.085066</td>\n",
       "      <td>-0.462032</td>\n",
       "      <td>-0.059669</td>\n",
       "      <td>-0.027056</td>\n",
       "      <td>-0.058360</td>\n",
       "      <td>0.003559</td>\n",
       "      <td>-0.744882</td>\n",
       "      <td>1.000000</td>\n",
       "      <td>-0.135332</td>\n",
       "      <td>-0.022542</td>\n",
       "      <td>0.142283</td>\n",
       "      <td>0.070343</td>\n",
       "    </tr>\n",
       "    <tr>\n",
       "      <th>profile_vert</th>\n",
       "      <td>0.011335</td>\n",
       "      <td>-0.147412</td>\n",
       "      <td>0.016565</td>\n",
       "      <td>0.035174</td>\n",
       "      <td>-0.008576</td>\n",
       "      <td>0.081886</td>\n",
       "      <td>0.121583</td>\n",
       "      <td>-0.135332</td>\n",
       "      <td>1.000000</td>\n",
       "      <td>-0.013778</td>\n",
       "      <td>0.265170</td>\n",
       "      <td>0.156984</td>\n",
       "    </tr>\n",
       "    <tr>\n",
       "      <th>scorito</th>\n",
       "      <td>0.001007</td>\n",
       "      <td>0.124635</td>\n",
       "      <td>0.182265</td>\n",
       "      <td>0.315724</td>\n",
       "      <td>0.156655</td>\n",
       "      <td>0.210517</td>\n",
       "      <td>-0.007050</td>\n",
       "      <td>-0.022542</td>\n",
       "      <td>-0.013778</td>\n",
       "      <td>1.000000</td>\n",
       "      <td>-0.047981</td>\n",
       "      <td>0.118541</td>\n",
       "    </tr>\n",
       "    <tr>\n",
       "      <th>strength</th>\n",
       "      <td>0.006071</td>\n",
       "      <td>-0.080637</td>\n",
       "      <td>0.007661</td>\n",
       "      <td>-0.031648</td>\n",
       "      <td>-0.006828</td>\n",
       "      <td>-0.005966</td>\n",
       "      <td>0.228467</td>\n",
       "      <td>0.142283</td>\n",
       "      <td>0.265170</td>\n",
       "      <td>-0.047981</td>\n",
       "      <td>1.000000</td>\n",
       "      <td>0.214642</td>\n",
       "    </tr>\n",
       "    <tr>\n",
       "      <th>finished</th>\n",
       "      <td>0.631276</td>\n",
       "      <td>0.055173</td>\n",
       "      <td>0.078680</td>\n",
       "      <td>0.042491</td>\n",
       "      <td>-0.079514</td>\n",
       "      <td>-0.061217</td>\n",
       "      <td>0.065113</td>\n",
       "      <td>0.070343</td>\n",
       "      <td>0.156984</td>\n",
       "      <td>0.118541</td>\n",
       "      <td>0.214642</td>\n",
       "      <td>1.000000</td>\n",
       "    </tr>\n",
       "  </tbody>\n",
       "</table>\n",
       "</div>"
      ],
      "text/plain": [
       "                            age  team_points  best-classic-riders  \\\n",
       "age                    1.000000     0.040574             0.072090   \n",
       "team_points            0.040574     1.000000             0.151833   \n",
       "best-classic-riders    0.072090     0.151833             1.000000   \n",
       "top-gc-riders         -0.034940     0.221839             0.198326   \n",
       "top-sprinters         -0.079501     0.057008             0.609911   \n",
       "top-time-trial-riders -0.002566     0.068614            -0.028056   \n",
       "profile_type          -0.040316     0.340108             0.036229   \n",
       "profile_score          0.085066    -0.462032            -0.059669   \n",
       "profile_vert           0.011335    -0.147412             0.016565   \n",
       "scorito                0.001007     0.124635             0.182265   \n",
       "strength               0.006071    -0.080637             0.007661   \n",
       "finished               0.631276     0.055173             0.078680   \n",
       "\n",
       "                       top-gc-riders  top-sprinters  top-time-trial-riders  \\\n",
       "age                        -0.034940      -0.079501              -0.002566   \n",
       "team_points                 0.221839       0.057008               0.068614   \n",
       "best-classic-riders         0.198326       0.609911              -0.028056   \n",
       "top-gc-riders               1.000000      -0.046630               0.290569   \n",
       "top-sprinters              -0.046630       1.000000              -0.074447   \n",
       "top-time-trial-riders       0.290569      -0.074447               1.000000   \n",
       "profile_type                0.029261       0.007433              -0.013543   \n",
       "profile_score              -0.027056      -0.058360               0.003559   \n",
       "profile_vert                0.035174      -0.008576               0.081886   \n",
       "scorito                     0.315724       0.156655               0.210517   \n",
       "strength                   -0.031648      -0.006828              -0.005966   \n",
       "finished                    0.042491      -0.079514              -0.061217   \n",
       "\n",
       "                       profile_type  profile_score  profile_vert   scorito  \\\n",
       "age                       -0.040316       0.085066      0.011335  0.001007   \n",
       "team_points                0.340108      -0.462032     -0.147412  0.124635   \n",
       "best-classic-riders        0.036229      -0.059669      0.016565  0.182265   \n",
       "top-gc-riders              0.029261      -0.027056      0.035174  0.315724   \n",
       "top-sprinters              0.007433      -0.058360     -0.008576  0.156655   \n",
       "top-time-trial-riders     -0.013543       0.003559      0.081886  0.210517   \n",
       "profile_type               1.000000      -0.744882      0.121583 -0.007050   \n",
       "profile_score             -0.744882       1.000000     -0.135332 -0.022542   \n",
       "profile_vert               0.121583      -0.135332      1.000000 -0.013778   \n",
       "scorito                   -0.007050      -0.022542     -0.013778  1.000000   \n",
       "strength                   0.228467       0.142283      0.265170 -0.047981   \n",
       "finished                   0.065113       0.070343      0.156984  0.118541   \n",
       "\n",
       "                       strength  finished  \n",
       "age                    0.006071  0.631276  \n",
       "team_points           -0.080637  0.055173  \n",
       "best-classic-riders    0.007661  0.078680  \n",
       "top-gc-riders         -0.031648  0.042491  \n",
       "top-sprinters         -0.006828 -0.079514  \n",
       "top-time-trial-riders -0.005966 -0.061217  \n",
       "profile_type           0.228467  0.065113  \n",
       "profile_score          0.142283  0.070343  \n",
       "profile_vert           0.265170  0.156984  \n",
       "scorito               -0.047981  0.118541  \n",
       "strength               1.000000  0.214642  \n",
       "finished               0.214642  1.000000  "
      ]
     },
     "execution_count": 43,
     "metadata": {},
     "output_type": "execute_result"
    }
   ],
   "source": [
    "corr = X.corr()\n",
    "corr"
   ]
  },
  {
   "cell_type": "code",
   "execution_count": 44,
   "metadata": {},
   "outputs": [
    {
     "data": {
      "image/png": "[encoded data removed]",
      "text/plain": [
       "<Figure size 432x288 with 2 Axes>"
      ]
     },
     "metadata": {
      "needs_background": "light"
     },
     "output_type": "display_data"
    }
   ],
   "source": [
    "import seaborn as sns\n",
    "sns.heatmap(corr, \n",
    "        xticklabels=corr.columns,\n",
    "        yticklabels=corr.columns,\n",
    "        cmap= \"YlGnBu\");"
   ]
  },
  {
   "cell_type": "code",
   "execution_count": 47,
   "metadata": {},
   "outputs": [
    {
     "data": {
      "text/plain": [
       "<AxesSubplot:>"
      ]
     },
     "execution_count": 47,
     "metadata": {},
     "output_type": "execute_result"
    },
    {
     "data": {
      "image/png": "[encoded data removed]",
      "text/plain": [
       "<Figure size 2160x432 with 1 Axes>"
      ]
     },
     "metadata": {
      "needs_background": "light"
     },
     "output_type": "display_data"
    }
   ],
   "source": [
    "import seaborn as sns\n",
    "import matplotlib.pyplot as plt\n",
    "\n",
    "\n",
    "plt.figure(figsize=(30,6))\n",
    "sns.boxplot(data=X)"
   ]
  },
  {
   "cell_type": "code",
   "execution_count": 55,
   "metadata": {},
   "outputs": [],
   "source": [
    "from sklearn.preprocessing import RobustScaler, MinMaxScaler\n",
    "\n",
    "scaler = RobustScaler()\n",
    "\n",
    "X_scaled = scaler.fit_transform(X)\n",
    "\n",
    "X_train_scaled = scaler.fit_transform(X_train)"
   ]
  },
  {
   "cell_type": "code",
   "execution_count": 56,
   "metadata": {},
   "outputs": [],
   "source": [
    "from sklearn.model_selection import cross_validate\n",
    "from sklearn.linear_model import LinearRegression, Lasso\n",
    "from sklearn.neighbors import KNeighborsRegressor\n",
    "from sklearn.svm import SVC\n",
    "\n",
    "model = Lasso()\n",
    "\n",
    "cv_results = cross_validate(model, X_scaled, y, cv=5, scoring='r2')"
   ]
  },
  {
   "cell_type": "code",
   "execution_count": 57,
   "metadata": {},
   "outputs": [
    {
     "data": {
      "text/plain": [
       "0.19859546735949474"
      ]
     },
     "execution_count": 57,
     "metadata": {},
     "output_type": "execute_result"
    }
   ],
   "source": [
    "cv_results['test_score'].mean()"
   ]
  },
  {
   "cell_type": "code",
   "execution_count": 51,
   "metadata": {},
   "outputs": [
    {
     "data": {
      "text/plain": [
       "Lasso()"
      ]
     },
     "execution_count": 51,
     "metadata": {},
     "output_type": "execute_result"
    }
   ],
   "source": [
    "model.fit(X_train_scaled, y_train)"
   ]
  },
  {
   "cell_type": "code",
   "execution_count": 52,
   "metadata": {},
   "outputs": [
    {
     "data": {
      "text/plain": [
       "0.17283640235543807"
      ]
     },
     "execution_count": 52,
     "metadata": {},
     "output_type": "execute_result"
    }
   ],
   "source": [
    "X_test_scaled = scaler.fit_transform(X_test)\n",
    "model.score(X_test_scaled, y_test)"
   ]
  },
  {
   "cell_type": "code",
   "execution_count": 53,
   "metadata": {},
   "outputs": [],
   "source": [
    "# YOUR CODE HERE\n",
    "from sklearn.model_selection import learning_curve\n",
    "import matplotlib.pyplot as plt\n",
    "import numpy as np\n",
    "\n",
    "def plot_learning(X,y):\n",
    "\n",
    "    train_sizes = [25,50,75,100,250,500,750,1000,1150, 1500]\n",
    "\n",
    "    train_sizes, train_scores, test_scores = learning_curve(model, X, y, train_sizes=train_sizes, cv=3)\n",
    "\n",
    "    plt.figure(figsize=(20,6))\n",
    "    plt.plot(train_sizes, np.mean(test_scores, axis=1), label='test scores')\n",
    "    plt.plot(train_sizes, np.mean(train_scores, axis=1), label='train scores')\n",
    "    plt.legend()\n",
    "    plt.title('Learning Curves')\n",
    "    plt.show()"
   ]
  },
  {
   "cell_type": "code",
   "execution_count": 54,
   "metadata": {},
   "outputs": [
    {
     "data": {
      "image/png": "[encoded data removed]",
      "text/plain": [
       "<Figure size 1440x432 with 1 Axes>"
      ]
     },
     "metadata": {
      "needs_background": "light"
     },
     "output_type": "display_data"
    }
   ],
   "source": [
    "plot_learning(X_scaled,y)"
   ]
  },
  {
   "cell_type": "markdown",
   "metadata": {},
   "source": []
  },
  {
   "cell_type": "markdown",
   "metadata": {},
   "source": []
  },
  {
   "cell_type": "markdown",
   "metadata": {},
   "source": []
  }
 ],
 "metadata": {
  "interpreter": {
   "hash": "1971ae5dab8dc290f9accc674fa124c050b055041fca049f8419bf66410c4162"
  },
  "kernelspec": {
   "display_name": "Python 3.8.12 64-bit ('boonen')",
   "language": "python",
   "name": "python3"
  },
  "language_info": {
   "codemirror_mode": {
    "name": "ipython",
    "version": 3
   },
   "file_extension": ".py",
   "mimetype": "text/x-python",
   "name": "python",
   "nbconvert_exporter": "python",
   "pygments_lexer": "ipython3",
   "version": "3.8.12"
  },
  "orig_nbformat": 4
 },
 "nbformat": 4,
 "nbformat_minor": 2
}
