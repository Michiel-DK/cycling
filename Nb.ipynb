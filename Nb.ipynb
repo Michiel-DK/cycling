{
 "cells": [
  {
   "cell_type": "code",
   "execution_count": 69,
   "id": "1aba7839",
   "metadata": {},
   "outputs": [],
   "source": [
    "from bs4 import BeautifulSoup\n",
    "import requests\n",
    "import pandas as pd\n",
    "import numpy as np"
   ]
  },
  {
   "cell_type": "code",
   "execution_count": 70,
   "id": "3c9b203a",
   "metadata": {},
   "outputs": [],
   "source": [
    "years = [2017,2018,2019,2020,2021]"
   ]
  },
  {
   "cell_type": "code",
   "execution_count": 71,
   "id": "0b0dad2c",
   "metadata": {},
   "outputs": [],
   "source": [
    "categories = ['top-gc-riders', 'top-sprinters', 'top-time-trial-riders', 'best-classic-riders']"
   ]
  },
  {
   "cell_type": "code",
   "execution_count": 72,
   "id": "6f17a3f1",
   "metadata": {},
   "outputs": [],
   "source": [
    "def chunks(lst, n, start):\n",
    "    \"\"\"Yield successive n-sized chunks from lst.\"\"\"\n",
    "    for i in range(start, len(lst), n):\n",
    "        return lst[i:i + n]"
   ]
  },
  {
   "cell_type": "code",
   "execution_count": 73,
   "id": "2d055842",
   "metadata": {},
   "outputs": [],
   "source": [
    "def clean_scrape_profile(row, category, year):\n",
    "    di = {}\n",
    "    name = row[1].text.lstrip()\n",
    "    team = row[2].text\n",
    "    points = row[3].text\n",
    "    ranking = row[4].text\n",
    "    di['name'] = name\n",
    "    di['team'] = team\n",
    "    di['points'] = points\n",
    "    di['ranking'] = ranking\n",
    "    di['type'] = category\n",
    "    di['year'] = year\n",
    "    return di"
   ]
  },
  {
   "cell_type": "code",
   "execution_count": 74,
   "id": "0b88ca58",
   "metadata": {},
   "outputs": [],
   "source": [
    "def clean_scrape_performance(row, year):\n",
    "    di = {}\n",
    "    name_s = row[1].text.strip()\n",
    "    name_ls = name_s.split()\n",
    "    name = ' '.join([i.capitalize() for i in name_ls])\n",
    "    gc_result = row[2].text\n",
    "    giro_w = row[3].text\n",
    "    stage_result = row[4].text\n",
    "    stage_wins = row[5].text\n",
    "    top10 = row[5].text\n",
    "    total = row[7].text\n",
    "    di['name'] = name\n",
    "    di['gc_result'] = gc_result\n",
    "    di['giro_w'] = giro_w\n",
    "    di['stage_result'] = stage_result\n",
    "    di['stage_wins'] = stage_wins\n",
    "    di['top10'] = top10\n",
    "    di['giro_total'] = total\n",
    "    di['year'] = year\n",
    "    return di"
   ]
  },
  {
   "cell_type": "code",
   "execution_count": 75,
   "id": "6fda6afc",
   "metadata": {},
   "outputs": [],
   "source": [
    "def clean_scrape_teams(row, year):\n",
    "    di = {}\n",
    "    team = row[1].text.lstrip()\n",
    "    division = row[2].text\n",
    "    points = row[3].text\n",
    "    di['team'] = team\n",
    "    di['team_class'] = division\n",
    "    di['team_points'] = points\n",
    "    di['year'] = year\n",
    "    return di"
   ]
  },
  {
   "cell_type": "code",
   "execution_count": 76,
   "id": "12aecca3",
   "metadata": {},
   "outputs": [],
   "source": [
    "def clean_age(row, year):\n",
    "    di = {}\n",
    "    name = row[1].text.lstrip()\n",
    "    team = row[2].text\n",
    "    age = row[3].text\n",
    "    di['name'] = name\n",
    "    di['team'] = team\n",
    "    di['age'] = age[0:2]\n",
    "    di['year'] = year\n",
    "    return di"
   ]
  },
  {
   "cell_type": "code",
   "execution_count": 77,
   "id": "7f0074f8",
   "metadata": {},
   "outputs": [],
   "source": [
    "master_df = pd.DataFrame(columns=['name','team','points','ranking','type','year'])"
   ]
  },
  {
   "cell_type": "code",
   "execution_count": 78,
   "id": "c082f767",
   "metadata": {},
   "outputs": [],
   "source": [
    "all_riders = []"
   ]
  },
  {
   "cell_type": "code",
   "execution_count": 79,
   "id": "9e806ae0",
   "metadata": {},
   "outputs": [],
   "source": [
    "def get_age():\n",
    "    years = [2017,2018,2019,2020,2021]\n",
    "    master_df_ls = []\n",
    "    for year in years:\n",
    "            url = f'https://www.procyclingstats.com/race/giro-d-italia/{year}/gc/startlist/youngest-competitors'\n",
    "            response = requests.get(url)\n",
    "            soup = BeautifulSoup(response.content, 'html.parser')\n",
    "            td = soup.find_all('td')\n",
    "            full_list_chunks = np.arange(0,len(td), 4)\n",
    "            ls = []\n",
    "            for chunk in full_list_chunks:\n",
    "                try:\n",
    "                    di = clean_age(chunks(td, 4, chunk), year)\n",
    "                    ls.append(di)\n",
    "                except IndexError:\n",
    "                    continue\n",
    "                sub_df = pd.DataFrame.from_dict(ls)\n",
    "                master_df_ls.append(sub_df)\n",
    "    X1 = pd.concat(master_df_ls, ignore_index=True)\n",
    "    X1.to_csv('data_age.csv', index=False)\n",
    "get_age()"
   ]
  },
  {
   "cell_type": "code",
   "execution_count": 80,
   "id": "f60497a3",
   "metadata": {},
   "outputs": [],
   "source": [
    "def get_teams():\n",
    "    years = [2017,2018,2019,2020,2021]\n",
    "    master_df_ls = []\n",
    "    for year in years:\n",
    "            url = f'https://www.procyclingstats.com/race/giro-d-italia/{year}/gc/startlist/teams-ranked'\n",
    "            response = requests.get(url)\n",
    "            soup = BeautifulSoup(response.content, 'html.parser')\n",
    "            td = soup.find_all('td')\n",
    "            full_list_chunks = np.arange(0,len(td), 4)\n",
    "            ls = []\n",
    "            for chunk in full_list_chunks:\n",
    "                try:\n",
    "                    di = clean_scrape_teams(chunks(td, 4, chunk), year)\n",
    "                    ls.append(di)\n",
    "                except IndexError:\n",
    "                    continue\n",
    "                sub_df = pd.DataFrame.from_dict(ls)\n",
    "                master_df_ls.append(sub_df)\n",
    "    X1 = pd.concat(master_df_ls, ignore_index=True)\n",
    "    X1.to_csv('data_teams.csv', index=False)\n",
    "get_teams()"
   ]
  },
  {
   "cell_type": "code",
   "execution_count": 81,
   "id": "b746a7ca",
   "metadata": {},
   "outputs": [],
   "source": [
    "def get_performance():\n",
    "    years = [2017,2018,2019,2020,2021]\n",
    "    master_df_ls = []\n",
    "    for year in years:\n",
    "            url = f'https://www.procyclingstats.com/race/giro-d-italia/{year}/gc/startlist/previous-performance'\n",
    "            response = requests.get(url)\n",
    "            soup = BeautifulSoup(response.content, 'html.parser')\n",
    "            td = soup.find_all('td')\n",
    "            full_list_chunks = np.arange(0,len(td), 9)\n",
    "            ls = []\n",
    "            for chunk in full_list_chunks:\n",
    "                di = clean_scrape_performance(chunks(td, 9, chunk), year)\n",
    "                ls.append(di)\n",
    "            sub_df = pd.DataFrame.from_dict(ls)\n",
    "            master_df_ls.append(sub_df)\n",
    "    X1 = pd.concat(master_df_ls, ignore_index=True)\n",
    "    X1.to_csv('data_performance.csv', index=False)\n",
    "get_performance()"
   ]
  },
  {
   "cell_type": "code",
   "execution_count": 82,
   "id": "498867e3",
   "metadata": {},
   "outputs": [],
   "source": [
    "def get_profile():\n",
    "    categories = ['top-gc-riders', 'top-sprinters', 'top-time-trial-riders', 'best-classic-riders']\n",
    "    years = [2017,2018,2019,2020,2021]\n",
    "    master_df_ls = []\n",
    "    for year in years:\n",
    "        for category in categories:\n",
    "            url = f'https://www.procyclingstats.com/race.php?missing=0&filter=Filter&id1=giro-d-italia&id2={year}&id3=gc&id4=startlist&id5={category}'\n",
    "            response = requests.get(url)\n",
    "            soup = BeautifulSoup(response.content, 'html.parser')\n",
    "            td = soup.find_all('td')\n",
    "            full_list_chunks = np.arange(0,len(td), 5)\n",
    "            ls = []\n",
    "            for chunk in full_list_chunks:\n",
    "                di = clean_scrape_profile(chunks(td, 5, chunk), category, year)\n",
    "                ls.append(di)\n",
    "            sub_df = pd.DataFrame.from_dict(ls)\n",
    "            master_df_ls.append(sub_df)\n",
    "    X1 = pd.concat(master_df_ls, ignore_index=True)\n",
    "    X1.to_csv('data_profile.csv', index=False)\n",
    "get_profile()\n",
    "        \n",
    "        "
   ]
  },
  {
   "cell_type": "code",
   "execution_count": 83,
   "id": "42ef953c",
   "metadata": {},
   "outputs": [],
   "source": [
    "profile = pd.read_csv('data_profile.csv').drop_duplicates()\n",
    "age = pd.read_csv('data_age.csv').drop_duplicates()\n",
    "performance = pd.read_csv('data_performance.csv').drop_duplicates()\n",
    "teams = pd.read_csv('data_teams.csv').drop_duplicates()"
   ]
  },
  {
   "cell_type": "code",
   "execution_count": 84,
   "id": "2cdedf29",
   "metadata": {},
   "outputs": [
    {
     "data": {
      "text/html": [
       "<div>\n",
       "<style scoped>\n",
       "    .dataframe tbody tr th:only-of-type {\n",
       "        vertical-align: middle;\n",
       "    }\n",
       "\n",
       "    .dataframe tbody tr th {\n",
       "        vertical-align: top;\n",
       "    }\n",
       "\n",
       "    .dataframe thead th {\n",
       "        text-align: right;\n",
       "    }\n",
       "</style>\n",
       "<table border=\"1\" class=\"dataframe\">\n",
       "  <thead>\n",
       "    <tr style=\"text-align: right;\">\n",
       "      <th></th>\n",
       "      <th>name</th>\n",
       "      <th>team</th>\n",
       "      <th>age</th>\n",
       "      <th>year</th>\n",
       "    </tr>\n",
       "  </thead>\n",
       "  <tbody>\n",
       "    <tr>\n",
       "      <th>0</th>\n",
       "      <td>Albanese Vincenzo</td>\n",
       "      <td>Bardiani - CSF</td>\n",
       "      <td>20</td>\n",
       "      <td>2017</td>\n",
       "    </tr>\n",
       "    <tr>\n",
       "      <th>2</th>\n",
       "      <td>Martínez Daniel Felipe</td>\n",
       "      <td>Wilier Triestina - Selle Italia</td>\n",
       "      <td>21</td>\n",
       "      <td>2017</td>\n",
       "    </tr>\n",
       "    <tr>\n",
       "      <th>5</th>\n",
       "      <td>Pedersen Mads</td>\n",
       "      <td>Trek - Segafredo</td>\n",
       "      <td>21</td>\n",
       "      <td>2017</td>\n",
       "    </tr>\n",
       "    <tr>\n",
       "      <th>9</th>\n",
       "      <td>De Plus Laurens</td>\n",
       "      <td>Quick-Step Floors</td>\n",
       "      <td>21</td>\n",
       "      <td>2017</td>\n",
       "    </tr>\n",
       "    <tr>\n",
       "      <th>14</th>\n",
       "      <td>Schlegel Michal</td>\n",
       "      <td>CCC Sprandi Polkowice</td>\n",
       "      <td>21</td>\n",
       "      <td>2017</td>\n",
       "    </tr>\n",
       "    <tr>\n",
       "      <th>...</th>\n",
       "      <td>...</td>\n",
       "      <td>...</td>\n",
       "      <td>...</td>\n",
       "      <td>...</td>\n",
       "    </tr>\n",
       "    <tr>\n",
       "      <th>82520</th>\n",
       "      <td>Richeze Maximiliano</td>\n",
       "      <td>UAE Team Emirates</td>\n",
       "      <td>38</td>\n",
       "      <td>2021</td>\n",
       "    </tr>\n",
       "    <tr>\n",
       "      <th>82701</th>\n",
       "      <td>Visconti Giovanni</td>\n",
       "      <td>Bardiani-CSF-Faizanè</td>\n",
       "      <td>38</td>\n",
       "      <td>2021</td>\n",
       "    </tr>\n",
       "    <tr>\n",
       "      <th>82883</th>\n",
       "      <td>Keisse Iljo</td>\n",
       "      <td>Deceuninck - Quick Step</td>\n",
       "      <td>38</td>\n",
       "      <td>2021</td>\n",
       "    </tr>\n",
       "    <tr>\n",
       "      <th>83066</th>\n",
       "      <td>Pozzovivo Domenico</td>\n",
       "      <td>Team Qhubeka ASSOS</td>\n",
       "      <td>38</td>\n",
       "      <td>2021</td>\n",
       "    </tr>\n",
       "    <tr>\n",
       "      <th>83250</th>\n",
       "      <td>de Kort Koen</td>\n",
       "      <td>Trek - Segafredo</td>\n",
       "      <td>38</td>\n",
       "      <td>2021</td>\n",
       "    </tr>\n",
       "  </tbody>\n",
       "</table>\n",
       "<p>909 rows × 4 columns</p>\n",
       "</div>"
      ],
      "text/plain": [
       "                         name                             team  age  year\n",
       "0           Albanese Vincenzo                   Bardiani - CSF   20  2017\n",
       "2      Martínez Daniel Felipe  Wilier Triestina - Selle Italia   21  2017\n",
       "5               Pedersen Mads                 Trek - Segafredo   21  2017\n",
       "9             De Plus Laurens                Quick-Step Floors   21  2017\n",
       "14            Schlegel Michal           CCC Sprandi Polkowice    21  2017\n",
       "...                       ...                              ...  ...   ...\n",
       "82520     Richeze Maximiliano                UAE Team Emirates   38  2021\n",
       "82701       Visconti Giovanni             Bardiani-CSF-Faizanè   38  2021\n",
       "82883             Keisse Iljo          Deceuninck - Quick Step   38  2021\n",
       "83066      Pozzovivo Domenico               Team Qhubeka ASSOS   38  2021\n",
       "83250            de Kort Koen                 Trek - Segafredo   38  2021\n",
       "\n",
       "[909 rows x 4 columns]"
      ]
     },
     "execution_count": 84,
     "metadata": {},
     "output_type": "execute_result"
    }
   ],
   "source": [
    "age"
   ]
  },
  {
   "cell_type": "code",
   "execution_count": 94,
   "id": "124f583e",
   "metadata": {},
   "outputs": [],
   "source": [
    "table2 = pd.merge(profile, age,  how='outer', left_on=['name','year', 'team'], right_on = ['name','year', 'team'])"
   ]
  },
  {
   "cell_type": "code",
   "execution_count": 95,
   "id": "74cae8f0",
   "metadata": {},
   "outputs": [],
   "source": [
    "#table3 = pd.merge(table2, performance, how='outer', left_on=['name','year'], right_on = ['name','year'])"
   ]
  },
  {
   "cell_type": "code",
   "execution_count": 96,
   "id": "0b25e5b1",
   "metadata": {},
   "outputs": [],
   "source": [
    "table4 = pd.merge(table2, teams, how='outer', left_on=['team','year'], right_on = ['team','year']).drop(columns=['ranking', 'team_class'])"
   ]
  },
  {
   "cell_type": "code",
   "execution_count": 97,
   "id": "6cc60cda",
   "metadata": {},
   "outputs": [
    {
     "data": {
      "text/html": [
       "<div>\n",
       "<style scoped>\n",
       "    .dataframe tbody tr th:only-of-type {\n",
       "        vertical-align: middle;\n",
       "    }\n",
       "\n",
       "    .dataframe tbody tr th {\n",
       "        vertical-align: top;\n",
       "    }\n",
       "\n",
       "    .dataframe thead th {\n",
       "        text-align: right;\n",
       "    }\n",
       "</style>\n",
       "<table border=\"1\" class=\"dataframe\">\n",
       "  <thead>\n",
       "    <tr style=\"text-align: right;\">\n",
       "      <th></th>\n",
       "      <th>name</th>\n",
       "      <th>team</th>\n",
       "      <th>points</th>\n",
       "      <th>type</th>\n",
       "      <th>year</th>\n",
       "      <th>age</th>\n",
       "      <th>team_points</th>\n",
       "    </tr>\n",
       "  </thead>\n",
       "  <tbody>\n",
       "    <tr>\n",
       "      <th>0</th>\n",
       "      <td>Quintana Nairo</td>\n",
       "      <td>Movistar Team</td>\n",
       "      <td>1550.0</td>\n",
       "      <td>top-gc-riders</td>\n",
       "      <td>2017</td>\n",
       "      <td>27</td>\n",
       "      <td>3999</td>\n",
       "    </tr>\n",
       "    <tr>\n",
       "      <th>1</th>\n",
       "      <td>Quintana Nairo</td>\n",
       "      <td>Movistar Team</td>\n",
       "      <td>34.6</td>\n",
       "      <td>top-sprinters</td>\n",
       "      <td>2017</td>\n",
       "      <td>27</td>\n",
       "      <td>3999</td>\n",
       "    </tr>\n",
       "    <tr>\n",
       "      <th>2</th>\n",
       "      <td>Quintana Nairo</td>\n",
       "      <td>Movistar Team</td>\n",
       "      <td>358.0</td>\n",
       "      <td>top-time-trial-riders</td>\n",
       "      <td>2017</td>\n",
       "      <td>27</td>\n",
       "      <td>3999</td>\n",
       "    </tr>\n",
       "    <tr>\n",
       "      <th>3</th>\n",
       "      <td>Izagirre Gorka</td>\n",
       "      <td>Movistar Team</td>\n",
       "      <td>267.0</td>\n",
       "      <td>top-gc-riders</td>\n",
       "      <td>2017</td>\n",
       "      <td>29</td>\n",
       "      <td>3999</td>\n",
       "    </tr>\n",
       "    <tr>\n",
       "      <th>4</th>\n",
       "      <td>Izagirre Gorka</td>\n",
       "      <td>Movistar Team</td>\n",
       "      <td>39.3</td>\n",
       "      <td>top-sprinters</td>\n",
       "      <td>2017</td>\n",
       "      <td>29</td>\n",
       "      <td>3999</td>\n",
       "    </tr>\n",
       "  </tbody>\n",
       "</table>\n",
       "</div>"
      ],
      "text/plain": [
       "             name           team  points                   type  year  age  \\\n",
       "0  Quintana Nairo  Movistar Team  1550.0          top-gc-riders  2017   27   \n",
       "1  Quintana Nairo  Movistar Team    34.6          top-sprinters  2017   27   \n",
       "2  Quintana Nairo  Movistar Team   358.0  top-time-trial-riders  2017   27   \n",
       "3  Izagirre Gorka  Movistar Team   267.0          top-gc-riders  2017   29   \n",
       "4  Izagirre Gorka  Movistar Team    39.3          top-sprinters  2017   29   \n",
       "\n",
       "   team_points  \n",
       "0         3999  \n",
       "1         3999  \n",
       "2         3999  \n",
       "3         3999  \n",
       "4         3999  "
      ]
     },
     "execution_count": 97,
     "metadata": {},
     "output_type": "execute_result"
    }
   ],
   "source": [
    "table4.head()"
   ]
  },
  {
   "cell_type": "code",
   "execution_count": 89,
   "id": "1aa8269b",
   "metadata": {},
   "outputs": [],
   "source": [
    "sub = table4[['name', 'type', 'points', 'year']]\n",
    "sb = pd.pivot_table(sub, index=['name', 'year'], columns='type', values='points').reset_index()"
   ]
  },
  {
   "cell_type": "code",
   "execution_count": 90,
   "id": "f8bd1e09",
   "metadata": {},
   "outputs": [],
   "source": [
    "table5 = pd.merge(table4, sb, how='outer', left_on=['name','year'], right_on = ['name','year']).drop(columns=['type', 'points']).drop_duplicates()"
   ]
  },
  {
   "cell_type": "code",
   "execution_count": 91,
   "id": "1c7d54dc",
   "metadata": {},
   "outputs": [
    {
     "data": {
      "text/html": [
       "<div>\n",
       "<style scoped>\n",
       "    .dataframe tbody tr th:only-of-type {\n",
       "        vertical-align: middle;\n",
       "    }\n",
       "\n",
       "    .dataframe tbody tr th {\n",
       "        vertical-align: top;\n",
       "    }\n",
       "\n",
       "    .dataframe thead th {\n",
       "        text-align: right;\n",
       "    }\n",
       "</style>\n",
       "<table border=\"1\" class=\"dataframe\">\n",
       "  <thead>\n",
       "    <tr style=\"text-align: right;\">\n",
       "      <th></th>\n",
       "      <th>name</th>\n",
       "      <th>team</th>\n",
       "      <th>year</th>\n",
       "      <th>age</th>\n",
       "      <th>gc_result</th>\n",
       "      <th>giro_w</th>\n",
       "      <th>stage_result</th>\n",
       "      <th>stage_wins</th>\n",
       "      <th>top10</th>\n",
       "      <th>giro_total</th>\n",
       "      <th>team_points</th>\n",
       "      <th>best-classic-riders</th>\n",
       "      <th>top-gc-riders</th>\n",
       "      <th>top-sprinters</th>\n",
       "      <th>top-time-trial-riders</th>\n",
       "    </tr>\n",
       "  </thead>\n",
       "  <tbody>\n",
       "    <tr>\n",
       "      <th>139</th>\n",
       "      <td>Dumoulin Tom</td>\n",
       "      <td>Team Sunweb</td>\n",
       "      <td>2017</td>\n",
       "      <td>26.0</td>\n",
       "      <td>1</td>\n",
       "      <td>1</td>\n",
       "      <td>1.0</td>\n",
       "      <td>4</td>\n",
       "      <td>4</td>\n",
       "      <td>1435.0</td>\n",
       "      <td>2929.0</td>\n",
       "      <td>NaN</td>\n",
       "      <td>425.0</td>\n",
       "      <td>49.0</td>\n",
       "      <td>1212.0</td>\n",
       "    </tr>\n",
       "    <tr>\n",
       "      <th>499</th>\n",
       "      <td>Dumoulin Tom</td>\n",
       "      <td>Team Sunweb</td>\n",
       "      <td>2018</td>\n",
       "      <td>27.0</td>\n",
       "      <td>1</td>\n",
       "      <td>1</td>\n",
       "      <td>1.0</td>\n",
       "      <td>4</td>\n",
       "      <td>4</td>\n",
       "      <td>1435.0</td>\n",
       "      <td>2736.0</td>\n",
       "      <td>235.0</td>\n",
       "      <td>669.0</td>\n",
       "      <td>NaN</td>\n",
       "      <td>716.0</td>\n",
       "    </tr>\n",
       "    <tr>\n",
       "      <th>910</th>\n",
       "      <td>Dumoulin Tom</td>\n",
       "      <td>Team Sunweb</td>\n",
       "      <td>2019</td>\n",
       "      <td>28.0</td>\n",
       "      <td>1</td>\n",
       "      <td>1</td>\n",
       "      <td>1.0</td>\n",
       "      <td>4</td>\n",
       "      <td>4</td>\n",
       "      <td>1435.0</td>\n",
       "      <td>3763.0</td>\n",
       "      <td>197.0</td>\n",
       "      <td>717.0</td>\n",
       "      <td>32.2</td>\n",
       "      <td>680.0</td>\n",
       "    </tr>\n",
       "  </tbody>\n",
       "</table>\n",
       "</div>"
      ],
      "text/plain": [
       "             name         team  year   age gc_result giro_w  stage_result  \\\n",
       "139  Dumoulin Tom  Team Sunweb  2017  26.0         1      1           1.0   \n",
       "499  Dumoulin Tom  Team Sunweb  2018  27.0         1      1           1.0   \n",
       "910  Dumoulin Tom  Team Sunweb  2019  28.0         1      1           1.0   \n",
       "\n",
       "    stage_wins top10  giro_total  team_points  best-classic-riders  \\\n",
       "139          4     4      1435.0       2929.0                  NaN   \n",
       "499          4     4      1435.0       2736.0                235.0   \n",
       "910          4     4      1435.0       3763.0                197.0   \n",
       "\n",
       "     top-gc-riders  top-sprinters  top-time-trial-riders  \n",
       "139          425.0           49.0                 1212.0  \n",
       "499          669.0            NaN                  716.0  \n",
       "910          717.0           32.2                  680.0  "
      ]
     },
     "execution_count": 91,
     "metadata": {},
     "output_type": "execute_result"
    }
   ],
   "source": [
    "#table5.sort_values('name').head(30)\n",
    "table5[table5['name']==\"Dumoulin Tom\"]"
   ]
  },
  {
   "cell_type": "code",
   "execution_count": 92,
   "id": "89dc678a",
   "metadata": {},
   "outputs": [],
   "source": [
    "from sklearn.preprocessing import OneHotEncoder"
   ]
  },
  {
   "cell_type": "code",
   "execution_count": 93,
   "id": "09fc19b0",
   "metadata": {},
   "outputs": [
    {
     "ename": "TypeError",
     "evalue": "fit_transform() got an unexpected keyword argument 'sparse'",
     "output_type": "error",
     "traceback": [
      "\u001b[0;31m---------------------------------------------------------------------------\u001b[0m",
      "\u001b[0;31mTypeError\u001b[0m                                 Traceback (most recent call last)",
      "\u001b[1;32m/Users/michieldekoninck/code/Michiel-DK/cycling/Nb.ipynb Cell 25'\u001b[0m in \u001b[0;36m<cell line: 1>\u001b[0;34m()\u001b[0m\n\u001b[0;32m----> <a href='vscode-notebook-cell:/Users/michieldekoninck/code/Michiel-DK/cycling/Nb.ipynb#ch0000044?line=0'>1</a>\u001b[0m OneHotEncoder()\u001b[39m.\u001b[39;49mfit_transform(table4[[\u001b[39m'\u001b[39;49m\u001b[39mtype\u001b[39;49m\u001b[39m'\u001b[39;49m]], sparse\u001b[39m=\u001b[39;49m\u001b[39mFalse\u001b[39;49;00m)\n",
      "\u001b[0;31mTypeError\u001b[0m: fit_transform() got an unexpected keyword argument 'sparse'"
     ]
    }
   ],
   "source": [
    "OneHotEncoder().fit_transform(table4[['type']], sparse=False)"
   ]
  },
  {
   "cell_type": "code",
   "execution_count": null,
   "id": "c2a548b8",
   "metadata": {},
   "outputs": [],
   "source": [
    "response = requests.get(url)\n",
    "soup = BeautifulSoup(response.content, 'html.parser')"
   ]
  },
  {
   "cell_type": "code",
   "execution_count": null,
   "id": "3a911ab7",
   "metadata": {},
   "outputs": [
    {
     "data": {
      "text/plain": [
       "750"
      ]
     },
     "execution_count": 54,
     "metadata": {},
     "output_type": "execute_result"
    }
   ],
   "source": [
    "td = soup.find_all('td')"
   ]
  },
  {
   "cell_type": "code",
   "execution_count": null,
   "id": "bfdf7491",
   "metadata": {},
   "outputs": [
    {
     "data": {
      "text/plain": [
       "150"
      ]
     },
     "execution_count": 65,
     "metadata": {},
     "output_type": "execute_result"
    }
   ],
   "source": [
    "int(len(td)/5)"
   ]
  },
  {
   "cell_type": "code",
   "execution_count": null,
   "id": "9bfdcf9c",
   "metadata": {},
   "outputs": [],
   "source": [
    "full_list_chunks = np.arange(0,len(td), 5)\n"
   ]
  },
  {
   "cell_type": "code",
   "execution_count": null,
   "id": "de5918c3",
   "metadata": {},
   "outputs": [],
   "source": [
    "def chunks(lst, n, start):\n",
    "    \"\"\"Yield successive n-sized chunks from lst.\"\"\"\n",
    "    for i in range(start, len(lst), n):\n",
    "        return lst[i:i + n]"
   ]
  },
  {
   "cell_type": "code",
   "execution_count": null,
   "id": "9c644c25",
   "metadata": {},
   "outputs": [],
   "source": [
    "def clean_scrape(row):\n",
    "    di = {}\n",
    "    name = row[1].text.lstrip()\n",
    "    team = row[2].text\n",
    "    points = row[3].text\n",
    "    ranking = row[4].text\n",
    "    di['name'] = name\n",
    "    di['team'] = team\n",
    "    di['points'] = points\n",
    "    di['ranking'] = ranking\n",
    "    di['type'] = categories\n",
    "    di['year'] = '2021'\n",
    "    return di"
   ]
  },
  {
   "cell_type": "code",
   "execution_count": null,
   "id": "62b1f1e4",
   "metadata": {},
   "outputs": [],
   "source": [
    "ls = []\n",
    "for chunk in full_list_chunks:\n",
    "    di = clean_scrape(chunks(td, 5, chunk))\n",
    "    ls.append(di)"
   ]
  },
  {
   "cell_type": "code",
   "execution_count": null,
   "id": "49477e5b",
   "metadata": {},
   "outputs": [
    {
     "data": {
      "text/html": [
       "<div>\n",
       "<style scoped>\n",
       "    .dataframe tbody tr th:only-of-type {\n",
       "        vertical-align: middle;\n",
       "    }\n",
       "\n",
       "    .dataframe tbody tr th {\n",
       "        vertical-align: top;\n",
       "    }\n",
       "\n",
       "    .dataframe thead th {\n",
       "        text-align: right;\n",
       "    }\n",
       "</style>\n",
       "<table border=\"1\" class=\"dataframe\">\n",
       "  <thead>\n",
       "    <tr style=\"text-align: right;\">\n",
       "      <th></th>\n",
       "      <th>name</th>\n",
       "      <th>team</th>\n",
       "      <th>points</th>\n",
       "      <th>ranking</th>\n",
       "      <th>type</th>\n",
       "      <th>year</th>\n",
       "    </tr>\n",
       "  </thead>\n",
       "  <tbody>\n",
       "    <tr>\n",
       "      <th>0</th>\n",
       "      <td>Evenepoel Remco</td>\n",
       "      <td>Deceuninck - Quick Step</td>\n",
       "      <td>700</td>\n",
       "      <td>4</td>\n",
       "      <td>top-gc-riders</td>\n",
       "      <td>2021</td>\n",
       "    </tr>\n",
       "    <tr>\n",
       "      <th>1</th>\n",
       "      <td>Ulissi Diego</td>\n",
       "      <td>UAE Team Emirates</td>\n",
       "      <td>566</td>\n",
       "      <td>8</td>\n",
       "      <td>top-gc-riders</td>\n",
       "      <td>2021</td>\n",
       "    </tr>\n",
       "    <tr>\n",
       "      <th>2</th>\n",
       "      <td>Landa Mikel</td>\n",
       "      <td>Bahrain - Victorious</td>\n",
       "      <td>528</td>\n",
       "      <td>11</td>\n",
       "      <td>top-gc-riders</td>\n",
       "      <td>2021</td>\n",
       "    </tr>\n",
       "    <tr>\n",
       "      <th>3</th>\n",
       "      <td>Yates Simon</td>\n",
       "      <td>Team BikeExchange</td>\n",
       "      <td>528</td>\n",
       "      <td>10</td>\n",
       "      <td>top-gc-riders</td>\n",
       "      <td>2021</td>\n",
       "    </tr>\n",
       "    <tr>\n",
       "      <th>4</th>\n",
       "      <td>Hindley Jai</td>\n",
       "      <td>Team DSM</td>\n",
       "      <td>516</td>\n",
       "      <td>14</td>\n",
       "      <td>top-gc-riders</td>\n",
       "      <td>2021</td>\n",
       "    </tr>\n",
       "    <tr>\n",
       "      <th>...</th>\n",
       "      <td>...</td>\n",
       "      <td>...</td>\n",
       "      <td>...</td>\n",
       "      <td>...</td>\n",
       "      <td>...</td>\n",
       "      <td>...</td>\n",
       "    </tr>\n",
       "    <tr>\n",
       "      <th>145</th>\n",
       "      <td>Covi Alessandro</td>\n",
       "      <td>UAE Team Emirates</td>\n",
       "      <td>5</td>\n",
       "      <td>846</td>\n",
       "      <td>top-gc-riders</td>\n",
       "      <td>2021</td>\n",
       "    </tr>\n",
       "    <tr>\n",
       "      <th>146</th>\n",
       "      <td>Duchesne Antoine</td>\n",
       "      <td>Groupama - FDJ</td>\n",
       "      <td>5</td>\n",
       "      <td>885</td>\n",
       "      <td>top-gc-riders</td>\n",
       "      <td>2021</td>\n",
       "    </tr>\n",
       "    <tr>\n",
       "      <th>147</th>\n",
       "      <td>Petilli Simone</td>\n",
       "      <td>Intermarché - Wanty - Gobert Matériaux</td>\n",
       "      <td>5</td>\n",
       "      <td>871</td>\n",
       "      <td>top-gc-riders</td>\n",
       "      <td>2021</td>\n",
       "    </tr>\n",
       "    <tr>\n",
       "      <th>148</th>\n",
       "      <td>Nizzolo Giacomo</td>\n",
       "      <td>Team Qhubeka ASSOS</td>\n",
       "      <td>5</td>\n",
       "      <td>822</td>\n",
       "      <td>top-gc-riders</td>\n",
       "      <td>2021</td>\n",
       "    </tr>\n",
       "    <tr>\n",
       "      <th>149</th>\n",
       "      <td>Jorgenson Matteo</td>\n",
       "      <td>Movistar Team</td>\n",
       "      <td>5</td>\n",
       "      <td>891</td>\n",
       "      <td>top-gc-riders</td>\n",
       "      <td>2021</td>\n",
       "    </tr>\n",
       "  </tbody>\n",
       "</table>\n",
       "<p>150 rows × 6 columns</p>\n",
       "</div>"
      ],
      "text/plain": [
       "                 name                                    team points ranking  \\\n",
       "0     Evenepoel Remco                 Deceuninck - Quick Step    700       4   \n",
       "1        Ulissi Diego                       UAE Team Emirates    566       8   \n",
       "2         Landa Mikel                    Bahrain - Victorious    528      11   \n",
       "3         Yates Simon                       Team BikeExchange    528      10   \n",
       "4         Hindley Jai                                Team DSM    516      14   \n",
       "..                ...                                     ...    ...     ...   \n",
       "145   Covi Alessandro                       UAE Team Emirates      5     846   \n",
       "146  Duchesne Antoine                          Groupama - FDJ      5     885   \n",
       "147    Petilli Simone  Intermarché - Wanty - Gobert Matériaux      5     871   \n",
       "148   Nizzolo Giacomo                      Team Qhubeka ASSOS      5     822   \n",
       "149  Jorgenson Matteo                           Movistar Team      5     891   \n",
       "\n",
       "              type  year  \n",
       "0    top-gc-riders  2021  \n",
       "1    top-gc-riders  2021  \n",
       "2    top-gc-riders  2021  \n",
       "3    top-gc-riders  2021  \n",
       "4    top-gc-riders  2021  \n",
       "..             ...   ...  \n",
       "145  top-gc-riders  2021  \n",
       "146  top-gc-riders  2021  \n",
       "147  top-gc-riders  2021  \n",
       "148  top-gc-riders  2021  \n",
       "149  top-gc-riders  2021  \n",
       "\n",
       "[150 rows x 6 columns]"
      ]
     },
     "execution_count": 129,
     "metadata": {},
     "output_type": "execute_result"
    }
   ],
   "source": [
    "pd.DataFrame.from_dict(ls)"
   ]
  },
  {
   "cell_type": "code",
   "execution_count": null,
   "id": "639e22bd",
   "metadata": {},
   "outputs": [
    {
     "data": {
      "text/plain": [
       "[<td>2</td>,\n",
       " <td><span class=\"flag it\"></span> <a href=\"rider/diego-ulissi\"><span class=\"uppercase\">Ulissi</span> Diego</a></td>,\n",
       " <td>UAE Team Emirates</td>,\n",
       " <td>566</td>,\n",
       " <td>8</td>]"
      ]
     },
     "execution_count": 52,
     "metadata": {},
     "output_type": "execute_result"
    }
   ],
   "source": [
    "#row = chunks(td, 5, 0)\n",
    "row = chunks(td,5,5)\n",
    "row"
   ]
  },
  {
   "cell_type": "code",
   "execution_count": null,
   "id": "9eb620c7",
   "metadata": {},
   "outputs": [
    {
     "data": {
      "text/plain": [
       "{' Ulissi Diego': ['UAE Team Emirates', '566', '8']}"
      ]
     },
     "execution_count": 78,
     "metadata": {},
     "output_type": "execute_result"
    }
   ],
   "source": [
    "clean_scrape(row)"
   ]
  },
  {
   "cell_type": "code",
   "execution_count": null,
   "id": "eb35a79e",
   "metadata": {},
   "outputs": [
    {
     "ename": "SyntaxError",
     "evalue": "'return' outside function (1095910690.py, line 9)",
     "output_type": "error",
     "traceback": [
      "\u001b[0;36m  Input \u001b[0;32mIn [79]\u001b[0;36m\u001b[0m\n\u001b[0;31m    return di\u001b[0m\n\u001b[0m    ^\u001b[0m\n\u001b[0;31mSyntaxError\u001b[0m\u001b[0;31m:\u001b[0m 'return' outside function\n"
     ]
    }
   ],
   "source": [
    "di = {}\n",
    "#di2 = {}\n",
    "def clean_scrape(row):\n",
    "    name = row[1].text\n",
    "    team = row[2].text\n",
    "    points = row[3].text\n",
    "    ranking = row[4].text\n",
    "    di[name] = [team, points, ranking]\n",
    "    return di"
   ]
  },
  {
   "cell_type": "code",
   "execution_count": null,
   "id": "8a1b8c71",
   "metadata": {},
   "outputs": [
    {
     "data": {
      "text/plain": [
       "[{}, {' Evenepoel Remco': ['Deceuninck - Quick Step', '700', '4']}]"
      ]
     },
     "execution_count": 53,
     "metadata": {},
     "output_type": "execute_result"
    }
   ],
   "source": [
    "[di,di2]"
   ]
  },
  {
   "cell_type": "code",
   "execution_count": null,
   "id": "24e6ba0b",
   "metadata": {},
   "outputs": [
    {
     "data": {
      "text/html": [
       "<div>\n",
       "<style scoped>\n",
       "    .dataframe tbody tr th:only-of-type {\n",
       "        vertical-align: middle;\n",
       "    }\n",
       "\n",
       "    .dataframe tbody tr th {\n",
       "        vertical-align: top;\n",
       "    }\n",
       "\n",
       "    .dataframe thead th {\n",
       "        text-align: right;\n",
       "    }\n",
       "</style>\n",
       "<table border=\"1\" class=\"dataframe\">\n",
       "  <thead>\n",
       "    <tr style=\"text-align: right;\">\n",
       "      <th></th>\n",
       "      <th>0</th>\n",
       "      <th>1</th>\n",
       "      <th>2</th>\n",
       "    </tr>\n",
       "  </thead>\n",
       "  <tbody>\n",
       "    <tr>\n",
       "      <th>Evenepoel Remco</th>\n",
       "      <td>Deceuninck - Quick Step</td>\n",
       "      <td>700</td>\n",
       "      <td>4</td>\n",
       "    </tr>\n",
       "  </tbody>\n",
       "</table>\n",
       "</div>"
      ],
      "text/plain": [
       "                                        0    1  2\n",
       " Evenepoel Remco  Deceuninck - Quick Step  700  4"
      ]
     },
     "execution_count": 37,
     "metadata": {},
     "output_type": "execute_result"
    }
   ],
   "source": [
    "pd.DataFrame.from_dict(di).T"
   ]
  },
  {
   "cell_type": "code",
   "execution_count": null,
   "id": "57652df8",
   "metadata": {},
   "outputs": [],
   "source": []
  }
 ],
 "metadata": {
  "interpreter": {
   "hash": "1971ae5dab8dc290f9accc674fa124c050b055041fca049f8419bf66410c4162"
  },
  "kernelspec": {
   "display_name": "Python 3.8.12 64-bit ('boonen')",
   "language": "python",
   "name": "python3"
  },
  "language_info": {
   "codemirror_mode": {
    "name": "ipython",
    "version": 3
   },
   "file_extension": ".py",
   "mimetype": "text/x-python",
   "name": "python",
   "nbconvert_exporter": "python",
   "pygments_lexer": "ipython3",
   "version": "3.8.12"
  }
 },
 "nbformat": 4,
 "nbformat_minor": 5
}
